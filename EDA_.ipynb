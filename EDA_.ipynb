{
 "cells": [
  {
   "cell_type": "markdown",
   "metadata": {},
   "source": [
    "## Import some libraries "
   ]
  },
  {
   "cell_type": "code",
   "execution_count": 1,
   "metadata": {},
   "outputs": [],
   "source": [
    "import pandas as pd\n",
    "import numpy as np\n",
    "import matplotlib.pyplot as plt\n",
    "import plotly.express as px\n",
    "import seaborn as sns\n",
    "#import missingno as msno\n",
    "import sklearn"
   ]
  },
  {
   "cell_type": "markdown",
   "metadata": {},
   "source": [
    "## Import Dataset "
   ]
  },
  {
   "cell_type": "code",
   "execution_count": 2,
   "metadata": {},
   "outputs": [
    {
     "data": {
      "text/html": [
       "<div>\n",
       "<style scoped>\n",
       "    .dataframe tbody tr th:only-of-type {\n",
       "        vertical-align: middle;\n",
       "    }\n",
       "\n",
       "    .dataframe tbody tr th {\n",
       "        vertical-align: top;\n",
       "    }\n",
       "\n",
       "    .dataframe thead th {\n",
       "        text-align: right;\n",
       "    }\n",
       "</style>\n",
       "<table border=\"1\" class=\"dataframe\">\n",
       "  <thead>\n",
       "    <tr style=\"text-align: right;\">\n",
       "      <th></th>\n",
       "      <th>Date</th>\n",
       "      <th>Price</th>\n",
       "      <th>Open</th>\n",
       "      <th>High</th>\n",
       "      <th>Low</th>\n",
       "      <th>Vol.</th>\n",
       "      <th>Change %</th>\n",
       "    </tr>\n",
       "  </thead>\n",
       "  <tbody>\n",
       "    <tr>\n",
       "      <th>0</th>\n",
       "      <td>08/30/2023</td>\n",
       "      <td>0.9202</td>\n",
       "      <td>0.9200</td>\n",
       "      <td>0.9211</td>\n",
       "      <td>0.9194</td>\n",
       "      <td>NaN</td>\n",
       "      <td>0.15%</td>\n",
       "    </tr>\n",
       "    <tr>\n",
       "      <th>1</th>\n",
       "      <td>08/29/2023</td>\n",
       "      <td>0.9189</td>\n",
       "      <td>0.9247</td>\n",
       "      <td>0.9275</td>\n",
       "      <td>0.9180</td>\n",
       "      <td>NaN</td>\n",
       "      <td>-0.56%</td>\n",
       "    </tr>\n",
       "    <tr>\n",
       "      <th>2</th>\n",
       "      <td>08/28/2023</td>\n",
       "      <td>0.9241</td>\n",
       "      <td>0.9258</td>\n",
       "      <td>0.9265</td>\n",
       "      <td>0.9240</td>\n",
       "      <td>NaN</td>\n",
       "      <td>-0.16%</td>\n",
       "    </tr>\n",
       "    <tr>\n",
       "      <th>3</th>\n",
       "      <td>08/25/2023</td>\n",
       "      <td>0.9256</td>\n",
       "      <td>0.9251</td>\n",
       "      <td>0.9289</td>\n",
       "      <td>0.9223</td>\n",
       "      <td>NaN</td>\n",
       "      <td>0.09%</td>\n",
       "    </tr>\n",
       "    <tr>\n",
       "      <th>4</th>\n",
       "      <td>08/24/2023</td>\n",
       "      <td>0.9248</td>\n",
       "      <td>0.9205</td>\n",
       "      <td>0.9255</td>\n",
       "      <td>0.9194</td>\n",
       "      <td>NaN</td>\n",
       "      <td>0.46%</td>\n",
       "    </tr>\n",
       "  </tbody>\n",
       "</table>\n",
       "</div>"
      ],
      "text/plain": [
       "         Date   Price    Open    High     Low Vol. Change %\n",
       "0  08/30/2023  0.9202  0.9200  0.9211  0.9194  NaN    0.15%\n",
       "1  08/29/2023  0.9189  0.9247  0.9275  0.9180  NaN   -0.56%\n",
       "2  08/28/2023  0.9241  0.9258  0.9265  0.9240  NaN   -0.16%\n",
       "3  08/25/2023  0.9256  0.9251  0.9289  0.9223  NaN    0.09%\n",
       "4  08/24/2023  0.9248  0.9205  0.9255  0.9194  NaN    0.46%"
      ]
     },
     "execution_count": 2,
     "metadata": {},
     "output_type": "execute_result"
    }
   ],
   "source": [
    "data=pd.read_csv('data/USD_EUR Historical Data.csv')\n",
    "data.head()"
   ]
  },
  {
   "cell_type": "markdown",
   "metadata": {},
   "source": [
    "## Exploration the Data "
   ]
  },
  {
   "cell_type": "code",
   "execution_count": 3,
   "metadata": {},
   "outputs": [
    {
     "data": {
      "text/html": [
       "<div>\n",
       "<style scoped>\n",
       "    .dataframe tbody tr th:only-of-type {\n",
       "        vertical-align: middle;\n",
       "    }\n",
       "\n",
       "    .dataframe tbody tr th {\n",
       "        vertical-align: top;\n",
       "    }\n",
       "\n",
       "    .dataframe thead th {\n",
       "        text-align: right;\n",
       "    }\n",
       "</style>\n",
       "<table border=\"1\" class=\"dataframe\">\n",
       "  <thead>\n",
       "    <tr style=\"text-align: right;\">\n",
       "      <th></th>\n",
       "      <th>Date</th>\n",
       "      <th>Price</th>\n",
       "      <th>Open</th>\n",
       "      <th>High</th>\n",
       "      <th>Low</th>\n",
       "      <th>Vol.</th>\n",
       "      <th>Change %</th>\n",
       "    </tr>\n",
       "  </thead>\n",
       "  <tbody>\n",
       "    <tr>\n",
       "      <th>688</th>\n",
       "      <td>01/08/2021</td>\n",
       "      <td>0.8183</td>\n",
       "      <td>0.8148</td>\n",
       "      <td>0.8202</td>\n",
       "      <td>0.8140</td>\n",
       "      <td>99.67K</td>\n",
       "      <td>0.44%</td>\n",
       "    </tr>\n",
       "    <tr>\n",
       "      <th>689</th>\n",
       "      <td>01/07/2021</td>\n",
       "      <td>0.8147</td>\n",
       "      <td>0.8113</td>\n",
       "      <td>0.8167</td>\n",
       "      <td>0.8099</td>\n",
       "      <td>109.24K</td>\n",
       "      <td>0.44%</td>\n",
       "    </tr>\n",
       "    <tr>\n",
       "      <th>690</th>\n",
       "      <td>01/06/2021</td>\n",
       "      <td>0.8111</td>\n",
       "      <td>0.8133</td>\n",
       "      <td>0.8153</td>\n",
       "      <td>0.8098</td>\n",
       "      <td>109.23K</td>\n",
       "      <td>-0.23%</td>\n",
       "    </tr>\n",
       "    <tr>\n",
       "      <th>691</th>\n",
       "      <td>01/05/2021</td>\n",
       "      <td>0.8130</td>\n",
       "      <td>0.8166</td>\n",
       "      <td>0.8166</td>\n",
       "      <td>0.8126</td>\n",
       "      <td>107.74K</td>\n",
       "      <td>-0.39%</td>\n",
       "    </tr>\n",
       "    <tr>\n",
       "      <th>692</th>\n",
       "      <td>01/04/2021</td>\n",
       "      <td>0.8162</td>\n",
       "      <td>0.8176</td>\n",
       "      <td>0.8181</td>\n",
       "      <td>0.8123</td>\n",
       "      <td>100.67K</td>\n",
       "      <td>-0.62%</td>\n",
       "    </tr>\n",
       "  </tbody>\n",
       "</table>\n",
       "</div>"
      ],
      "text/plain": [
       "           Date   Price    Open    High     Low     Vol. Change %\n",
       "688  01/08/2021  0.8183  0.8148  0.8202  0.8140   99.67K    0.44%\n",
       "689  01/07/2021  0.8147  0.8113  0.8167  0.8099  109.24K    0.44%\n",
       "690  01/06/2021  0.8111  0.8133  0.8153  0.8098  109.23K   -0.23%\n",
       "691  01/05/2021  0.8130  0.8166  0.8166  0.8126  107.74K   -0.39%\n",
       "692  01/04/2021  0.8162  0.8176  0.8181  0.8123  100.67K   -0.62%"
      ]
     },
     "execution_count": 3,
     "metadata": {},
     "output_type": "execute_result"
    }
   ],
   "source": [
    "data.tail()"
   ]
  },
  {
   "cell_type": "code",
   "execution_count": 4,
   "metadata": {},
   "outputs": [
    {
     "name": "stdout",
     "output_type": "stream",
     "text": [
      "<class 'pandas.core.frame.DataFrame'>\n",
      "RangeIndex: 693 entries, 0 to 692\n",
      "Data columns (total 7 columns):\n",
      " #   Column    Non-Null Count  Dtype  \n",
      "---  ------    --------------  -----  \n",
      " 0   Date      693 non-null    object \n",
      " 1   Price     693 non-null    float64\n",
      " 2   Open      693 non-null    float64\n",
      " 3   High      693 non-null    float64\n",
      " 4   Low       693 non-null    float64\n",
      " 5   Vol.      538 non-null    object \n",
      " 6   Change %  693 non-null    object \n",
      "dtypes: float64(4), object(3)\n",
      "memory usage: 38.0+ KB\n"
     ]
    }
   ],
   "source": [
    "data.info()"
   ]
  },
  {
   "cell_type": "code",
   "execution_count": 5,
   "metadata": {},
   "outputs": [
    {
     "data": {
      "text/plain": [
       "Date    0\n",
       "dtype: int64"
      ]
     },
     "execution_count": 5,
     "metadata": {},
     "output_type": "execute_result"
    }
   ],
   "source": [
    "data[['Date']].isnull().sum()"
   ]
  },
  {
   "cell_type": "code",
   "execution_count": 6,
   "metadata": {},
   "outputs": [
    {
     "data": {
      "text/html": [
       "<div>\n",
       "<style scoped>\n",
       "    .dataframe tbody tr th:only-of-type {\n",
       "        vertical-align: middle;\n",
       "    }\n",
       "\n",
       "    .dataframe tbody tr th {\n",
       "        vertical-align: top;\n",
       "    }\n",
       "\n",
       "    .dataframe thead th {\n",
       "        text-align: right;\n",
       "    }\n",
       "</style>\n",
       "<table border=\"1\" class=\"dataframe\">\n",
       "  <thead>\n",
       "    <tr style=\"text-align: right;\">\n",
       "      <th></th>\n",
       "      <th>count</th>\n",
       "      <th>mean</th>\n",
       "      <th>std</th>\n",
       "      <th>min</th>\n",
       "      <th>25%</th>\n",
       "      <th>50%</th>\n",
       "      <th>75%</th>\n",
       "      <th>max</th>\n",
       "    </tr>\n",
       "  </thead>\n",
       "  <tbody>\n",
       "    <tr>\n",
       "      <th>Price</th>\n",
       "      <td>693.0</td>\n",
       "      <td>0.904307</td>\n",
       "      <td>0.055933</td>\n",
       "      <td>0.8111</td>\n",
       "      <td>0.8513</td>\n",
       "      <td>0.9098</td>\n",
       "      <td>0.9404</td>\n",
       "      <td>1.0421</td>\n",
       "    </tr>\n",
       "    <tr>\n",
       "      <th>Open</th>\n",
       "      <td>693.0</td>\n",
       "      <td>0.904319</td>\n",
       "      <td>0.056062</td>\n",
       "      <td>0.8113</td>\n",
       "      <td>0.8510</td>\n",
       "      <td>0.9100</td>\n",
       "      <td>0.9411</td>\n",
       "      <td>1.0423</td>\n",
       "    </tr>\n",
       "    <tr>\n",
       "      <th>High</th>\n",
       "      <td>693.0</td>\n",
       "      <td>0.907883</td>\n",
       "      <td>0.057143</td>\n",
       "      <td>0.8153</td>\n",
       "      <td>0.8530</td>\n",
       "      <td>0.9131</td>\n",
       "      <td>0.9445</td>\n",
       "      <td>1.0487</td>\n",
       "    </tr>\n",
       "    <tr>\n",
       "      <th>Low</th>\n",
       "      <td>693.0</td>\n",
       "      <td>0.900868</td>\n",
       "      <td>0.054747</td>\n",
       "      <td>0.8098</td>\n",
       "      <td>0.8492</td>\n",
       "      <td>0.9059</td>\n",
       "      <td>0.9359</td>\n",
       "      <td>1.0339</td>\n",
       "    </tr>\n",
       "  </tbody>\n",
       "</table>\n",
       "</div>"
      ],
      "text/plain": [
       "       count      mean       std     min     25%     50%     75%     max\n",
       "Price  693.0  0.904307  0.055933  0.8111  0.8513  0.9098  0.9404  1.0421\n",
       "Open   693.0  0.904319  0.056062  0.8113  0.8510  0.9100  0.9411  1.0423\n",
       "High   693.0  0.907883  0.057143  0.8153  0.8530  0.9131  0.9445  1.0487\n",
       "Low    693.0  0.900868  0.054747  0.8098  0.8492  0.9059  0.9359  1.0339"
      ]
     },
     "execution_count": 6,
     "metadata": {},
     "output_type": "execute_result"
    }
   ],
   "source": [
    "data.describe().T"
   ]
  },
  {
   "cell_type": "code",
   "execution_count": 7,
   "metadata": {},
   "outputs": [
    {
     "name": "stdout",
     "output_type": "stream",
     "text": [
      "<class 'pandas.core.frame.DataFrame'>\n",
      "RangeIndex: 693 entries, 0 to 692\n",
      "Data columns (total 7 columns):\n",
      " #   Column    Non-Null Count  Dtype         \n",
      "---  ------    --------------  -----         \n",
      " 0   Date      693 non-null    datetime64[ns]\n",
      " 1   Price     693 non-null    float64       \n",
      " 2   Open      693 non-null    float64       \n",
      " 3   High      693 non-null    float64       \n",
      " 4   Low       693 non-null    float64       \n",
      " 5   Vol.      538 non-null    object        \n",
      " 6   Change %  693 non-null    object        \n",
      "dtypes: datetime64[ns](1), float64(4), object(2)\n",
      "memory usage: 38.0+ KB\n"
     ]
    }
   ],
   "source": [
    "data['Date'] = pd.to_datetime(data['Date'], format='%m/%d/%Y')\n",
    "data.info()\n"
   ]
  },
  {
   "cell_type": "code",
   "execution_count": 8,
   "metadata": {},
   "outputs": [],
   "source": [
    "data['Day'] = data['Date'].dt.day\n",
    "data['Month'] = data['Date'].dt.month\n",
    "data['Year'] = data['Date'].dt.year"
   ]
  },
  {
   "cell_type": "code",
   "execution_count": 9,
   "metadata": {},
   "outputs": [],
   "source": [
    "\n",
    "# # Convert datetime to timestamp (float)\n",
    "# data['Date'] = data['Date'].astype(int) / 10**9"
   ]
  },
  {
   "cell_type": "code",
   "execution_count": 10,
   "metadata": {},
   "outputs": [
    {
     "data": {
      "text/html": [
       "<div>\n",
       "<style scoped>\n",
       "    .dataframe tbody tr th:only-of-type {\n",
       "        vertical-align: middle;\n",
       "    }\n",
       "\n",
       "    .dataframe tbody tr th {\n",
       "        vertical-align: top;\n",
       "    }\n",
       "\n",
       "    .dataframe thead th {\n",
       "        text-align: right;\n",
       "    }\n",
       "</style>\n",
       "<table border=\"1\" class=\"dataframe\">\n",
       "  <thead>\n",
       "    <tr style=\"text-align: right;\">\n",
       "      <th></th>\n",
       "      <th>Date</th>\n",
       "      <th>Price</th>\n",
       "      <th>Open</th>\n",
       "      <th>High</th>\n",
       "      <th>Low</th>\n",
       "      <th>Vol.</th>\n",
       "      <th>Change %</th>\n",
       "      <th>Day</th>\n",
       "      <th>Month</th>\n",
       "      <th>Year</th>\n",
       "    </tr>\n",
       "  </thead>\n",
       "  <tbody>\n",
       "    <tr>\n",
       "      <th>0</th>\n",
       "      <td>2023-08-30</td>\n",
       "      <td>0.9202</td>\n",
       "      <td>0.9200</td>\n",
       "      <td>0.9211</td>\n",
       "      <td>0.9194</td>\n",
       "      <td>NaN</td>\n",
       "      <td>0.15%</td>\n",
       "      <td>30</td>\n",
       "      <td>8</td>\n",
       "      <td>2023</td>\n",
       "    </tr>\n",
       "    <tr>\n",
       "      <th>1</th>\n",
       "      <td>2023-08-29</td>\n",
       "      <td>0.9189</td>\n",
       "      <td>0.9247</td>\n",
       "      <td>0.9275</td>\n",
       "      <td>0.9180</td>\n",
       "      <td>NaN</td>\n",
       "      <td>-0.56%</td>\n",
       "      <td>29</td>\n",
       "      <td>8</td>\n",
       "      <td>2023</td>\n",
       "    </tr>\n",
       "    <tr>\n",
       "      <th>2</th>\n",
       "      <td>2023-08-28</td>\n",
       "      <td>0.9241</td>\n",
       "      <td>0.9258</td>\n",
       "      <td>0.9265</td>\n",
       "      <td>0.9240</td>\n",
       "      <td>NaN</td>\n",
       "      <td>-0.16%</td>\n",
       "      <td>28</td>\n",
       "      <td>8</td>\n",
       "      <td>2023</td>\n",
       "    </tr>\n",
       "    <tr>\n",
       "      <th>3</th>\n",
       "      <td>2023-08-25</td>\n",
       "      <td>0.9256</td>\n",
       "      <td>0.9251</td>\n",
       "      <td>0.9289</td>\n",
       "      <td>0.9223</td>\n",
       "      <td>NaN</td>\n",
       "      <td>0.09%</td>\n",
       "      <td>25</td>\n",
       "      <td>8</td>\n",
       "      <td>2023</td>\n",
       "    </tr>\n",
       "    <tr>\n",
       "      <th>4</th>\n",
       "      <td>2023-08-24</td>\n",
       "      <td>0.9248</td>\n",
       "      <td>0.9205</td>\n",
       "      <td>0.9255</td>\n",
       "      <td>0.9194</td>\n",
       "      <td>NaN</td>\n",
       "      <td>0.46%</td>\n",
       "      <td>24</td>\n",
       "      <td>8</td>\n",
       "      <td>2023</td>\n",
       "    </tr>\n",
       "  </tbody>\n",
       "</table>\n",
       "</div>"
      ],
      "text/plain": [
       "        Date   Price    Open    High     Low Vol. Change %  Day  Month  Year\n",
       "0 2023-08-30  0.9202  0.9200  0.9211  0.9194  NaN    0.15%   30      8  2023\n",
       "1 2023-08-29  0.9189  0.9247  0.9275  0.9180  NaN   -0.56%   29      8  2023\n",
       "2 2023-08-28  0.9241  0.9258  0.9265  0.9240  NaN   -0.16%   28      8  2023\n",
       "3 2023-08-25  0.9256  0.9251  0.9289  0.9223  NaN    0.09%   25      8  2023\n",
       "4 2023-08-24  0.9248  0.9205  0.9255  0.9194  NaN    0.46%   24      8  2023"
      ]
     },
     "execution_count": 10,
     "metadata": {},
     "output_type": "execute_result"
    }
   ],
   "source": [
    "data.head()"
   ]
  },
  {
   "cell_type": "code",
   "execution_count": 11,
   "metadata": {},
   "outputs": [
    {
     "data": {
      "text/html": [
       "<div>\n",
       "<style scoped>\n",
       "    .dataframe tbody tr th:only-of-type {\n",
       "        vertical-align: middle;\n",
       "    }\n",
       "\n",
       "    .dataframe tbody tr th {\n",
       "        vertical-align: top;\n",
       "    }\n",
       "\n",
       "    .dataframe thead th {\n",
       "        text-align: right;\n",
       "    }\n",
       "</style>\n",
       "<table border=\"1\" class=\"dataframe\">\n",
       "  <thead>\n",
       "    <tr style=\"text-align: right;\">\n",
       "      <th></th>\n",
       "      <th>Price</th>\n",
       "      <th>Day</th>\n",
       "    </tr>\n",
       "  </thead>\n",
       "  <tbody>\n",
       "    <tr>\n",
       "      <th>0</th>\n",
       "      <td>0.9202</td>\n",
       "      <td>30</td>\n",
       "    </tr>\n",
       "    <tr>\n",
       "      <th>1</th>\n",
       "      <td>0.9189</td>\n",
       "      <td>29</td>\n",
       "    </tr>\n",
       "    <tr>\n",
       "      <th>2</th>\n",
       "      <td>0.9241</td>\n",
       "      <td>28</td>\n",
       "    </tr>\n",
       "    <tr>\n",
       "      <th>3</th>\n",
       "      <td>0.9256</td>\n",
       "      <td>25</td>\n",
       "    </tr>\n",
       "    <tr>\n",
       "      <th>4</th>\n",
       "      <td>0.9248</td>\n",
       "      <td>24</td>\n",
       "    </tr>\n",
       "  </tbody>\n",
       "</table>\n",
       "</div>"
      ],
      "text/plain": [
       "    Price  Day\n",
       "0  0.9202   30\n",
       "1  0.9189   29\n",
       "2  0.9241   28\n",
       "3  0.9256   25\n",
       "4  0.9248   24"
      ]
     },
     "execution_count": 11,
     "metadata": {},
     "output_type": "execute_result"
    }
   ],
   "source": [
    "data[['Price','Day']].head()"
   ]
  },
  {
   "cell_type": "code",
   "execution_count": 12,
   "metadata": {},
   "outputs": [
    {
     "data": {
      "application/vnd.plotly.v1+json": {
       "config": {
        "plotlyServerURL": "https://plot.ly"
       },
       "data": [
        {
         "alignmentgroup": "True",
         "bingroup": "x",
         "hovertemplate": "Price=%{x}<br>count=%{y}<extra></extra>",
         "legendgroup": "",
         "marker": {
          "color": "#636efa",
          "pattern": {
           "shape": ""
          }
         },
         "name": "",
         "offsetgroup": "",
         "orientation": "v",
         "showlegend": false,
         "type": "histogram",
         "x": [
          0.9202,
          0.9189,
          0.9241,
          0.9256,
          0.9248,
          0.9206,
          0.9218,
          0.9179,
          0.9199,
          0.9195,
          0.9191,
          0.9169,
          0.9168,
          0.9134,
          0.9105,
          0.911,
          0.9126,
          0.9084,
          0.9081,
          0.9134,
          0.9141,
          0.9102,
          0.9093,
          0.9077,
          0.911,
          0.902,
          0.9044,
          0.9037,
          0.8989,
          0.8983,
          0.8927,
          0.8906,
          0.8898,
          0.8904,
          0.8906,
          0.8983,
          0.9083,
          0.9088,
          0.9115,
          0.9182,
          0.9211,
          0.919,
          0.9163,
          0.9163,
          0.9201,
          0.9162,
          0.9122,
          0.9168,
          0.918,
          0.9125,
          0.9101,
          0.9158,
          0.9154,
          0.914,
          0.9135,
          0.9229,
          0.9264,
          0.9295,
          0.9301,
          0.9272,
          0.9345,
          0.9351,
          0.9332,
          0.9337,
          0.929,
          0.9353,
          0.9314,
          0.9338,
          0.9323,
          0.9326,
          0.9301,
          0.9284,
          0.9246,
          0.9254,
          0.9282,
          0.9223,
          0.9204,
          0.9195,
          0.9215,
          0.9158,
          0.9104,
          0.9121,
          0.9084,
          0.9074,
          0.9079,
          0.9039,
          0.9088,
          0.9108,
          0.9071,
          0.9065,
          0.9055,
          0.9113,
          0.9054,
          0.9098,
          0.9115,
          0.9127,
          0.9112,
          0.9151,
          0.9088,
          0.9054,
          0.9097,
          0.9162,
          0.9206,
          0.9173,
          0.9153,
          0.9168,
          0.9129,
          0.9176,
          0.9223,
          0.917,
          0.9219,
          0.9221,
          0.926,
          0.9291,
          0.923,
          0.9209,
          0.9283,
          0.9326,
          0.9372,
          0.9426,
          0.9453,
          0.9317,
          0.9317,
          0.9394,
          0.9448,
          0.948,
          0.9478,
          0.9363,
          0.9402,
          0.9434,
          0.9371,
          0.9452,
          0.9424,
          0.9479,
          0.9436,
          0.943,
          0.939,
          0.9358,
          0.935,
          0.937,
          0.9354,
          0.9312,
          0.9326,
          0.9362,
          0.9311,
          0.9334,
          0.9321,
          0.9316,
          0.9262,
          0.9163,
          0.9098,
          0.9205,
          0.9218,
          0.9199,
          0.918,
          0.9158,
          0.9189,
          0.9198,
          0.921,
          0.9233,
          0.9263,
          0.9269,
          0.9242,
          0.9232,
          0.9215,
          0.9295,
          0.9313,
          0.9318,
          0.9392,
          0.9502,
          0.9431,
          0.9475,
          0.9376,
          0.9341,
          0.9379,
          0.9422,
          0.9397,
          0.9399,
          0.9418,
          0.9437,
          0.9428,
          0.9413,
          0.9426,
          0.9446,
          0.9407,
          0.9361,
          0.9404,
          0.9489,
          0.9493,
          0.9471,
          0.9517,
          0.955,
          0.953,
          0.9486,
          0.95,
          0.9607,
          0.968,
          0.967,
          0.9616,
          0.9606,
          0.9617,
          0.9703,
          0.9761,
          0.9685,
          0.9649,
          0.9619,
          0.9661,
          0.9681,
          0.9656,
          0.9794,
          0.9984,
          0.9925,
          0.9977,
          1.0036,
          1.0251,
          1.0182,
          1.0127,
          1.0114,
          1.0033,
          1.0034,
          0.992,
          1.0032,
          1.0126,
          1.0138,
          1.0218,
          1.023,
          1.0145,
          1.0161,
          1.0285,
          1.0228,
          1.0301,
          1.0302,
          1.0306,
          1.0262,
          1.0211,
          1.0117,
          1.0013,
          1.0175,
          1.0201,
          1.0185,
          1.027,
          1.0421,
          1.0405,
          1.0316,
          1.0167,
          1.0164,
          1.0027,
          0.9975,
          0.9981,
          0.9996,
          1.0016,
          1.0028,
          0.9879,
          0.9957,
          1.0001,
          0.9996,
          1.0094,
          1.0069,
          1.0045,
          1.0053,
          0.9939,
          0.9984,
          1.0001,
          1.0035,
          1.0024,
          1.0031,
          1.0029,
          1.0056,
          0.9962,
          0.9909,
          0.982,
          0.9829,
          0.9839,
          0.9745,
          0.969,
          0.9708,
          0.979,
          0.9805,
          0.9818,
          0.9759,
          0.9836,
          0.9836,
          0.9742,
          0.9783,
          0.9806,
          0.9798,
          0.9883,
          0.9781,
          0.979,
          0.9773,
          0.9822,
          0.9777,
          0.9858,
          0.991,
          0.998,
          0.9936,
          0.9959,
          0.9957,
          0.9816,
          0.984,
          0.982,
          0.9737,
          0.9592,
          0.9588,
          0.9537,
          0.9576,
          0.9505,
          0.9447,
          0.9471,
          0.9498,
          0.9463,
          0.9498,
          0.9512,
          0.9522,
          0.9477,
          0.9573,
          0.9598,
          0.9607,
          0.9507,
          0.9418,
          0.933,
          0.9343,
          0.9349,
          0.9327,
          0.9302,
          0.9388,
          0.9314,
          0.9276,
          0.9319,
          0.9321,
          0.936,
          0.9314,
          0.9352,
          0.9466,
          0.9442,
          0.9551,
          0.9478,
          0.9583,
          0.9602,
          0.9633,
          0.951,
          0.9496,
          0.9471,
          0.9474,
          0.9484,
          0.9412,
          0.9502,
          0.9518,
          0.9483,
          0.9522,
          0.9471,
          0.9399,
          0.9333,
          0.9263,
          0.9225,
          0.9212,
          0.9268,
          0.9273,
          0.9251,
          0.9233,
          0.9184,
          0.9234,
          0.9188,
          0.9191,
          0.9191,
          0.9176,
          0.9168,
          0.9112,
          0.9044,
          0.9034,
          0.896,
          0.9018,
          0.9106,
          0.9103,
          0.9092,
          0.9086,
          0.9065,
          0.9076,
          0.9049,
          0.9015,
          0.9063,
          0.9128,
          0.914,
          0.9163,
          0.9102,
          0.9027,
          0.9172,
          0.9211,
          0.9151,
          0.9035,
          0.899,
          0.8986,
          0.891,
          0.8872,
          0.8933,
          0.8839,
          0.8828,
          0.884,
          0.883,
          0.8801,
          0.8791,
          0.8803,
          0.8843,
          0.8808,
          0.875,
          0.8752,
          0.876,
          0.8739,
          0.8734,
          0.874,
          0.8845,
          0.8871,
          0.8899,
          0.8971,
          0.8971,
          0.8896,
          0.8847,
          0.8828,
          0.8815,
          0.8839,
          0.8815,
          0.8827,
          0.8763,
          0.8758,
          0.8728,
          0.8737,
          0.8797,
          0.8828,
          0.88,
          0.8853,
          0.8836,
          0.8858,
          0.8851,
          0.8794,
          0.8829,
          0.8809,
          0.8839,
          0.8826,
          0.8833,
          0.8826,
          0.8828,
          0.886,
          0.8866,
          0.8895,
          0.8825,
          0.8858,
          0.888,
          0.8861,
          0.8838,
          0.8854,
          0.8816,
          0.8874,
          0.8859,
          0.8836,
          0.8847,
          0.8833,
          0.8819,
          0.8855,
          0.8833,
          0.8921,
          0.8929,
          0.8889,
          0.8898,
          0.8857,
          0.8793,
          0.8834,
          0.8832,
          0.8794,
          0.8731,
          0.8732,
          0.8709,
          0.8624,
          0.8628,
          0.8644,
          0.8654,
          0.861,
          0.8635,
          0.8615,
          0.8647,
          0.8559,
          0.8615,
          0.8623,
          0.8613,
          0.8583,
          0.8602,
          0.8581,
          0.8594,
          0.8611,
          0.8619,
          0.8622,
          0.8625,
          0.8672,
          0.8656,
          0.8642,
          0.8655,
          0.8651,
          0.8621,
          0.8603,
          0.8622,
          0.8632,
          0.8621,
          0.8558,
          0.8549,
          0.8534,
          0.8518,
          0.8554,
          0.8527,
          0.8526,
          0.8526,
          0.8498,
          0.8461,
          0.847,
          0.8466,
          0.8463,
          0.8455,
          0.8462,
          0.8445,
          0.8423,
          0.8415,
          0.842,
          0.8446,
          0.8467,
          0.8475,
          0.8477,
          0.8508,
          0.8493,
          0.8506,
          0.8513,
          0.8548,
          0.8563,
          0.8537,
          0.8539,
          0.8488,
          0.8478,
          0.8524,
          0.8517,
          0.8531,
          0.8517,
          0.8501,
          0.8449,
          0.8447,
          0.8429,
          0.8424,
          0.8423,
          0.841,
          0.8442,
          0.8462,
          0.8472,
          0.8493,
          0.8495,
          0.8477,
          0.8487,
          0.8473,
          0.8468,
          0.8463,
          0.8447,
          0.849,
          0.843,
          0.842,
          0.8442,
          0.848,
          0.8456,
          0.8428,
          0.8426,
          0.8437,
          0.8433,
          0.8404,
          0.8384,
          0.8377,
          0.8379,
          0.8384,
          0.8374,
          0.8391,
          0.8429,
          0.8396,
          0.8337,
          0.8245,
          0.825,
          0.8258,
          0.8215,
          0.8209,
          0.8214,
          0.8203,
          0.8218,
          0.8245,
          0.8188,
          0.8187,
          0.8177,
          0.82,
          0.8199,
          0.8201,
          0.8161,
          0.8186,
          0.8208,
          0.8177,
          0.8213,
          0.8181,
          0.8227,
          0.8235,
          0.8277,
          0.8282,
          0.823,
          0.8243,
          0.822,
          0.8286,
          0.8328,
          0.8322,
          0.8288,
          0.8318,
          0.8249,
          0.8246,
          0.8269,
          0.8276,
          0.8264,
          0.8322,
          0.8308,
          0.8308,
          0.8308,
          0.8342,
          0.8355,
          0.8346,
          0.8368,
          0.8394,
          0.84,
          0.8393,
          0.8422,
          0.8419,
          0.8464,
          0.8499,
          0.849,
          0.8524,
          0.8534,
          0.8499,
          0.8478,
          0.85,
          0.8465,
          0.8437,
          0.8377,
          0.84,
          0.8392,
          0.8347,
          0.8401,
          0.8381,
          0.8364,
          0.8342,
          0.8383,
          0.8402,
          0.8441,
          0.839,
          0.8354,
          0.8288,
          0.8269,
          0.8298,
          0.828,
          0.8211,
          0.822,
          0.823,
          0.8225,
          0.825,
          0.827,
          0.8306,
          0.8258,
          0.8243,
          0.8249,
          0.8243,
          0.8251,
          0.825,
          0.8299,
          0.8302,
          0.8359,
          0.831,
          0.8302,
          0.8291,
          0.8239,
          0.8247,
          0.8256,
          0.8222,
          0.8237,
          0.8218,
          0.822,
          0.8259,
          0.8244,
          0.8278,
          0.8277,
          0.8224,
          0.8225,
          0.8191,
          0.8228,
          0.8183,
          0.8147,
          0.8111,
          0.813,
          0.8162
         ],
         "xaxis": "x",
         "yaxis": "y"
        }
       ],
       "layout": {
        "bargap": 0.1,
        "barmode": "relative",
        "legend": {
         "tracegroupgap": 0
        },
        "template": {
         "data": {
          "bar": [
           {
            "error_x": {
             "color": "#2a3f5f"
            },
            "error_y": {
             "color": "#2a3f5f"
            },
            "marker": {
             "line": {
              "color": "#E5ECF6",
              "width": 0.5
             },
             "pattern": {
              "fillmode": "overlay",
              "size": 10,
              "solidity": 0.2
             }
            },
            "type": "bar"
           }
          ],
          "barpolar": [
           {
            "marker": {
             "line": {
              "color": "#E5ECF6",
              "width": 0.5
             },
             "pattern": {
              "fillmode": "overlay",
              "size": 10,
              "solidity": 0.2
             }
            },
            "type": "barpolar"
           }
          ],
          "carpet": [
           {
            "aaxis": {
             "endlinecolor": "#2a3f5f",
             "gridcolor": "white",
             "linecolor": "white",
             "minorgridcolor": "white",
             "startlinecolor": "#2a3f5f"
            },
            "baxis": {
             "endlinecolor": "#2a3f5f",
             "gridcolor": "white",
             "linecolor": "white",
             "minorgridcolor": "white",
             "startlinecolor": "#2a3f5f"
            },
            "type": "carpet"
           }
          ],
          "choropleth": [
           {
            "colorbar": {
             "outlinewidth": 0,
             "ticks": ""
            },
            "type": "choropleth"
           }
          ],
          "contour": [
           {
            "colorbar": {
             "outlinewidth": 0,
             "ticks": ""
            },
            "colorscale": [
             [
              0,
              "#0d0887"
             ],
             [
              0.1111111111111111,
              "#46039f"
             ],
             [
              0.2222222222222222,
              "#7201a8"
             ],
             [
              0.3333333333333333,
              "#9c179e"
             ],
             [
              0.4444444444444444,
              "#bd3786"
             ],
             [
              0.5555555555555556,
              "#d8576b"
             ],
             [
              0.6666666666666666,
              "#ed7953"
             ],
             [
              0.7777777777777778,
              "#fb9f3a"
             ],
             [
              0.8888888888888888,
              "#fdca26"
             ],
             [
              1,
              "#f0f921"
             ]
            ],
            "type": "contour"
           }
          ],
          "contourcarpet": [
           {
            "colorbar": {
             "outlinewidth": 0,
             "ticks": ""
            },
            "type": "contourcarpet"
           }
          ],
          "heatmap": [
           {
            "colorbar": {
             "outlinewidth": 0,
             "ticks": ""
            },
            "colorscale": [
             [
              0,
              "#0d0887"
             ],
             [
              0.1111111111111111,
              "#46039f"
             ],
             [
              0.2222222222222222,
              "#7201a8"
             ],
             [
              0.3333333333333333,
              "#9c179e"
             ],
             [
              0.4444444444444444,
              "#bd3786"
             ],
             [
              0.5555555555555556,
              "#d8576b"
             ],
             [
              0.6666666666666666,
              "#ed7953"
             ],
             [
              0.7777777777777778,
              "#fb9f3a"
             ],
             [
              0.8888888888888888,
              "#fdca26"
             ],
             [
              1,
              "#f0f921"
             ]
            ],
            "type": "heatmap"
           }
          ],
          "heatmapgl": [
           {
            "colorbar": {
             "outlinewidth": 0,
             "ticks": ""
            },
            "colorscale": [
             [
              0,
              "#0d0887"
             ],
             [
              0.1111111111111111,
              "#46039f"
             ],
             [
              0.2222222222222222,
              "#7201a8"
             ],
             [
              0.3333333333333333,
              "#9c179e"
             ],
             [
              0.4444444444444444,
              "#bd3786"
             ],
             [
              0.5555555555555556,
              "#d8576b"
             ],
             [
              0.6666666666666666,
              "#ed7953"
             ],
             [
              0.7777777777777778,
              "#fb9f3a"
             ],
             [
              0.8888888888888888,
              "#fdca26"
             ],
             [
              1,
              "#f0f921"
             ]
            ],
            "type": "heatmapgl"
           }
          ],
          "histogram": [
           {
            "marker": {
             "pattern": {
              "fillmode": "overlay",
              "size": 10,
              "solidity": 0.2
             }
            },
            "type": "histogram"
           }
          ],
          "histogram2d": [
           {
            "colorbar": {
             "outlinewidth": 0,
             "ticks": ""
            },
            "colorscale": [
             [
              0,
              "#0d0887"
             ],
             [
              0.1111111111111111,
              "#46039f"
             ],
             [
              0.2222222222222222,
              "#7201a8"
             ],
             [
              0.3333333333333333,
              "#9c179e"
             ],
             [
              0.4444444444444444,
              "#bd3786"
             ],
             [
              0.5555555555555556,
              "#d8576b"
             ],
             [
              0.6666666666666666,
              "#ed7953"
             ],
             [
              0.7777777777777778,
              "#fb9f3a"
             ],
             [
              0.8888888888888888,
              "#fdca26"
             ],
             [
              1,
              "#f0f921"
             ]
            ],
            "type": "histogram2d"
           }
          ],
          "histogram2dcontour": [
           {
            "colorbar": {
             "outlinewidth": 0,
             "ticks": ""
            },
            "colorscale": [
             [
              0,
              "#0d0887"
             ],
             [
              0.1111111111111111,
              "#46039f"
             ],
             [
              0.2222222222222222,
              "#7201a8"
             ],
             [
              0.3333333333333333,
              "#9c179e"
             ],
             [
              0.4444444444444444,
              "#bd3786"
             ],
             [
              0.5555555555555556,
              "#d8576b"
             ],
             [
              0.6666666666666666,
              "#ed7953"
             ],
             [
              0.7777777777777778,
              "#fb9f3a"
             ],
             [
              0.8888888888888888,
              "#fdca26"
             ],
             [
              1,
              "#f0f921"
             ]
            ],
            "type": "histogram2dcontour"
           }
          ],
          "mesh3d": [
           {
            "colorbar": {
             "outlinewidth": 0,
             "ticks": ""
            },
            "type": "mesh3d"
           }
          ],
          "parcoords": [
           {
            "line": {
             "colorbar": {
              "outlinewidth": 0,
              "ticks": ""
             }
            },
            "type": "parcoords"
           }
          ],
          "pie": [
           {
            "automargin": true,
            "type": "pie"
           }
          ],
          "scatter": [
           {
            "marker": {
             "colorbar": {
              "outlinewidth": 0,
              "ticks": ""
             }
            },
            "type": "scatter"
           }
          ],
          "scatter3d": [
           {
            "line": {
             "colorbar": {
              "outlinewidth": 0,
              "ticks": ""
             }
            },
            "marker": {
             "colorbar": {
              "outlinewidth": 0,
              "ticks": ""
             }
            },
            "type": "scatter3d"
           }
          ],
          "scattercarpet": [
           {
            "marker": {
             "colorbar": {
              "outlinewidth": 0,
              "ticks": ""
             }
            },
            "type": "scattercarpet"
           }
          ],
          "scattergeo": [
           {
            "marker": {
             "colorbar": {
              "outlinewidth": 0,
              "ticks": ""
             }
            },
            "type": "scattergeo"
           }
          ],
          "scattergl": [
           {
            "marker": {
             "colorbar": {
              "outlinewidth": 0,
              "ticks": ""
             }
            },
            "type": "scattergl"
           }
          ],
          "scattermapbox": [
           {
            "marker": {
             "colorbar": {
              "outlinewidth": 0,
              "ticks": ""
             }
            },
            "type": "scattermapbox"
           }
          ],
          "scatterpolar": [
           {
            "marker": {
             "colorbar": {
              "outlinewidth": 0,
              "ticks": ""
             }
            },
            "type": "scatterpolar"
           }
          ],
          "scatterpolargl": [
           {
            "marker": {
             "colorbar": {
              "outlinewidth": 0,
              "ticks": ""
             }
            },
            "type": "scatterpolargl"
           }
          ],
          "scatterternary": [
           {
            "marker": {
             "colorbar": {
              "outlinewidth": 0,
              "ticks": ""
             }
            },
            "type": "scatterternary"
           }
          ],
          "surface": [
           {
            "colorbar": {
             "outlinewidth": 0,
             "ticks": ""
            },
            "colorscale": [
             [
              0,
              "#0d0887"
             ],
             [
              0.1111111111111111,
              "#46039f"
             ],
             [
              0.2222222222222222,
              "#7201a8"
             ],
             [
              0.3333333333333333,
              "#9c179e"
             ],
             [
              0.4444444444444444,
              "#bd3786"
             ],
             [
              0.5555555555555556,
              "#d8576b"
             ],
             [
              0.6666666666666666,
              "#ed7953"
             ],
             [
              0.7777777777777778,
              "#fb9f3a"
             ],
             [
              0.8888888888888888,
              "#fdca26"
             ],
             [
              1,
              "#f0f921"
             ]
            ],
            "type": "surface"
           }
          ],
          "table": [
           {
            "cells": {
             "fill": {
              "color": "#EBF0F8"
             },
             "line": {
              "color": "white"
             }
            },
            "header": {
             "fill": {
              "color": "#C8D4E3"
             },
             "line": {
              "color": "white"
             }
            },
            "type": "table"
           }
          ]
         },
         "layout": {
          "annotationdefaults": {
           "arrowcolor": "#2a3f5f",
           "arrowhead": 0,
           "arrowwidth": 1
          },
          "autotypenumbers": "strict",
          "coloraxis": {
           "colorbar": {
            "outlinewidth": 0,
            "ticks": ""
           }
          },
          "colorscale": {
           "diverging": [
            [
             0,
             "#8e0152"
            ],
            [
             0.1,
             "#c51b7d"
            ],
            [
             0.2,
             "#de77ae"
            ],
            [
             0.3,
             "#f1b6da"
            ],
            [
             0.4,
             "#fde0ef"
            ],
            [
             0.5,
             "#f7f7f7"
            ],
            [
             0.6,
             "#e6f5d0"
            ],
            [
             0.7,
             "#b8e186"
            ],
            [
             0.8,
             "#7fbc41"
            ],
            [
             0.9,
             "#4d9221"
            ],
            [
             1,
             "#276419"
            ]
           ],
           "sequential": [
            [
             0,
             "#0d0887"
            ],
            [
             0.1111111111111111,
             "#46039f"
            ],
            [
             0.2222222222222222,
             "#7201a8"
            ],
            [
             0.3333333333333333,
             "#9c179e"
            ],
            [
             0.4444444444444444,
             "#bd3786"
            ],
            [
             0.5555555555555556,
             "#d8576b"
            ],
            [
             0.6666666666666666,
             "#ed7953"
            ],
            [
             0.7777777777777778,
             "#fb9f3a"
            ],
            [
             0.8888888888888888,
             "#fdca26"
            ],
            [
             1,
             "#f0f921"
            ]
           ],
           "sequentialminus": [
            [
             0,
             "#0d0887"
            ],
            [
             0.1111111111111111,
             "#46039f"
            ],
            [
             0.2222222222222222,
             "#7201a8"
            ],
            [
             0.3333333333333333,
             "#9c179e"
            ],
            [
             0.4444444444444444,
             "#bd3786"
            ],
            [
             0.5555555555555556,
             "#d8576b"
            ],
            [
             0.6666666666666666,
             "#ed7953"
            ],
            [
             0.7777777777777778,
             "#fb9f3a"
            ],
            [
             0.8888888888888888,
             "#fdca26"
            ],
            [
             1,
             "#f0f921"
            ]
           ]
          },
          "colorway": [
           "#636efa",
           "#EF553B",
           "#00cc96",
           "#ab63fa",
           "#FFA15A",
           "#19d3f3",
           "#FF6692",
           "#B6E880",
           "#FF97FF",
           "#FECB52"
          ],
          "font": {
           "color": "#2a3f5f"
          },
          "geo": {
           "bgcolor": "white",
           "lakecolor": "white",
           "landcolor": "#E5ECF6",
           "showlakes": true,
           "showland": true,
           "subunitcolor": "white"
          },
          "hoverlabel": {
           "align": "left"
          },
          "hovermode": "closest",
          "mapbox": {
           "style": "light"
          },
          "paper_bgcolor": "white",
          "plot_bgcolor": "#E5ECF6",
          "polar": {
           "angularaxis": {
            "gridcolor": "white",
            "linecolor": "white",
            "ticks": ""
           },
           "bgcolor": "#E5ECF6",
           "radialaxis": {
            "gridcolor": "white",
            "linecolor": "white",
            "ticks": ""
           }
          },
          "scene": {
           "xaxis": {
            "backgroundcolor": "#E5ECF6",
            "gridcolor": "white",
            "gridwidth": 2,
            "linecolor": "white",
            "showbackground": true,
            "ticks": "",
            "zerolinecolor": "white"
           },
           "yaxis": {
            "backgroundcolor": "#E5ECF6",
            "gridcolor": "white",
            "gridwidth": 2,
            "linecolor": "white",
            "showbackground": true,
            "ticks": "",
            "zerolinecolor": "white"
           },
           "zaxis": {
            "backgroundcolor": "#E5ECF6",
            "gridcolor": "white",
            "gridwidth": 2,
            "linecolor": "white",
            "showbackground": true,
            "ticks": "",
            "zerolinecolor": "white"
           }
          },
          "shapedefaults": {
           "line": {
            "color": "#2a3f5f"
           }
          },
          "ternary": {
           "aaxis": {
            "gridcolor": "white",
            "linecolor": "white",
            "ticks": ""
           },
           "baxis": {
            "gridcolor": "white",
            "linecolor": "white",
            "ticks": ""
           },
           "bgcolor": "#E5ECF6",
           "caxis": {
            "gridcolor": "white",
            "linecolor": "white",
            "ticks": ""
           }
          },
          "title": {
           "x": 0.05
          },
          "xaxis": {
           "automargin": true,
           "gridcolor": "white",
           "linecolor": "white",
           "ticks": "",
           "title": {
            "standoff": 15
           },
           "zerolinecolor": "white",
           "zerolinewidth": 2
          },
          "yaxis": {
           "automargin": true,
           "gridcolor": "white",
           "linecolor": "white",
           "ticks": "",
           "title": {
            "standoff": 15
           },
           "zerolinecolor": "white",
           "zerolinewidth": 2
          }
         }
        },
        "title": {
         "text": "Price Distribution"
        },
        "xaxis": {
         "anchor": "y",
         "domain": [
          0,
          1
         ],
         "title": {
          "text": "Price"
         }
        },
        "yaxis": {
         "anchor": "x",
         "domain": [
          0,
          1
         ],
         "title": {
          "text": "Count"
         }
        }
       }
      }
     },
     "metadata": {},
     "output_type": "display_data"
    }
   ],
   "source": [
    "import plotly.express as px\n",
    "\n",
    "\n",
    "fig = px.histogram(data['Price'], x=\"Price\", title=\"Price Distribution\")\n",
    "\n",
    "# Customize the chart (optional)\n",
    "fig.update_xaxes(title_text=\"Price\")\n",
    "fig.update_yaxes(title_text=\"Count\")\n",
    "fig.update_layout(bargap=0.1)  # Adjust the gap between bars\n",
    "\n",
    "# Show the chart\n",
    "fig.show()\n",
    "\n"
   ]
  },
  {
   "cell_type": "code",
   "execution_count": 13,
   "metadata": {},
   "outputs": [
    {
     "data": {
      "application/vnd.plotly.v1+json": {
       "config": {
        "plotlyServerURL": "https://plot.ly"
       },
       "data": [
        {
         "hovertemplate": "Date=%{x}<br>Price=%{y}<extra></extra>",
         "legendgroup": "",
         "line": {
          "color": "#636efa",
          "dash": "solid"
         },
         "marker": {
          "symbol": "circle"
         },
         "mode": "lines",
         "name": "",
         "orientation": "v",
         "showlegend": false,
         "type": "scatter",
         "x": [
          "2023-08-30T00:00:00",
          "2023-08-29T00:00:00",
          "2023-08-28T00:00:00",
          "2023-08-25T00:00:00",
          "2023-08-24T00:00:00",
          "2023-08-23T00:00:00",
          "2023-08-22T00:00:00",
          "2023-08-21T00:00:00",
          "2023-08-18T00:00:00",
          "2023-08-17T00:00:00",
          "2023-08-16T00:00:00",
          "2023-08-15T00:00:00",
          "2023-08-14T00:00:00",
          "2023-08-11T00:00:00",
          "2023-08-10T00:00:00",
          "2023-08-09T00:00:00",
          "2023-08-08T00:00:00",
          "2023-08-07T00:00:00",
          "2023-08-04T00:00:00",
          "2023-08-03T00:00:00",
          "2023-08-02T00:00:00",
          "2023-08-01T00:00:00",
          "2023-07-31T00:00:00",
          "2023-07-28T00:00:00",
          "2023-07-27T00:00:00",
          "2023-07-26T00:00:00",
          "2023-07-25T00:00:00",
          "2023-07-24T00:00:00",
          "2023-07-21T00:00:00",
          "2023-07-20T00:00:00",
          "2023-07-19T00:00:00",
          "2023-07-18T00:00:00",
          "2023-07-17T00:00:00",
          "2023-07-14T00:00:00",
          "2023-07-13T00:00:00",
          "2023-07-12T00:00:00",
          "2023-07-11T00:00:00",
          "2023-07-10T00:00:00",
          "2023-07-07T00:00:00",
          "2023-07-06T00:00:00",
          "2023-07-05T00:00:00",
          "2023-07-04T00:00:00",
          "2023-07-03T00:00:00",
          "2023-06-30T00:00:00",
          "2023-06-29T00:00:00",
          "2023-06-28T00:00:00",
          "2023-06-27T00:00:00",
          "2023-06-26T00:00:00",
          "2023-06-23T00:00:00",
          "2023-06-22T00:00:00",
          "2023-06-21T00:00:00",
          "2023-06-20T00:00:00",
          "2023-06-19T00:00:00",
          "2023-06-16T00:00:00",
          "2023-06-15T00:00:00",
          "2023-06-14T00:00:00",
          "2023-06-13T00:00:00",
          "2023-06-12T00:00:00",
          "2023-06-09T00:00:00",
          "2023-06-08T00:00:00",
          "2023-06-07T00:00:00",
          "2023-06-06T00:00:00",
          "2023-06-05T00:00:00",
          "2023-06-02T00:00:00",
          "2023-06-01T00:00:00",
          "2023-05-31T00:00:00",
          "2023-05-30T00:00:00",
          "2023-05-29T00:00:00",
          "2023-05-26T00:00:00",
          "2023-05-25T00:00:00",
          "2023-05-24T00:00:00",
          "2023-05-23T00:00:00",
          "2023-05-22T00:00:00",
          "2023-05-19T00:00:00",
          "2023-05-18T00:00:00",
          "2023-05-17T00:00:00",
          "2023-05-16T00:00:00",
          "2023-05-15T00:00:00",
          "2023-05-12T00:00:00",
          "2023-05-11T00:00:00",
          "2023-05-10T00:00:00",
          "2023-05-09T00:00:00",
          "2023-05-08T00:00:00",
          "2023-05-05T00:00:00",
          "2023-05-04T00:00:00",
          "2023-05-03T00:00:00",
          "2023-05-02T00:00:00",
          "2023-05-01T00:00:00",
          "2023-04-28T00:00:00",
          "2023-04-27T00:00:00",
          "2023-04-26T00:00:00",
          "2023-04-25T00:00:00",
          "2023-04-24T00:00:00",
          "2023-04-21T00:00:00",
          "2023-04-20T00:00:00",
          "2023-04-19T00:00:00",
          "2023-04-18T00:00:00",
          "2023-04-17T00:00:00",
          "2023-04-14T00:00:00",
          "2023-04-13T00:00:00",
          "2023-04-12T00:00:00",
          "2023-04-11T00:00:00",
          "2023-04-10T00:00:00",
          "2023-04-07T00:00:00",
          "2023-04-06T00:00:00",
          "2023-04-05T00:00:00",
          "2023-04-04T00:00:00",
          "2023-04-03T00:00:00",
          "2023-03-31T00:00:00",
          "2023-03-30T00:00:00",
          "2023-03-29T00:00:00",
          "2023-03-28T00:00:00",
          "2023-03-27T00:00:00",
          "2023-03-24T00:00:00",
          "2023-03-23T00:00:00",
          "2023-03-22T00:00:00",
          "2023-03-21T00:00:00",
          "2023-03-20T00:00:00",
          "2023-03-17T00:00:00",
          "2023-03-16T00:00:00",
          "2023-03-15T00:00:00",
          "2023-03-14T00:00:00",
          "2023-03-13T00:00:00",
          "2023-03-10T00:00:00",
          "2023-03-09T00:00:00",
          "2023-03-08T00:00:00",
          "2023-03-07T00:00:00",
          "2023-03-06T00:00:00",
          "2023-03-03T00:00:00",
          "2023-03-02T00:00:00",
          "2023-03-01T00:00:00",
          "2023-02-28T00:00:00",
          "2023-02-27T00:00:00",
          "2023-02-24T00:00:00",
          "2023-02-23T00:00:00",
          "2023-02-22T00:00:00",
          "2023-02-21T00:00:00",
          "2023-02-20T00:00:00",
          "2023-02-17T00:00:00",
          "2023-02-16T00:00:00",
          "2023-02-15T00:00:00",
          "2023-02-14T00:00:00",
          "2023-02-13T00:00:00",
          "2023-02-10T00:00:00",
          "2023-02-09T00:00:00",
          "2023-02-08T00:00:00",
          "2023-02-07T00:00:00",
          "2023-02-06T00:00:00",
          "2023-02-03T00:00:00",
          "2023-02-02T00:00:00",
          "2023-02-01T00:00:00",
          "2023-01-31T00:00:00",
          "2023-01-30T00:00:00",
          "2023-01-27T00:00:00",
          "2023-01-26T00:00:00",
          "2023-01-25T00:00:00",
          "2023-01-24T00:00:00",
          "2023-01-23T00:00:00",
          "2023-01-20T00:00:00",
          "2023-01-19T00:00:00",
          "2023-01-18T00:00:00",
          "2023-01-17T00:00:00",
          "2023-01-16T00:00:00",
          "2023-01-13T00:00:00",
          "2023-01-12T00:00:00",
          "2023-01-11T00:00:00",
          "2023-01-10T00:00:00",
          "2023-01-09T00:00:00",
          "2023-01-06T00:00:00",
          "2023-01-05T00:00:00",
          "2023-01-04T00:00:00",
          "2023-01-03T00:00:00",
          "2023-01-02T00:00:00",
          "2022-12-30T00:00:00",
          "2022-12-29T00:00:00",
          "2022-12-28T00:00:00",
          "2022-12-27T00:00:00",
          "2022-12-26T00:00:00",
          "2022-12-23T00:00:00",
          "2022-12-22T00:00:00",
          "2022-12-21T00:00:00",
          "2022-12-20T00:00:00",
          "2022-12-19T00:00:00",
          "2022-12-16T00:00:00",
          "2022-12-15T00:00:00",
          "2022-12-14T00:00:00",
          "2022-12-13T00:00:00",
          "2022-12-12T00:00:00",
          "2022-12-09T00:00:00",
          "2022-12-08T00:00:00",
          "2022-12-07T00:00:00",
          "2022-12-06T00:00:00",
          "2022-12-05T00:00:00",
          "2022-12-02T00:00:00",
          "2022-12-01T00:00:00",
          "2022-11-30T00:00:00",
          "2022-11-29T00:00:00",
          "2022-11-28T00:00:00",
          "2022-11-25T00:00:00",
          "2022-11-24T00:00:00",
          "2022-11-23T00:00:00",
          "2022-11-22T00:00:00",
          "2022-11-21T00:00:00",
          "2022-11-18T00:00:00",
          "2022-11-17T00:00:00",
          "2022-11-16T00:00:00",
          "2022-11-15T00:00:00",
          "2022-11-14T00:00:00",
          "2022-11-11T00:00:00",
          "2022-11-10T00:00:00",
          "2022-11-09T00:00:00",
          "2022-11-08T00:00:00",
          "2022-11-07T00:00:00",
          "2022-11-04T00:00:00",
          "2022-11-03T00:00:00",
          "2022-11-02T00:00:00",
          "2022-11-01T00:00:00",
          "2022-10-31T00:00:00",
          "2022-10-28T00:00:00",
          "2022-10-27T00:00:00",
          "2022-10-26T00:00:00",
          "2022-10-25T00:00:00",
          "2022-10-24T00:00:00",
          "2022-10-21T00:00:00",
          "2022-10-20T00:00:00",
          "2022-10-19T00:00:00",
          "2022-10-18T00:00:00",
          "2022-10-17T00:00:00",
          "2022-10-14T00:00:00",
          "2022-10-13T00:00:00",
          "2022-10-12T00:00:00",
          "2022-10-11T00:00:00",
          "2022-10-10T00:00:00",
          "2022-10-07T00:00:00",
          "2022-10-06T00:00:00",
          "2022-10-05T00:00:00",
          "2022-10-04T00:00:00",
          "2022-10-03T00:00:00",
          "2022-09-30T00:00:00",
          "2022-09-29T00:00:00",
          "2022-09-28T00:00:00",
          "2022-09-27T00:00:00",
          "2022-09-26T00:00:00",
          "2022-09-23T00:00:00",
          "2022-09-22T00:00:00",
          "2022-09-21T00:00:00",
          "2022-09-20T00:00:00",
          "2022-09-19T00:00:00",
          "2022-09-16T00:00:00",
          "2022-09-15T00:00:00",
          "2022-09-14T00:00:00",
          "2022-09-13T00:00:00",
          "2022-09-12T00:00:00",
          "2022-09-09T00:00:00",
          "2022-09-08T00:00:00",
          "2022-09-07T00:00:00",
          "2022-09-06T00:00:00",
          "2022-09-05T00:00:00",
          "2022-09-02T00:00:00",
          "2022-09-01T00:00:00",
          "2022-08-31T00:00:00",
          "2022-08-30T00:00:00",
          "2022-08-29T00:00:00",
          "2022-08-26T00:00:00",
          "2022-08-25T00:00:00",
          "2022-08-24T00:00:00",
          "2022-08-23T00:00:00",
          "2022-08-22T00:00:00",
          "2022-08-19T00:00:00",
          "2022-08-18T00:00:00",
          "2022-08-17T00:00:00",
          "2022-08-16T00:00:00",
          "2022-08-15T00:00:00",
          "2022-08-12T00:00:00",
          "2022-08-11T00:00:00",
          "2022-08-10T00:00:00",
          "2022-08-09T00:00:00",
          "2022-08-08T00:00:00",
          "2022-08-05T00:00:00",
          "2022-08-04T00:00:00",
          "2022-08-03T00:00:00",
          "2022-08-02T00:00:00",
          "2022-08-01T00:00:00",
          "2022-07-29T00:00:00",
          "2022-07-28T00:00:00",
          "2022-07-27T00:00:00",
          "2022-07-26T00:00:00",
          "2022-07-25T00:00:00",
          "2022-07-22T00:00:00",
          "2022-07-21T00:00:00",
          "2022-07-20T00:00:00",
          "2022-07-19T00:00:00",
          "2022-07-18T00:00:00",
          "2022-07-15T00:00:00",
          "2022-07-14T00:00:00",
          "2022-07-13T00:00:00",
          "2022-07-12T00:00:00",
          "2022-07-11T00:00:00",
          "2022-07-08T00:00:00",
          "2022-07-07T00:00:00",
          "2022-07-06T00:00:00",
          "2022-07-05T00:00:00",
          "2022-07-04T00:00:00",
          "2022-07-01T00:00:00",
          "2022-06-30T00:00:00",
          "2022-06-29T00:00:00",
          "2022-06-28T00:00:00",
          "2022-06-27T00:00:00",
          "2022-06-24T00:00:00",
          "2022-06-23T00:00:00",
          "2022-06-22T00:00:00",
          "2022-06-21T00:00:00",
          "2022-06-20T00:00:00",
          "2022-06-17T00:00:00",
          "2022-06-16T00:00:00",
          "2022-06-15T00:00:00",
          "2022-06-14T00:00:00",
          "2022-06-13T00:00:00",
          "2022-06-10T00:00:00",
          "2022-06-09T00:00:00",
          "2022-06-08T00:00:00",
          "2022-06-07T00:00:00",
          "2022-06-06T00:00:00",
          "2022-06-03T00:00:00",
          "2022-06-02T00:00:00",
          "2022-06-01T00:00:00",
          "2022-05-31T00:00:00",
          "2022-05-30T00:00:00",
          "2022-05-27T00:00:00",
          "2022-05-26T00:00:00",
          "2022-05-25T00:00:00",
          "2022-05-24T00:00:00",
          "2022-05-23T00:00:00",
          "2022-05-20T00:00:00",
          "2022-05-19T00:00:00",
          "2022-05-18T00:00:00",
          "2022-05-17T00:00:00",
          "2022-05-16T00:00:00",
          "2022-05-13T00:00:00",
          "2022-05-12T00:00:00",
          "2022-05-11T00:00:00",
          "2022-05-10T00:00:00",
          "2022-05-09T00:00:00",
          "2022-05-06T00:00:00",
          "2022-05-05T00:00:00",
          "2022-05-04T00:00:00",
          "2022-05-03T00:00:00",
          "2022-05-02T00:00:00",
          "2022-04-29T00:00:00",
          "2022-04-28T00:00:00",
          "2022-04-27T00:00:00",
          "2022-04-26T00:00:00",
          "2022-04-25T00:00:00",
          "2022-04-22T00:00:00",
          "2022-04-21T00:00:00",
          "2022-04-20T00:00:00",
          "2022-04-19T00:00:00",
          "2022-04-18T00:00:00",
          "2022-04-15T00:00:00",
          "2022-04-14T00:00:00",
          "2022-04-13T00:00:00",
          "2022-04-12T00:00:00",
          "2022-04-11T00:00:00",
          "2022-04-08T00:00:00",
          "2022-04-07T00:00:00",
          "2022-04-06T00:00:00",
          "2022-04-05T00:00:00",
          "2022-04-04T00:00:00",
          "2022-04-01T00:00:00",
          "2022-03-31T00:00:00",
          "2022-03-30T00:00:00",
          "2022-03-29T00:00:00",
          "2022-03-28T00:00:00",
          "2022-03-25T00:00:00",
          "2022-03-24T00:00:00",
          "2022-03-23T00:00:00",
          "2022-03-22T00:00:00",
          "2022-03-21T00:00:00",
          "2022-03-18T00:00:00",
          "2022-03-17T00:00:00",
          "2022-03-16T00:00:00",
          "2022-03-15T00:00:00",
          "2022-03-14T00:00:00",
          "2022-03-11T00:00:00",
          "2022-03-10T00:00:00",
          "2022-03-09T00:00:00",
          "2022-03-08T00:00:00",
          "2022-03-07T00:00:00",
          "2022-03-04T00:00:00",
          "2022-03-03T00:00:00",
          "2022-03-02T00:00:00",
          "2022-03-01T00:00:00",
          "2022-02-28T00:00:00",
          "2022-02-25T00:00:00",
          "2022-02-24T00:00:00",
          "2022-02-23T00:00:00",
          "2022-02-22T00:00:00",
          "2022-02-21T00:00:00",
          "2022-02-18T00:00:00",
          "2022-02-17T00:00:00",
          "2022-02-16T00:00:00",
          "2022-02-15T00:00:00",
          "2022-02-14T00:00:00",
          "2022-02-11T00:00:00",
          "2022-02-10T00:00:00",
          "2022-02-09T00:00:00",
          "2022-02-08T00:00:00",
          "2022-02-07T00:00:00",
          "2022-02-04T00:00:00",
          "2022-02-03T00:00:00",
          "2022-02-02T00:00:00",
          "2022-02-01T00:00:00",
          "2022-01-31T00:00:00",
          "2022-01-28T00:00:00",
          "2022-01-27T00:00:00",
          "2022-01-26T00:00:00",
          "2022-01-25T00:00:00",
          "2022-01-24T00:00:00",
          "2022-01-21T00:00:00",
          "2022-01-20T00:00:00",
          "2022-01-19T00:00:00",
          "2022-01-18T00:00:00",
          "2022-01-17T00:00:00",
          "2022-01-14T00:00:00",
          "2022-01-13T00:00:00",
          "2022-01-12T00:00:00",
          "2022-01-11T00:00:00",
          "2022-01-10T00:00:00",
          "2022-01-07T00:00:00",
          "2022-01-06T00:00:00",
          "2022-01-05T00:00:00",
          "2022-01-04T00:00:00",
          "2022-01-03T00:00:00",
          "2021-12-31T00:00:00",
          "2021-12-30T00:00:00",
          "2021-12-29T00:00:00",
          "2021-12-28T00:00:00",
          "2021-12-27T00:00:00",
          "2021-12-24T00:00:00",
          "2021-12-23T00:00:00",
          "2021-12-22T00:00:00",
          "2021-12-21T00:00:00",
          "2021-12-20T00:00:00",
          "2021-12-17T00:00:00",
          "2021-12-16T00:00:00",
          "2021-12-15T00:00:00",
          "2021-12-14T00:00:00",
          "2021-12-13T00:00:00",
          "2021-12-10T00:00:00",
          "2021-12-09T00:00:00",
          "2021-12-08T00:00:00",
          "2021-12-07T00:00:00",
          "2021-12-06T00:00:00",
          "2021-12-03T00:00:00",
          "2021-12-02T00:00:00",
          "2021-12-01T00:00:00",
          "2021-11-30T00:00:00",
          "2021-11-29T00:00:00",
          "2021-11-26T00:00:00",
          "2021-11-25T00:00:00",
          "2021-11-24T00:00:00",
          "2021-11-23T00:00:00",
          "2021-11-22T00:00:00",
          "2021-11-19T00:00:00",
          "2021-11-18T00:00:00",
          "2021-11-17T00:00:00",
          "2021-11-16T00:00:00",
          "2021-11-15T00:00:00",
          "2021-11-12T00:00:00",
          "2021-11-11T00:00:00",
          "2021-11-10T00:00:00",
          "2021-11-09T00:00:00",
          "2021-11-08T00:00:00",
          "2021-11-05T00:00:00",
          "2021-11-04T00:00:00",
          "2021-11-03T00:00:00",
          "2021-11-02T00:00:00",
          "2021-11-01T00:00:00",
          "2021-10-29T00:00:00",
          "2021-10-28T00:00:00",
          "2021-10-27T00:00:00",
          "2021-10-26T00:00:00",
          "2021-10-25T00:00:00",
          "2021-10-22T00:00:00",
          "2021-10-21T00:00:00",
          "2021-10-20T00:00:00",
          "2021-10-19T00:00:00",
          "2021-10-18T00:00:00",
          "2021-10-15T00:00:00",
          "2021-10-14T00:00:00",
          "2021-10-13T00:00:00",
          "2021-10-12T00:00:00",
          "2021-10-11T00:00:00",
          "2021-10-08T00:00:00",
          "2021-10-07T00:00:00",
          "2021-10-06T00:00:00",
          "2021-10-05T00:00:00",
          "2021-10-04T00:00:00",
          "2021-10-01T00:00:00",
          "2021-09-30T00:00:00",
          "2021-09-29T00:00:00",
          "2021-09-28T00:00:00",
          "2021-09-27T00:00:00",
          "2021-09-24T00:00:00",
          "2021-09-23T00:00:00",
          "2021-09-22T00:00:00",
          "2021-09-21T00:00:00",
          "2021-09-20T00:00:00",
          "2021-09-17T00:00:00",
          "2021-09-16T00:00:00",
          "2021-09-15T00:00:00",
          "2021-09-14T00:00:00",
          "2021-09-13T00:00:00",
          "2021-09-10T00:00:00",
          "2021-09-09T00:00:00",
          "2021-09-08T00:00:00",
          "2021-09-07T00:00:00",
          "2021-09-06T00:00:00",
          "2021-09-03T00:00:00",
          "2021-09-02T00:00:00",
          "2021-09-01T00:00:00",
          "2021-08-31T00:00:00",
          "2021-08-30T00:00:00",
          "2021-08-27T00:00:00",
          "2021-08-26T00:00:00",
          "2021-08-25T00:00:00",
          "2021-08-24T00:00:00",
          "2021-08-23T00:00:00",
          "2021-08-20T00:00:00",
          "2021-08-19T00:00:00",
          "2021-08-18T00:00:00",
          "2021-08-17T00:00:00",
          "2021-08-16T00:00:00",
          "2021-08-13T00:00:00",
          "2021-08-12T00:00:00",
          "2021-08-11T00:00:00",
          "2021-08-10T00:00:00",
          "2021-08-09T00:00:00",
          "2021-08-06T00:00:00",
          "2021-08-05T00:00:00",
          "2021-08-04T00:00:00",
          "2021-08-03T00:00:00",
          "2021-08-02T00:00:00",
          "2021-07-30T00:00:00",
          "2021-07-29T00:00:00",
          "2021-07-28T00:00:00",
          "2021-07-27T00:00:00",
          "2021-07-26T00:00:00",
          "2021-07-23T00:00:00",
          "2021-07-22T00:00:00",
          "2021-07-21T00:00:00",
          "2021-07-20T00:00:00",
          "2021-07-19T00:00:00",
          "2021-07-16T00:00:00",
          "2021-07-15T00:00:00",
          "2021-07-14T00:00:00",
          "2021-07-13T00:00:00",
          "2021-07-12T00:00:00",
          "2021-07-09T00:00:00",
          "2021-07-08T00:00:00",
          "2021-07-07T00:00:00",
          "2021-07-06T00:00:00",
          "2021-07-05T00:00:00",
          "2021-07-02T00:00:00",
          "2021-07-01T00:00:00",
          "2021-06-30T00:00:00",
          "2021-06-29T00:00:00",
          "2021-06-28T00:00:00",
          "2021-06-25T00:00:00",
          "2021-06-24T00:00:00",
          "2021-06-23T00:00:00",
          "2021-06-22T00:00:00",
          "2021-06-21T00:00:00",
          "2021-06-18T00:00:00",
          "2021-06-17T00:00:00",
          "2021-06-16T00:00:00",
          "2021-06-15T00:00:00",
          "2021-06-14T00:00:00",
          "2021-06-11T00:00:00",
          "2021-06-10T00:00:00",
          "2021-06-09T00:00:00",
          "2021-06-08T00:00:00",
          "2021-06-07T00:00:00",
          "2021-06-04T00:00:00",
          "2021-06-03T00:00:00",
          "2021-06-02T00:00:00",
          "2021-06-01T00:00:00",
          "2021-05-31T00:00:00",
          "2021-05-28T00:00:00",
          "2021-05-27T00:00:00",
          "2021-05-26T00:00:00",
          "2021-05-25T00:00:00",
          "2021-05-24T00:00:00",
          "2021-05-21T00:00:00",
          "2021-05-20T00:00:00",
          "2021-05-19T00:00:00",
          "2021-05-18T00:00:00",
          "2021-05-17T00:00:00",
          "2021-05-14T00:00:00",
          "2021-05-13T00:00:00",
          "2021-05-12T00:00:00",
          "2021-05-11T00:00:00",
          "2021-05-10T00:00:00",
          "2021-05-07T00:00:00",
          "2021-05-06T00:00:00",
          "2021-05-05T00:00:00",
          "2021-05-04T00:00:00",
          "2021-05-03T00:00:00",
          "2021-04-30T00:00:00",
          "2021-04-29T00:00:00",
          "2021-04-28T00:00:00",
          "2021-04-27T00:00:00",
          "2021-04-26T00:00:00",
          "2021-04-23T00:00:00",
          "2021-04-22T00:00:00",
          "2021-04-21T00:00:00",
          "2021-04-20T00:00:00",
          "2021-04-19T00:00:00",
          "2021-04-16T00:00:00",
          "2021-04-15T00:00:00",
          "2021-04-14T00:00:00",
          "2021-04-13T00:00:00",
          "2021-04-12T00:00:00",
          "2021-04-09T00:00:00",
          "2021-04-08T00:00:00",
          "2021-04-07T00:00:00",
          "2021-04-06T00:00:00",
          "2021-04-05T00:00:00",
          "2021-04-02T00:00:00",
          "2021-04-01T00:00:00",
          "2021-03-31T00:00:00",
          "2021-03-30T00:00:00",
          "2021-03-29T00:00:00",
          "2021-03-26T00:00:00",
          "2021-03-25T00:00:00",
          "2021-03-24T00:00:00",
          "2021-03-23T00:00:00",
          "2021-03-22T00:00:00",
          "2021-03-19T00:00:00",
          "2021-03-18T00:00:00",
          "2021-03-17T00:00:00",
          "2021-03-16T00:00:00",
          "2021-03-15T00:00:00",
          "2021-03-12T00:00:00",
          "2021-03-11T00:00:00",
          "2021-03-10T00:00:00",
          "2021-03-09T00:00:00",
          "2021-03-08T00:00:00",
          "2021-03-05T00:00:00",
          "2021-03-04T00:00:00",
          "2021-03-03T00:00:00",
          "2021-03-02T00:00:00",
          "2021-03-01T00:00:00",
          "2021-02-26T00:00:00",
          "2021-02-25T00:00:00",
          "2021-02-24T00:00:00",
          "2021-02-23T00:00:00",
          "2021-02-22T00:00:00",
          "2021-02-19T00:00:00",
          "2021-02-18T00:00:00",
          "2021-02-17T00:00:00",
          "2021-02-16T00:00:00",
          "2021-02-15T00:00:00",
          "2021-02-12T00:00:00",
          "2021-02-11T00:00:00",
          "2021-02-10T00:00:00",
          "2021-02-09T00:00:00",
          "2021-02-08T00:00:00",
          "2021-02-05T00:00:00",
          "2021-02-04T00:00:00",
          "2021-02-03T00:00:00",
          "2021-02-02T00:00:00",
          "2021-02-01T00:00:00",
          "2021-01-29T00:00:00",
          "2021-01-28T00:00:00",
          "2021-01-27T00:00:00",
          "2021-01-26T00:00:00",
          "2021-01-25T00:00:00",
          "2021-01-22T00:00:00",
          "2021-01-21T00:00:00",
          "2021-01-20T00:00:00",
          "2021-01-19T00:00:00",
          "2021-01-18T00:00:00",
          "2021-01-15T00:00:00",
          "2021-01-14T00:00:00",
          "2021-01-13T00:00:00",
          "2021-01-12T00:00:00",
          "2021-01-11T00:00:00",
          "2021-01-08T00:00:00",
          "2021-01-07T00:00:00",
          "2021-01-06T00:00:00",
          "2021-01-05T00:00:00",
          "2021-01-04T00:00:00"
         ],
         "xaxis": "x",
         "y": [
          0.9202,
          0.9189,
          0.9241,
          0.9256,
          0.9248,
          0.9206,
          0.9218,
          0.9179,
          0.9199,
          0.9195,
          0.9191,
          0.9169,
          0.9168,
          0.9134,
          0.9105,
          0.911,
          0.9126,
          0.9084,
          0.9081,
          0.9134,
          0.9141,
          0.9102,
          0.9093,
          0.9077,
          0.911,
          0.902,
          0.9044,
          0.9037,
          0.8989,
          0.8983,
          0.8927,
          0.8906,
          0.8898,
          0.8904,
          0.8906,
          0.8983,
          0.9083,
          0.9088,
          0.9115,
          0.9182,
          0.9211,
          0.919,
          0.9163,
          0.9163,
          0.9201,
          0.9162,
          0.9122,
          0.9168,
          0.918,
          0.9125,
          0.9101,
          0.9158,
          0.9154,
          0.914,
          0.9135,
          0.9229,
          0.9264,
          0.9295,
          0.9301,
          0.9272,
          0.9345,
          0.9351,
          0.9332,
          0.9337,
          0.929,
          0.9353,
          0.9314,
          0.9338,
          0.9323,
          0.9326,
          0.9301,
          0.9284,
          0.9246,
          0.9254,
          0.9282,
          0.9223,
          0.9204,
          0.9195,
          0.9215,
          0.9158,
          0.9104,
          0.9121,
          0.9084,
          0.9074,
          0.9079,
          0.9039,
          0.9088,
          0.9108,
          0.9071,
          0.9065,
          0.9055,
          0.9113,
          0.9054,
          0.9098,
          0.9115,
          0.9127,
          0.9112,
          0.9151,
          0.9088,
          0.9054,
          0.9097,
          0.9162,
          0.9206,
          0.9173,
          0.9153,
          0.9168,
          0.9129,
          0.9176,
          0.9223,
          0.917,
          0.9219,
          0.9221,
          0.926,
          0.9291,
          0.923,
          0.9209,
          0.9283,
          0.9326,
          0.9372,
          0.9426,
          0.9453,
          0.9317,
          0.9317,
          0.9394,
          0.9448,
          0.948,
          0.9478,
          0.9363,
          0.9402,
          0.9434,
          0.9371,
          0.9452,
          0.9424,
          0.9479,
          0.9436,
          0.943,
          0.939,
          0.9358,
          0.935,
          0.937,
          0.9354,
          0.9312,
          0.9326,
          0.9362,
          0.9311,
          0.9334,
          0.9321,
          0.9316,
          0.9262,
          0.9163,
          0.9098,
          0.9205,
          0.9218,
          0.9199,
          0.918,
          0.9158,
          0.9189,
          0.9198,
          0.921,
          0.9233,
          0.9263,
          0.9269,
          0.9242,
          0.9232,
          0.9215,
          0.9295,
          0.9313,
          0.9318,
          0.9392,
          0.9502,
          0.9431,
          0.9475,
          0.9376,
          0.9341,
          0.9379,
          0.9422,
          0.9397,
          0.9399,
          0.9418,
          0.9437,
          0.9428,
          0.9413,
          0.9426,
          0.9446,
          0.9407,
          0.9361,
          0.9404,
          0.9489,
          0.9493,
          0.9471,
          0.9517,
          0.955,
          0.953,
          0.9486,
          0.95,
          0.9607,
          0.968,
          0.967,
          0.9616,
          0.9606,
          0.9617,
          0.9703,
          0.9761,
          0.9685,
          0.9649,
          0.9619,
          0.9661,
          0.9681,
          0.9656,
          0.9794,
          0.9984,
          0.9925,
          0.9977,
          1.0036,
          1.0251,
          1.0182,
          1.0127,
          1.0114,
          1.0033,
          1.0034,
          0.992,
          1.0032,
          1.0126,
          1.0138,
          1.0218,
          1.023,
          1.0145,
          1.0161,
          1.0285,
          1.0228,
          1.0301,
          1.0302,
          1.0306,
          1.0262,
          1.0211,
          1.0117,
          1.0013,
          1.0175,
          1.0201,
          1.0185,
          1.027,
          1.0421,
          1.0405,
          1.0316,
          1.0167,
          1.0164,
          1.0027,
          0.9975,
          0.9981,
          0.9996,
          1.0016,
          1.0028,
          0.9879,
          0.9957,
          1.0001,
          0.9996,
          1.0094,
          1.0069,
          1.0045,
          1.0053,
          0.9939,
          0.9984,
          1.0001,
          1.0035,
          1.0024,
          1.0031,
          1.0029,
          1.0056,
          0.9962,
          0.9909,
          0.982,
          0.9829,
          0.9839,
          0.9745,
          0.969,
          0.9708,
          0.979,
          0.9805,
          0.9818,
          0.9759,
          0.9836,
          0.9836,
          0.9742,
          0.9783,
          0.9806,
          0.9798,
          0.9883,
          0.9781,
          0.979,
          0.9773,
          0.9822,
          0.9777,
          0.9858,
          0.991,
          0.998,
          0.9936,
          0.9959,
          0.9957,
          0.9816,
          0.984,
          0.982,
          0.9737,
          0.9592,
          0.9588,
          0.9537,
          0.9576,
          0.9505,
          0.9447,
          0.9471,
          0.9498,
          0.9463,
          0.9498,
          0.9512,
          0.9522,
          0.9477,
          0.9573,
          0.9598,
          0.9607,
          0.9507,
          0.9418,
          0.933,
          0.9343,
          0.9349,
          0.9327,
          0.9302,
          0.9388,
          0.9314,
          0.9276,
          0.9319,
          0.9321,
          0.936,
          0.9314,
          0.9352,
          0.9466,
          0.9442,
          0.9551,
          0.9478,
          0.9583,
          0.9602,
          0.9633,
          0.951,
          0.9496,
          0.9471,
          0.9474,
          0.9484,
          0.9412,
          0.9502,
          0.9518,
          0.9483,
          0.9522,
          0.9471,
          0.9399,
          0.9333,
          0.9263,
          0.9225,
          0.9212,
          0.9268,
          0.9273,
          0.9251,
          0.9233,
          0.9184,
          0.9234,
          0.9188,
          0.9191,
          0.9191,
          0.9176,
          0.9168,
          0.9112,
          0.9044,
          0.9034,
          0.896,
          0.9018,
          0.9106,
          0.9103,
          0.9092,
          0.9086,
          0.9065,
          0.9076,
          0.9049,
          0.9015,
          0.9063,
          0.9128,
          0.914,
          0.9163,
          0.9102,
          0.9027,
          0.9172,
          0.9211,
          0.9151,
          0.9035,
          0.899,
          0.8986,
          0.891,
          0.8872,
          0.8933,
          0.8839,
          0.8828,
          0.884,
          0.883,
          0.8801,
          0.8791,
          0.8803,
          0.8843,
          0.8808,
          0.875,
          0.8752,
          0.876,
          0.8739,
          0.8734,
          0.874,
          0.8845,
          0.8871,
          0.8899,
          0.8971,
          0.8971,
          0.8896,
          0.8847,
          0.8828,
          0.8815,
          0.8839,
          0.8815,
          0.8827,
          0.8763,
          0.8758,
          0.8728,
          0.8737,
          0.8797,
          0.8828,
          0.88,
          0.8853,
          0.8836,
          0.8858,
          0.8851,
          0.8794,
          0.8829,
          0.8809,
          0.8839,
          0.8826,
          0.8833,
          0.8826,
          0.8828,
          0.886,
          0.8866,
          0.8895,
          0.8825,
          0.8858,
          0.888,
          0.8861,
          0.8838,
          0.8854,
          0.8816,
          0.8874,
          0.8859,
          0.8836,
          0.8847,
          0.8833,
          0.8819,
          0.8855,
          0.8833,
          0.8921,
          0.8929,
          0.8889,
          0.8898,
          0.8857,
          0.8793,
          0.8834,
          0.8832,
          0.8794,
          0.8731,
          0.8732,
          0.8709,
          0.8624,
          0.8628,
          0.8644,
          0.8654,
          0.861,
          0.8635,
          0.8615,
          0.8647,
          0.8559,
          0.8615,
          0.8623,
          0.8613,
          0.8583,
          0.8602,
          0.8581,
          0.8594,
          0.8611,
          0.8619,
          0.8622,
          0.8625,
          0.8672,
          0.8656,
          0.8642,
          0.8655,
          0.8651,
          0.8621,
          0.8603,
          0.8622,
          0.8632,
          0.8621,
          0.8558,
          0.8549,
          0.8534,
          0.8518,
          0.8554,
          0.8527,
          0.8526,
          0.8526,
          0.8498,
          0.8461,
          0.847,
          0.8466,
          0.8463,
          0.8455,
          0.8462,
          0.8445,
          0.8423,
          0.8415,
          0.842,
          0.8446,
          0.8467,
          0.8475,
          0.8477,
          0.8508,
          0.8493,
          0.8506,
          0.8513,
          0.8548,
          0.8563,
          0.8537,
          0.8539,
          0.8488,
          0.8478,
          0.8524,
          0.8517,
          0.8531,
          0.8517,
          0.8501,
          0.8449,
          0.8447,
          0.8429,
          0.8424,
          0.8423,
          0.841,
          0.8442,
          0.8462,
          0.8472,
          0.8493,
          0.8495,
          0.8477,
          0.8487,
          0.8473,
          0.8468,
          0.8463,
          0.8447,
          0.849,
          0.843,
          0.842,
          0.8442,
          0.848,
          0.8456,
          0.8428,
          0.8426,
          0.8437,
          0.8433,
          0.8404,
          0.8384,
          0.8377,
          0.8379,
          0.8384,
          0.8374,
          0.8391,
          0.8429,
          0.8396,
          0.8337,
          0.8245,
          0.825,
          0.8258,
          0.8215,
          0.8209,
          0.8214,
          0.8203,
          0.8218,
          0.8245,
          0.8188,
          0.8187,
          0.8177,
          0.82,
          0.8199,
          0.8201,
          0.8161,
          0.8186,
          0.8208,
          0.8177,
          0.8213,
          0.8181,
          0.8227,
          0.8235,
          0.8277,
          0.8282,
          0.823,
          0.8243,
          0.822,
          0.8286,
          0.8328,
          0.8322,
          0.8288,
          0.8318,
          0.8249,
          0.8246,
          0.8269,
          0.8276,
          0.8264,
          0.8322,
          0.8308,
          0.8308,
          0.8308,
          0.8342,
          0.8355,
          0.8346,
          0.8368,
          0.8394,
          0.84,
          0.8393,
          0.8422,
          0.8419,
          0.8464,
          0.8499,
          0.849,
          0.8524,
          0.8534,
          0.8499,
          0.8478,
          0.85,
          0.8465,
          0.8437,
          0.8377,
          0.84,
          0.8392,
          0.8347,
          0.8401,
          0.8381,
          0.8364,
          0.8342,
          0.8383,
          0.8402,
          0.8441,
          0.839,
          0.8354,
          0.8288,
          0.8269,
          0.8298,
          0.828,
          0.8211,
          0.822,
          0.823,
          0.8225,
          0.825,
          0.827,
          0.8306,
          0.8258,
          0.8243,
          0.8249,
          0.8243,
          0.8251,
          0.825,
          0.8299,
          0.8302,
          0.8359,
          0.831,
          0.8302,
          0.8291,
          0.8239,
          0.8247,
          0.8256,
          0.8222,
          0.8237,
          0.8218,
          0.822,
          0.8259,
          0.8244,
          0.8278,
          0.8277,
          0.8224,
          0.8225,
          0.8191,
          0.8228,
          0.8183,
          0.8147,
          0.8111,
          0.813,
          0.8162
         ],
         "yaxis": "y"
        }
       ],
       "layout": {
        "legend": {
         "tracegroupgap": 0
        },
        "template": {
         "data": {
          "bar": [
           {
            "error_x": {
             "color": "#2a3f5f"
            },
            "error_y": {
             "color": "#2a3f5f"
            },
            "marker": {
             "line": {
              "color": "#E5ECF6",
              "width": 0.5
             },
             "pattern": {
              "fillmode": "overlay",
              "size": 10,
              "solidity": 0.2
             }
            },
            "type": "bar"
           }
          ],
          "barpolar": [
           {
            "marker": {
             "line": {
              "color": "#E5ECF6",
              "width": 0.5
             },
             "pattern": {
              "fillmode": "overlay",
              "size": 10,
              "solidity": 0.2
             }
            },
            "type": "barpolar"
           }
          ],
          "carpet": [
           {
            "aaxis": {
             "endlinecolor": "#2a3f5f",
             "gridcolor": "white",
             "linecolor": "white",
             "minorgridcolor": "white",
             "startlinecolor": "#2a3f5f"
            },
            "baxis": {
             "endlinecolor": "#2a3f5f",
             "gridcolor": "white",
             "linecolor": "white",
             "minorgridcolor": "white",
             "startlinecolor": "#2a3f5f"
            },
            "type": "carpet"
           }
          ],
          "choropleth": [
           {
            "colorbar": {
             "outlinewidth": 0,
             "ticks": ""
            },
            "type": "choropleth"
           }
          ],
          "contour": [
           {
            "colorbar": {
             "outlinewidth": 0,
             "ticks": ""
            },
            "colorscale": [
             [
              0,
              "#0d0887"
             ],
             [
              0.1111111111111111,
              "#46039f"
             ],
             [
              0.2222222222222222,
              "#7201a8"
             ],
             [
              0.3333333333333333,
              "#9c179e"
             ],
             [
              0.4444444444444444,
              "#bd3786"
             ],
             [
              0.5555555555555556,
              "#d8576b"
             ],
             [
              0.6666666666666666,
              "#ed7953"
             ],
             [
              0.7777777777777778,
              "#fb9f3a"
             ],
             [
              0.8888888888888888,
              "#fdca26"
             ],
             [
              1,
              "#f0f921"
             ]
            ],
            "type": "contour"
           }
          ],
          "contourcarpet": [
           {
            "colorbar": {
             "outlinewidth": 0,
             "ticks": ""
            },
            "type": "contourcarpet"
           }
          ],
          "heatmap": [
           {
            "colorbar": {
             "outlinewidth": 0,
             "ticks": ""
            },
            "colorscale": [
             [
              0,
              "#0d0887"
             ],
             [
              0.1111111111111111,
              "#46039f"
             ],
             [
              0.2222222222222222,
              "#7201a8"
             ],
             [
              0.3333333333333333,
              "#9c179e"
             ],
             [
              0.4444444444444444,
              "#bd3786"
             ],
             [
              0.5555555555555556,
              "#d8576b"
             ],
             [
              0.6666666666666666,
              "#ed7953"
             ],
             [
              0.7777777777777778,
              "#fb9f3a"
             ],
             [
              0.8888888888888888,
              "#fdca26"
             ],
             [
              1,
              "#f0f921"
             ]
            ],
            "type": "heatmap"
           }
          ],
          "heatmapgl": [
           {
            "colorbar": {
             "outlinewidth": 0,
             "ticks": ""
            },
            "colorscale": [
             [
              0,
              "#0d0887"
             ],
             [
              0.1111111111111111,
              "#46039f"
             ],
             [
              0.2222222222222222,
              "#7201a8"
             ],
             [
              0.3333333333333333,
              "#9c179e"
             ],
             [
              0.4444444444444444,
              "#bd3786"
             ],
             [
              0.5555555555555556,
              "#d8576b"
             ],
             [
              0.6666666666666666,
              "#ed7953"
             ],
             [
              0.7777777777777778,
              "#fb9f3a"
             ],
             [
              0.8888888888888888,
              "#fdca26"
             ],
             [
              1,
              "#f0f921"
             ]
            ],
            "type": "heatmapgl"
           }
          ],
          "histogram": [
           {
            "marker": {
             "pattern": {
              "fillmode": "overlay",
              "size": 10,
              "solidity": 0.2
             }
            },
            "type": "histogram"
           }
          ],
          "histogram2d": [
           {
            "colorbar": {
             "outlinewidth": 0,
             "ticks": ""
            },
            "colorscale": [
             [
              0,
              "#0d0887"
             ],
             [
              0.1111111111111111,
              "#46039f"
             ],
             [
              0.2222222222222222,
              "#7201a8"
             ],
             [
              0.3333333333333333,
              "#9c179e"
             ],
             [
              0.4444444444444444,
              "#bd3786"
             ],
             [
              0.5555555555555556,
              "#d8576b"
             ],
             [
              0.6666666666666666,
              "#ed7953"
             ],
             [
              0.7777777777777778,
              "#fb9f3a"
             ],
             [
              0.8888888888888888,
              "#fdca26"
             ],
             [
              1,
              "#f0f921"
             ]
            ],
            "type": "histogram2d"
           }
          ],
          "histogram2dcontour": [
           {
            "colorbar": {
             "outlinewidth": 0,
             "ticks": ""
            },
            "colorscale": [
             [
              0,
              "#0d0887"
             ],
             [
              0.1111111111111111,
              "#46039f"
             ],
             [
              0.2222222222222222,
              "#7201a8"
             ],
             [
              0.3333333333333333,
              "#9c179e"
             ],
             [
              0.4444444444444444,
              "#bd3786"
             ],
             [
              0.5555555555555556,
              "#d8576b"
             ],
             [
              0.6666666666666666,
              "#ed7953"
             ],
             [
              0.7777777777777778,
              "#fb9f3a"
             ],
             [
              0.8888888888888888,
              "#fdca26"
             ],
             [
              1,
              "#f0f921"
             ]
            ],
            "type": "histogram2dcontour"
           }
          ],
          "mesh3d": [
           {
            "colorbar": {
             "outlinewidth": 0,
             "ticks": ""
            },
            "type": "mesh3d"
           }
          ],
          "parcoords": [
           {
            "line": {
             "colorbar": {
              "outlinewidth": 0,
              "ticks": ""
             }
            },
            "type": "parcoords"
           }
          ],
          "pie": [
           {
            "automargin": true,
            "type": "pie"
           }
          ],
          "scatter": [
           {
            "marker": {
             "colorbar": {
              "outlinewidth": 0,
              "ticks": ""
             }
            },
            "type": "scatter"
           }
          ],
          "scatter3d": [
           {
            "line": {
             "colorbar": {
              "outlinewidth": 0,
              "ticks": ""
             }
            },
            "marker": {
             "colorbar": {
              "outlinewidth": 0,
              "ticks": ""
             }
            },
            "type": "scatter3d"
           }
          ],
          "scattercarpet": [
           {
            "marker": {
             "colorbar": {
              "outlinewidth": 0,
              "ticks": ""
             }
            },
            "type": "scattercarpet"
           }
          ],
          "scattergeo": [
           {
            "marker": {
             "colorbar": {
              "outlinewidth": 0,
              "ticks": ""
             }
            },
            "type": "scattergeo"
           }
          ],
          "scattergl": [
           {
            "marker": {
             "colorbar": {
              "outlinewidth": 0,
              "ticks": ""
             }
            },
            "type": "scattergl"
           }
          ],
          "scattermapbox": [
           {
            "marker": {
             "colorbar": {
              "outlinewidth": 0,
              "ticks": ""
             }
            },
            "type": "scattermapbox"
           }
          ],
          "scatterpolar": [
           {
            "marker": {
             "colorbar": {
              "outlinewidth": 0,
              "ticks": ""
             }
            },
            "type": "scatterpolar"
           }
          ],
          "scatterpolargl": [
           {
            "marker": {
             "colorbar": {
              "outlinewidth": 0,
              "ticks": ""
             }
            },
            "type": "scatterpolargl"
           }
          ],
          "scatterternary": [
           {
            "marker": {
             "colorbar": {
              "outlinewidth": 0,
              "ticks": ""
             }
            },
            "type": "scatterternary"
           }
          ],
          "surface": [
           {
            "colorbar": {
             "outlinewidth": 0,
             "ticks": ""
            },
            "colorscale": [
             [
              0,
              "#0d0887"
             ],
             [
              0.1111111111111111,
              "#46039f"
             ],
             [
              0.2222222222222222,
              "#7201a8"
             ],
             [
              0.3333333333333333,
              "#9c179e"
             ],
             [
              0.4444444444444444,
              "#bd3786"
             ],
             [
              0.5555555555555556,
              "#d8576b"
             ],
             [
              0.6666666666666666,
              "#ed7953"
             ],
             [
              0.7777777777777778,
              "#fb9f3a"
             ],
             [
              0.8888888888888888,
              "#fdca26"
             ],
             [
              1,
              "#f0f921"
             ]
            ],
            "type": "surface"
           }
          ],
          "table": [
           {
            "cells": {
             "fill": {
              "color": "#EBF0F8"
             },
             "line": {
              "color": "white"
             }
            },
            "header": {
             "fill": {
              "color": "#C8D4E3"
             },
             "line": {
              "color": "white"
             }
            },
            "type": "table"
           }
          ]
         },
         "layout": {
          "annotationdefaults": {
           "arrowcolor": "#2a3f5f",
           "arrowhead": 0,
           "arrowwidth": 1
          },
          "autotypenumbers": "strict",
          "coloraxis": {
           "colorbar": {
            "outlinewidth": 0,
            "ticks": ""
           }
          },
          "colorscale": {
           "diverging": [
            [
             0,
             "#8e0152"
            ],
            [
             0.1,
             "#c51b7d"
            ],
            [
             0.2,
             "#de77ae"
            ],
            [
             0.3,
             "#f1b6da"
            ],
            [
             0.4,
             "#fde0ef"
            ],
            [
             0.5,
             "#f7f7f7"
            ],
            [
             0.6,
             "#e6f5d0"
            ],
            [
             0.7,
             "#b8e186"
            ],
            [
             0.8,
             "#7fbc41"
            ],
            [
             0.9,
             "#4d9221"
            ],
            [
             1,
             "#276419"
            ]
           ],
           "sequential": [
            [
             0,
             "#0d0887"
            ],
            [
             0.1111111111111111,
             "#46039f"
            ],
            [
             0.2222222222222222,
             "#7201a8"
            ],
            [
             0.3333333333333333,
             "#9c179e"
            ],
            [
             0.4444444444444444,
             "#bd3786"
            ],
            [
             0.5555555555555556,
             "#d8576b"
            ],
            [
             0.6666666666666666,
             "#ed7953"
            ],
            [
             0.7777777777777778,
             "#fb9f3a"
            ],
            [
             0.8888888888888888,
             "#fdca26"
            ],
            [
             1,
             "#f0f921"
            ]
           ],
           "sequentialminus": [
            [
             0,
             "#0d0887"
            ],
            [
             0.1111111111111111,
             "#46039f"
            ],
            [
             0.2222222222222222,
             "#7201a8"
            ],
            [
             0.3333333333333333,
             "#9c179e"
            ],
            [
             0.4444444444444444,
             "#bd3786"
            ],
            [
             0.5555555555555556,
             "#d8576b"
            ],
            [
             0.6666666666666666,
             "#ed7953"
            ],
            [
             0.7777777777777778,
             "#fb9f3a"
            ],
            [
             0.8888888888888888,
             "#fdca26"
            ],
            [
             1,
             "#f0f921"
            ]
           ]
          },
          "colorway": [
           "#636efa",
           "#EF553B",
           "#00cc96",
           "#ab63fa",
           "#FFA15A",
           "#19d3f3",
           "#FF6692",
           "#B6E880",
           "#FF97FF",
           "#FECB52"
          ],
          "font": {
           "color": "#2a3f5f"
          },
          "geo": {
           "bgcolor": "white",
           "lakecolor": "white",
           "landcolor": "#E5ECF6",
           "showlakes": true,
           "showland": true,
           "subunitcolor": "white"
          },
          "hoverlabel": {
           "align": "left"
          },
          "hovermode": "closest",
          "mapbox": {
           "style": "light"
          },
          "paper_bgcolor": "white",
          "plot_bgcolor": "#E5ECF6",
          "polar": {
           "angularaxis": {
            "gridcolor": "white",
            "linecolor": "white",
            "ticks": ""
           },
           "bgcolor": "#E5ECF6",
           "radialaxis": {
            "gridcolor": "white",
            "linecolor": "white",
            "ticks": ""
           }
          },
          "scene": {
           "xaxis": {
            "backgroundcolor": "#E5ECF6",
            "gridcolor": "white",
            "gridwidth": 2,
            "linecolor": "white",
            "showbackground": true,
            "ticks": "",
            "zerolinecolor": "white"
           },
           "yaxis": {
            "backgroundcolor": "#E5ECF6",
            "gridcolor": "white",
            "gridwidth": 2,
            "linecolor": "white",
            "showbackground": true,
            "ticks": "",
            "zerolinecolor": "white"
           },
           "zaxis": {
            "backgroundcolor": "#E5ECF6",
            "gridcolor": "white",
            "gridwidth": 2,
            "linecolor": "white",
            "showbackground": true,
            "ticks": "",
            "zerolinecolor": "white"
           }
          },
          "shapedefaults": {
           "line": {
            "color": "#2a3f5f"
           }
          },
          "ternary": {
           "aaxis": {
            "gridcolor": "white",
            "linecolor": "white",
            "ticks": ""
           },
           "baxis": {
            "gridcolor": "white",
            "linecolor": "white",
            "ticks": ""
           },
           "bgcolor": "#E5ECF6",
           "caxis": {
            "gridcolor": "white",
            "linecolor": "white",
            "ticks": ""
           }
          },
          "title": {
           "x": 0.05
          },
          "xaxis": {
           "automargin": true,
           "gridcolor": "white",
           "linecolor": "white",
           "ticks": "",
           "title": {
            "standoff": 15
           },
           "zerolinecolor": "white",
           "zerolinewidth": 2
          },
          "yaxis": {
           "automargin": true,
           "gridcolor": "white",
           "linecolor": "white",
           "ticks": "",
           "title": {
            "standoff": 15
           },
           "zerolinecolor": "white",
           "zerolinewidth": 2
          }
         }
        },
        "title": {
         "text": "Day vs. Prices"
        },
        "xaxis": {
         "anchor": "y",
         "domain": [
          0,
          1
         ],
         "title": {
          "text": "Date"
         }
        },
        "yaxis": {
         "anchor": "x",
         "domain": [
          0,
          1
         ],
         "title": {
          "text": "Price"
         }
        }
       }
      }
     },
     "metadata": {},
     "output_type": "display_data"
    }
   ],
   "source": [
    "import plotly.express as px\n",
    "# Create a line plot using Plotly\n",
    "fig = px.line(data, x='Date', y='Price', title='Day vs. Prices')\n",
    "# Show the plot\n",
    "fig.show()"
   ]
  },
  {
   "cell_type": "code",
   "execution_count": 14,
   "metadata": {},
   "outputs": [
    {
     "data": {
      "image/png": "[encoded data removed]",
      "text/plain": [
       "<Figure size 640x480 with 1 Axes>"
      ]
     },
     "metadata": {},
     "output_type": "display_data"
    }
   ],
   "source": [
    "\n",
    "# Create a scatter plot\n",
    "plt.scatter(data['Price']    , data['Day'] , label='Price vs. Day', color='blue', marker='o')\n",
    "\n",
    "# Add labels and a title\n",
    "plt.xlabel('Price')\n",
    "plt.ylabel('Day')\n",
    "plt.title('Scatter Plot: Day vs. Price')\n",
    "\n",
    "# Add a legend (optional)\n",
    "plt.legend()\n",
    "\n",
    "\n",
    "plt.show()\n"
   ]
  },
  {
   "cell_type": "code",
   "execution_count": 15,
   "metadata": {},
   "outputs": [
    {
     "data": {
      "application/vnd.plotly.v1+json": {
       "config": {
        "plotlyServerURL": "https://plot.ly"
       },
       "data": [
        {
         "hovertemplate": "Price=%{x}<br>Day=%{y}<extra></extra>",
         "legendgroup": "",
         "marker": {
          "color": "blue",
          "symbol": "circle"
         },
         "mode": "markers",
         "name": "",
         "orientation": "v",
         "showlegend": false,
         "type": "scatter",
         "x": [
          0.9202,
          0.9189,
          0.9241,
          0.9256,
          0.9248,
          0.9206,
          0.9218,
          0.9179,
          0.9199,
          0.9195,
          0.9191,
          0.9169,
          0.9168,
          0.9134,
          0.9105,
          0.911,
          0.9126,
          0.9084,
          0.9081,
          0.9134,
          0.9141,
          0.9102,
          0.9093,
          0.9077,
          0.911,
          0.902,
          0.9044,
          0.9037,
          0.8989,
          0.8983,
          0.8927,
          0.8906,
          0.8898,
          0.8904,
          0.8906,
          0.8983,
          0.9083,
          0.9088,
          0.9115,
          0.9182,
          0.9211,
          0.919,
          0.9163,
          0.9163,
          0.9201,
          0.9162,
          0.9122,
          0.9168,
          0.918,
          0.9125,
          0.9101,
          0.9158,
          0.9154,
          0.914,
          0.9135,
          0.9229,
          0.9264,
          0.9295,
          0.9301,
          0.9272,
          0.9345,
          0.9351,
          0.9332,
          0.9337,
          0.929,
          0.9353,
          0.9314,
          0.9338,
          0.9323,
          0.9326,
          0.9301,
          0.9284,
          0.9246,
          0.9254,
          0.9282,
          0.9223,
          0.9204,
          0.9195,
          0.9215,
          0.9158,
          0.9104,
          0.9121,
          0.9084,
          0.9074,
          0.9079,
          0.9039,
          0.9088,
          0.9108,
          0.9071,
          0.9065,
          0.9055,
          0.9113,
          0.9054,
          0.9098,
          0.9115,
          0.9127,
          0.9112,
          0.9151,
          0.9088,
          0.9054,
          0.9097,
          0.9162,
          0.9206,
          0.9173,
          0.9153,
          0.9168,
          0.9129,
          0.9176,
          0.9223,
          0.917,
          0.9219,
          0.9221,
          0.926,
          0.9291,
          0.923,
          0.9209,
          0.9283,
          0.9326,
          0.9372,
          0.9426,
          0.9453,
          0.9317,
          0.9317,
          0.9394,
          0.9448,
          0.948,
          0.9478,
          0.9363,
          0.9402,
          0.9434,
          0.9371,
          0.9452,
          0.9424,
          0.9479,
          0.9436,
          0.943,
          0.939,
          0.9358,
          0.935,
          0.937,
          0.9354,
          0.9312,
          0.9326,
          0.9362,
          0.9311,
          0.9334,
          0.9321,
          0.9316,
          0.9262,
          0.9163,
          0.9098,
          0.9205,
          0.9218,
          0.9199,
          0.918,
          0.9158,
          0.9189,
          0.9198,
          0.921,
          0.9233,
          0.9263,
          0.9269,
          0.9242,
          0.9232,
          0.9215,
          0.9295,
          0.9313,
          0.9318,
          0.9392,
          0.9502,
          0.9431,
          0.9475,
          0.9376,
          0.9341,
          0.9379,
          0.9422,
          0.9397,
          0.9399,
          0.9418,
          0.9437,
          0.9428,
          0.9413,
          0.9426,
          0.9446,
          0.9407,
          0.9361,
          0.9404,
          0.9489,
          0.9493,
          0.9471,
          0.9517,
          0.955,
          0.953,
          0.9486,
          0.95,
          0.9607,
          0.968,
          0.967,
          0.9616,
          0.9606,
          0.9617,
          0.9703,
          0.9761,
          0.9685,
          0.9649,
          0.9619,
          0.9661,
          0.9681,
          0.9656,
          0.9794,
          0.9984,
          0.9925,
          0.9977,
          1.0036,
          1.0251,
          1.0182,
          1.0127,
          1.0114,
          1.0033,
          1.0034,
          0.992,
          1.0032,
          1.0126,
          1.0138,
          1.0218,
          1.023,
          1.0145,
          1.0161,
          1.0285,
          1.0228,
          1.0301,
          1.0302,
          1.0306,
          1.0262,
          1.0211,
          1.0117,
          1.0013,
          1.0175,
          1.0201,
          1.0185,
          1.027,
          1.0421,
          1.0405,
          1.0316,
          1.0167,
          1.0164,
          1.0027,
          0.9975,
          0.9981,
          0.9996,
          1.0016,
          1.0028,
          0.9879,
          0.9957,
          1.0001,
          0.9996,
          1.0094,
          1.0069,
          1.0045,
          1.0053,
          0.9939,
          0.9984,
          1.0001,
          1.0035,
          1.0024,
          1.0031,
          1.0029,
          1.0056,
          0.9962,
          0.9909,
          0.982,
          0.9829,
          0.9839,
          0.9745,
          0.969,
          0.9708,
          0.979,
          0.9805,
          0.9818,
          0.9759,
          0.9836,
          0.9836,
          0.9742,
          0.9783,
          0.9806,
          0.9798,
          0.9883,
          0.9781,
          0.979,
          0.9773,
          0.9822,
          0.9777,
          0.9858,
          0.991,
          0.998,
          0.9936,
          0.9959,
          0.9957,
          0.9816,
          0.984,
          0.982,
          0.9737,
          0.9592,
          0.9588,
          0.9537,
          0.9576,
          0.9505,
          0.9447,
          0.9471,
          0.9498,
          0.9463,
          0.9498,
          0.9512,
          0.9522,
          0.9477,
          0.9573,
          0.9598,
          0.9607,
          0.9507,
          0.9418,
          0.933,
          0.9343,
          0.9349,
          0.9327,
          0.9302,
          0.9388,
          0.9314,
          0.9276,
          0.9319,
          0.9321,
          0.936,
          0.9314,
          0.9352,
          0.9466,
          0.9442,
          0.9551,
          0.9478,
          0.9583,
          0.9602,
          0.9633,
          0.951,
          0.9496,
          0.9471,
          0.9474,
          0.9484,
          0.9412,
          0.9502,
          0.9518,
          0.9483,
          0.9522,
          0.9471,
          0.9399,
          0.9333,
          0.9263,
          0.9225,
          0.9212,
          0.9268,
          0.9273,
          0.9251,
          0.9233,
          0.9184,
          0.9234,
          0.9188,
          0.9191,
          0.9191,
          0.9176,
          0.9168,
          0.9112,
          0.9044,
          0.9034,
          0.896,
          0.9018,
          0.9106,
          0.9103,
          0.9092,
          0.9086,
          0.9065,
          0.9076,
          0.9049,
          0.9015,
          0.9063,
          0.9128,
          0.914,
          0.9163,
          0.9102,
          0.9027,
          0.9172,
          0.9211,
          0.9151,
          0.9035,
          0.899,
          0.8986,
          0.891,
          0.8872,
          0.8933,
          0.8839,
          0.8828,
          0.884,
          0.883,
          0.8801,
          0.8791,
          0.8803,
          0.8843,
          0.8808,
          0.875,
          0.8752,
          0.876,
          0.8739,
          0.8734,
          0.874,
          0.8845,
          0.8871,
          0.8899,
          0.8971,
          0.8971,
          0.8896,
          0.8847,
          0.8828,
          0.8815,
          0.8839,
          0.8815,
          0.8827,
          0.8763,
          0.8758,
          0.8728,
          0.8737,
          0.8797,
          0.8828,
          0.88,
          0.8853,
          0.8836,
          0.8858,
          0.8851,
          0.8794,
          0.8829,
          0.8809,
          0.8839,
          0.8826,
          0.8833,
          0.8826,
          0.8828,
          0.886,
          0.8866,
          0.8895,
          0.8825,
          0.8858,
          0.888,
          0.8861,
          0.8838,
          0.8854,
          0.8816,
          0.8874,
          0.8859,
          0.8836,
          0.8847,
          0.8833,
          0.8819,
          0.8855,
          0.8833,
          0.8921,
          0.8929,
          0.8889,
          0.8898,
          0.8857,
          0.8793,
          0.8834,
          0.8832,
          0.8794,
          0.8731,
          0.8732,
          0.8709,
          0.8624,
          0.8628,
          0.8644,
          0.8654,
          0.861,
          0.8635,
          0.8615,
          0.8647,
          0.8559,
          0.8615,
          0.8623,
          0.8613,
          0.8583,
          0.8602,
          0.8581,
          0.8594,
          0.8611,
          0.8619,
          0.8622,
          0.8625,
          0.8672,
          0.8656,
          0.8642,
          0.8655,
          0.8651,
          0.8621,
          0.8603,
          0.8622,
          0.8632,
          0.8621,
          0.8558,
          0.8549,
          0.8534,
          0.8518,
          0.8554,
          0.8527,
          0.8526,
          0.8526,
          0.8498,
          0.8461,
          0.847,
          0.8466,
          0.8463,
          0.8455,
          0.8462,
          0.8445,
          0.8423,
          0.8415,
          0.842,
          0.8446,
          0.8467,
          0.8475,
          0.8477,
          0.8508,
          0.8493,
          0.8506,
          0.8513,
          0.8548,
          0.8563,
          0.8537,
          0.8539,
          0.8488,
          0.8478,
          0.8524,
          0.8517,
          0.8531,
          0.8517,
          0.8501,
          0.8449,
          0.8447,
          0.8429,
          0.8424,
          0.8423,
          0.841,
          0.8442,
          0.8462,
          0.8472,
          0.8493,
          0.8495,
          0.8477,
          0.8487,
          0.8473,
          0.8468,
          0.8463,
          0.8447,
          0.849,
          0.843,
          0.842,
          0.8442,
          0.848,
          0.8456,
          0.8428,
          0.8426,
          0.8437,
          0.8433,
          0.8404,
          0.8384,
          0.8377,
          0.8379,
          0.8384,
          0.8374,
          0.8391,
          0.8429,
          0.8396,
          0.8337,
          0.8245,
          0.825,
          0.8258,
          0.8215,
          0.8209,
          0.8214,
          0.8203,
          0.8218,
          0.8245,
          0.8188,
          0.8187,
          0.8177,
          0.82,
          0.8199,
          0.8201,
          0.8161,
          0.8186,
          0.8208,
          0.8177,
          0.8213,
          0.8181,
          0.8227,
          0.8235,
          0.8277,
          0.8282,
          0.823,
          0.8243,
          0.822,
          0.8286,
          0.8328,
          0.8322,
          0.8288,
          0.8318,
          0.8249,
          0.8246,
          0.8269,
          0.8276,
          0.8264,
          0.8322,
          0.8308,
          0.8308,
          0.8308,
          0.8342,
          0.8355,
          0.8346,
          0.8368,
          0.8394,
          0.84,
          0.8393,
          0.8422,
          0.8419,
          0.8464,
          0.8499,
          0.849,
          0.8524,
          0.8534,
          0.8499,
          0.8478,
          0.85,
          0.8465,
          0.8437,
          0.8377,
          0.84,
          0.8392,
          0.8347,
          0.8401,
          0.8381,
          0.8364,
          0.8342,
          0.8383,
          0.8402,
          0.8441,
          0.839,
          0.8354,
          0.8288,
          0.8269,
          0.8298,
          0.828,
          0.8211,
          0.822,
          0.823,
          0.8225,
          0.825,
          0.827,
          0.8306,
          0.8258,
          0.8243,
          0.8249,
          0.8243,
          0.8251,
          0.825,
          0.8299,
          0.8302,
          0.8359,
          0.831,
          0.8302,
          0.8291,
          0.8239,
          0.8247,
          0.8256,
          0.8222,
          0.8237,
          0.8218,
          0.822,
          0.8259,
          0.8244,
          0.8278,
          0.8277,
          0.8224,
          0.8225,
          0.8191,
          0.8228,
          0.8183,
          0.8147,
          0.8111,
          0.813,
          0.8162
         ],
         "xaxis": "x",
         "y": [
          30,
          29,
          28,
          25,
          24,
          23,
          22,
          21,
          18,
          17,
          16,
          15,
          14,
          11,
          10,
          9,
          8,
          7,
          4,
          3,
          2,
          1,
          31,
          28,
          27,
          26,
          25,
          24,
          21,
          20,
          19,
          18,
          17,
          14,
          13,
          12,
          11,
          10,
          7,
          6,
          5,
          4,
          3,
          30,
          29,
          28,
          27,
          26,
          23,
          22,
          21,
          20,
          19,
          16,
          15,
          14,
          13,
          12,
          9,
          8,
          7,
          6,
          5,
          2,
          1,
          31,
          30,
          29,
          26,
          25,
          24,
          23,
          22,
          19,
          18,
          17,
          16,
          15,
          12,
          11,
          10,
          9,
          8,
          5,
          4,
          3,
          2,
          1,
          28,
          27,
          26,
          25,
          24,
          21,
          20,
          19,
          18,
          17,
          14,
          13,
          12,
          11,
          10,
          7,
          6,
          5,
          4,
          3,
          31,
          30,
          29,
          28,
          27,
          24,
          23,
          22,
          21,
          20,
          17,
          16,
          15,
          14,
          13,
          10,
          9,
          8,
          7,
          6,
          3,
          2,
          1,
          28,
          27,
          24,
          23,
          22,
          21,
          20,
          17,
          16,
          15,
          14,
          13,
          10,
          9,
          8,
          7,
          6,
          3,
          2,
          1,
          31,
          30,
          27,
          26,
          25,
          24,
          23,
          20,
          19,
          18,
          17,
          16,
          13,
          12,
          11,
          10,
          9,
          6,
          5,
          4,
          3,
          2,
          30,
          29,
          28,
          27,
          26,
          23,
          22,
          21,
          20,
          19,
          16,
          15,
          14,
          13,
          12,
          9,
          8,
          7,
          6,
          5,
          2,
          1,
          30,
          29,
          28,
          25,
          24,
          23,
          22,
          21,
          18,
          17,
          16,
          15,
          14,
          11,
          10,
          9,
          8,
          7,
          4,
          3,
          2,
          1,
          31,
          28,
          27,
          26,
          25,
          24,
          21,
          20,
          19,
          18,
          17,
          14,
          13,
          12,
          11,
          10,
          7,
          6,
          5,
          4,
          3,
          30,
          29,
          28,
          27,
          26,
          23,
          22,
          21,
          20,
          19,
          16,
          15,
          14,
          13,
          12,
          9,
          8,
          7,
          6,
          5,
          2,
          1,
          31,
          30,
          29,
          26,
          25,
          24,
          23,
          22,
          19,
          18,
          17,
          16,
          15,
          12,
          11,
          10,
          9,
          8,
          5,
          4,
          3,
          2,
          1,
          29,
          28,
          27,
          26,
          25,
          22,
          21,
          20,
          19,
          18,
          15,
          14,
          13,
          12,
          11,
          8,
          7,
          6,
          5,
          4,
          1,
          30,
          29,
          28,
          27,
          24,
          23,
          22,
          21,
          20,
          17,
          16,
          15,
          14,
          13,
          10,
          9,
          8,
          7,
          6,
          3,
          2,
          1,
          31,
          30,
          27,
          26,
          25,
          24,
          23,
          20,
          19,
          18,
          17,
          16,
          13,
          12,
          11,
          10,
          9,
          6,
          5,
          4,
          3,
          2,
          29,
          28,
          27,
          26,
          25,
          22,
          21,
          20,
          19,
          18,
          15,
          14,
          13,
          12,
          11,
          8,
          7,
          6,
          5,
          4,
          1,
          31,
          30,
          29,
          28,
          25,
          24,
          23,
          22,
          21,
          18,
          17,
          16,
          15,
          14,
          11,
          10,
          9,
          8,
          7,
          4,
          3,
          2,
          1,
          28,
          25,
          24,
          23,
          22,
          21,
          18,
          17,
          16,
          15,
          14,
          11,
          10,
          9,
          8,
          7,
          4,
          3,
          2,
          1,
          31,
          28,
          27,
          26,
          25,
          24,
          21,
          20,
          19,
          18,
          17,
          14,
          13,
          12,
          11,
          10,
          7,
          6,
          5,
          4,
          3,
          31,
          30,
          29,
          28,
          27,
          24,
          23,
          22,
          21,
          20,
          17,
          16,
          15,
          14,
          13,
          10,
          9,
          8,
          7,
          6,
          3,
          2,
          1,
          30,
          29,
          26,
          25,
          24,
          23,
          22,
          19,
          18,
          17,
          16,
          15,
          12,
          11,
          10,
          9,
          8,
          5,
          4,
          3,
          2,
          1,
          29,
          28,
          27,
          26,
          25,
          22,
          21,
          20,
          19,
          18,
          15,
          14,
          13,
          12,
          11,
          8,
          7,
          6,
          5,
          4,
          1,
          30,
          29,
          28,
          27,
          24,
          23,
          22,
          21,
          20,
          17,
          16,
          15,
          14,
          13,
          10,
          9,
          8,
          7,
          6,
          3,
          2,
          1,
          31,
          30,
          27,
          26,
          25,
          24,
          23,
          20,
          19,
          18,
          17,
          16,
          13,
          12,
          11,
          10,
          9,
          6,
          5,
          4,
          3,
          2,
          30,
          29,
          28,
          27,
          26,
          23,
          22,
          21,
          20,
          19,
          16,
          15,
          14,
          13,
          12,
          9,
          8,
          7,
          6,
          5,
          2,
          1,
          30,
          29,
          28,
          25,
          24,
          23,
          22,
          21,
          18,
          17,
          16,
          15,
          14,
          11,
          10,
          9,
          8,
          7,
          4,
          3,
          2,
          1,
          31,
          28,
          27,
          26,
          25,
          24,
          21,
          20,
          19,
          18,
          17,
          14,
          13,
          12,
          11,
          10,
          7,
          6,
          5,
          4,
          3,
          30,
          29,
          28,
          27,
          26,
          23,
          22,
          21,
          20,
          19,
          16,
          15,
          14,
          13,
          12,
          9,
          8,
          7,
          6,
          5,
          2,
          1,
          31,
          30,
          29,
          26,
          25,
          24,
          23,
          22,
          19,
          18,
          17,
          16,
          15,
          12,
          11,
          10,
          9,
          8,
          5,
          4,
          3,
          2,
          1,
          26,
          25,
          24,
          23,
          22,
          19,
          18,
          17,
          16,
          15,
          12,
          11,
          10,
          9,
          8,
          5,
          4,
          3,
          2,
          1,
          29,
          28,
          27,
          26,
          25,
          22,
          21,
          20,
          19,
          18,
          15,
          14,
          13,
          12,
          11,
          8,
          7,
          6,
          5,
          4
         ],
         "yaxis": "y"
        }
       ],
       "layout": {
        "autosize": false,
        "height": 600,
        "legend": {
         "tracegroupgap": 0
        },
        "template": {
         "data": {
          "bar": [
           {
            "error_x": {
             "color": "#2a3f5f"
            },
            "error_y": {
             "color": "#2a3f5f"
            },
            "marker": {
             "line": {
              "color": "#E5ECF6",
              "width": 0.5
             },
             "pattern": {
              "fillmode": "overlay",
              "size": 10,
              "solidity": 0.2
             }
            },
            "type": "bar"
           }
          ],
          "barpolar": [
           {
            "marker": {
             "line": {
              "color": "#E5ECF6",
              "width": 0.5
             },
             "pattern": {
              "fillmode": "overlay",
              "size": 10,
              "solidity": 0.2
             }
            },
            "type": "barpolar"
           }
          ],
          "carpet": [
           {
            "aaxis": {
             "endlinecolor": "#2a3f5f",
             "gridcolor": "white",
             "linecolor": "white",
             "minorgridcolor": "white",
             "startlinecolor": "#2a3f5f"
            },
            "baxis": {
             "endlinecolor": "#2a3f5f",
             "gridcolor": "white",
             "linecolor": "white",
             "minorgridcolor": "white",
             "startlinecolor": "#2a3f5f"
            },
            "type": "carpet"
           }
          ],
          "choropleth": [
           {
            "colorbar": {
             "outlinewidth": 0,
             "ticks": ""
            },
            "type": "choropleth"
           }
          ],
          "contour": [
           {
            "colorbar": {
             "outlinewidth": 0,
             "ticks": ""
            },
            "colorscale": [
             [
              0,
              "#0d0887"
             ],
             [
              0.1111111111111111,
              "#46039f"
             ],
             [
              0.2222222222222222,
              "#7201a8"
             ],
             [
              0.3333333333333333,
              "#9c179e"
             ],
             [
              0.4444444444444444,
              "#bd3786"
             ],
             [
              0.5555555555555556,
              "#d8576b"
             ],
             [
              0.6666666666666666,
              "#ed7953"
             ],
             [
              0.7777777777777778,
              "#fb9f3a"
             ],
             [
              0.8888888888888888,
              "#fdca26"
             ],
             [
              1,
              "#f0f921"
             ]
            ],
            "type": "contour"
           }
          ],
          "contourcarpet": [
           {
            "colorbar": {
             "outlinewidth": 0,
             "ticks": ""
            },
            "type": "contourcarpet"
           }
          ],
          "heatmap": [
           {
            "colorbar": {
             "outlinewidth": 0,
             "ticks": ""
            },
            "colorscale": [
             [
              0,
              "#0d0887"
             ],
             [
              0.1111111111111111,
              "#46039f"
             ],
             [
              0.2222222222222222,
              "#7201a8"
             ],
             [
              0.3333333333333333,
              "#9c179e"
             ],
             [
              0.4444444444444444,
              "#bd3786"
             ],
             [
              0.5555555555555556,
              "#d8576b"
             ],
             [
              0.6666666666666666,
              "#ed7953"
             ],
             [
              0.7777777777777778,
              "#fb9f3a"
             ],
             [
              0.8888888888888888,
              "#fdca26"
             ],
             [
              1,
              "#f0f921"
             ]
            ],
            "type": "heatmap"
           }
          ],
          "heatmapgl": [
           {
            "colorbar": {
             "outlinewidth": 0,
             "ticks": ""
            },
            "colorscale": [
             [
              0,
              "#0d0887"
             ],
             [
              0.1111111111111111,
              "#46039f"
             ],
             [
              0.2222222222222222,
              "#7201a8"
             ],
             [
              0.3333333333333333,
              "#9c179e"
             ],
             [
              0.4444444444444444,
              "#bd3786"
             ],
             [
              0.5555555555555556,
              "#d8576b"
             ],
             [
              0.6666666666666666,
              "#ed7953"
             ],
             [
              0.7777777777777778,
              "#fb9f3a"
             ],
             [
              0.8888888888888888,
              "#fdca26"
             ],
             [
              1,
              "#f0f921"
             ]
            ],
            "type": "heatmapgl"
           }
          ],
          "histogram": [
           {
            "marker": {
             "pattern": {
              "fillmode": "overlay",
              "size": 10,
              "solidity": 0.2
             }
            },
            "type": "histogram"
           }
          ],
          "histogram2d": [
           {
            "colorbar": {
             "outlinewidth": 0,
             "ticks": ""
            },
            "colorscale": [
             [
              0,
              "#0d0887"
             ],
             [
              0.1111111111111111,
              "#46039f"
             ],
             [
              0.2222222222222222,
              "#7201a8"
             ],
             [
              0.3333333333333333,
              "#9c179e"
             ],
             [
              0.4444444444444444,
              "#bd3786"
             ],
             [
              0.5555555555555556,
              "#d8576b"
             ],
             [
              0.6666666666666666,
              "#ed7953"
             ],
             [
              0.7777777777777778,
              "#fb9f3a"
             ],
             [
              0.8888888888888888,
              "#fdca26"
             ],
             [
              1,
              "#f0f921"
             ]
            ],
            "type": "histogram2d"
           }
          ],
          "histogram2dcontour": [
           {
            "colorbar": {
             "outlinewidth": 0,
             "ticks": ""
            },
            "colorscale": [
             [
              0,
              "#0d0887"
             ],
             [
              0.1111111111111111,
              "#46039f"
             ],
             [
              0.2222222222222222,
              "#7201a8"
             ],
             [
              0.3333333333333333,
              "#9c179e"
             ],
             [
              0.4444444444444444,
              "#bd3786"
             ],
             [
              0.5555555555555556,
              "#d8576b"
             ],
             [
              0.6666666666666666,
              "#ed7953"
             ],
             [
              0.7777777777777778,
              "#fb9f3a"
             ],
             [
              0.8888888888888888,
              "#fdca26"
             ],
             [
              1,
              "#f0f921"
             ]
            ],
            "type": "histogram2dcontour"
           }
          ],
          "mesh3d": [
           {
            "colorbar": {
             "outlinewidth": 0,
             "ticks": ""
            },
            "type": "mesh3d"
           }
          ],
          "parcoords": [
           {
            "line": {
             "colorbar": {
              "outlinewidth": 0,
              "ticks": ""
             }
            },
            "type": "parcoords"
           }
          ],
          "pie": [
           {
            "automargin": true,
            "type": "pie"
           }
          ],
          "scatter": [
           {
            "marker": {
             "colorbar": {
              "outlinewidth": 0,
              "ticks": ""
             }
            },
            "type": "scatter"
           }
          ],
          "scatter3d": [
           {
            "line": {
             "colorbar": {
              "outlinewidth": 0,
              "ticks": ""
             }
            },
            "marker": {
             "colorbar": {
              "outlinewidth": 0,
              "ticks": ""
             }
            },
            "type": "scatter3d"
           }
          ],
          "scattercarpet": [
           {
            "marker": {
             "colorbar": {
              "outlinewidth": 0,
              "ticks": ""
             }
            },
            "type": "scattercarpet"
           }
          ],
          "scattergeo": [
           {
            "marker": {
             "colorbar": {
              "outlinewidth": 0,
              "ticks": ""
             }
            },
            "type": "scattergeo"
           }
          ],
          "scattergl": [
           {
            "marker": {
             "colorbar": {
              "outlinewidth": 0,
              "ticks": ""
             }
            },
            "type": "scattergl"
           }
          ],
          "scattermapbox": [
           {
            "marker": {
             "colorbar": {
              "outlinewidth": 0,
              "ticks": ""
             }
            },
            "type": "scattermapbox"
           }
          ],
          "scatterpolar": [
           {
            "marker": {
             "colorbar": {
              "outlinewidth": 0,
              "ticks": ""
             }
            },
            "type": "scatterpolar"
           }
          ],
          "scatterpolargl": [
           {
            "marker": {
             "colorbar": {
              "outlinewidth": 0,
              "ticks": ""
             }
            },
            "type": "scatterpolargl"
           }
          ],
          "scatterternary": [
           {
            "marker": {
             "colorbar": {
              "outlinewidth": 0,
              "ticks": ""
             }
            },
            "type": "scatterternary"
           }
          ],
          "surface": [
           {
            "colorbar": {
             "outlinewidth": 0,
             "ticks": ""
            },
            "colorscale": [
             [
              0,
              "#0d0887"
             ],
             [
              0.1111111111111111,
              "#46039f"
             ],
             [
              0.2222222222222222,
              "#7201a8"
             ],
             [
              0.3333333333333333,
              "#9c179e"
             ],
             [
              0.4444444444444444,
              "#bd3786"
             ],
             [
              0.5555555555555556,
              "#d8576b"
             ],
             [
              0.6666666666666666,
              "#ed7953"
             ],
             [
              0.7777777777777778,
              "#fb9f3a"
             ],
             [
              0.8888888888888888,
              "#fdca26"
             ],
             [
              1,
              "#f0f921"
             ]
            ],
            "type": "surface"
           }
          ],
          "table": [
           {
            "cells": {
             "fill": {
              "color": "#EBF0F8"
             },
             "line": {
              "color": "white"
             }
            },
            "header": {
             "fill": {
              "color": "#C8D4E3"
             },
             "line": {
              "color": "white"
             }
            },
            "type": "table"
           }
          ]
         },
         "layout": {
          "annotationdefaults": {
           "arrowcolor": "#2a3f5f",
           "arrowhead": 0,
           "arrowwidth": 1
          },
          "autotypenumbers": "strict",
          "coloraxis": {
           "colorbar": {
            "outlinewidth": 0,
            "ticks": ""
           }
          },
          "colorscale": {
           "diverging": [
            [
             0,
             "#8e0152"
            ],
            [
             0.1,
             "#c51b7d"
            ],
            [
             0.2,
             "#de77ae"
            ],
            [
             0.3,
             "#f1b6da"
            ],
            [
             0.4,
             "#fde0ef"
            ],
            [
             0.5,
             "#f7f7f7"
            ],
            [
             0.6,
             "#e6f5d0"
            ],
            [
             0.7,
             "#b8e186"
            ],
            [
             0.8,
             "#7fbc41"
            ],
            [
             0.9,
             "#4d9221"
            ],
            [
             1,
             "#276419"
            ]
           ],
           "sequential": [
            [
             0,
             "#0d0887"
            ],
            [
             0.1111111111111111,
             "#46039f"
            ],
            [
             0.2222222222222222,
             "#7201a8"
            ],
            [
             0.3333333333333333,
             "#9c179e"
            ],
            [
             0.4444444444444444,
             "#bd3786"
            ],
            [
             0.5555555555555556,
             "#d8576b"
            ],
            [
             0.6666666666666666,
             "#ed7953"
            ],
            [
             0.7777777777777778,
             "#fb9f3a"
            ],
            [
             0.8888888888888888,
             "#fdca26"
            ],
            [
             1,
             "#f0f921"
            ]
           ],
           "sequentialminus": [
            [
             0,
             "#0d0887"
            ],
            [
             0.1111111111111111,
             "#46039f"
            ],
            [
             0.2222222222222222,
             "#7201a8"
            ],
            [
             0.3333333333333333,
             "#9c179e"
            ],
            [
             0.4444444444444444,
             "#bd3786"
            ],
            [
             0.5555555555555556,
             "#d8576b"
            ],
            [
             0.6666666666666666,
             "#ed7953"
            ],
            [
             0.7777777777777778,
             "#fb9f3a"
            ],
            [
             0.8888888888888888,
             "#fdca26"
            ],
            [
             1,
             "#f0f921"
            ]
           ]
          },
          "colorway": [
           "#636efa",
           "#EF553B",
           "#00cc96",
           "#ab63fa",
           "#FFA15A",
           "#19d3f3",
           "#FF6692",
           "#B6E880",
           "#FF97FF",
           "#FECB52"
          ],
          "font": {
           "color": "#2a3f5f"
          },
          "geo": {
           "bgcolor": "white",
           "lakecolor": "white",
           "landcolor": "#E5ECF6",
           "showlakes": true,
           "showland": true,
           "subunitcolor": "white"
          },
          "hoverlabel": {
           "align": "left"
          },
          "hovermode": "closest",
          "mapbox": {
           "style": "light"
          },
          "paper_bgcolor": "white",
          "plot_bgcolor": "#E5ECF6",
          "polar": {
           "angularaxis": {
            "gridcolor": "white",
            "linecolor": "white",
            "ticks": ""
           },
           "bgcolor": "#E5ECF6",
           "radialaxis": {
            "gridcolor": "white",
            "linecolor": "white",
            "ticks": ""
           }
          },
          "scene": {
           "xaxis": {
            "backgroundcolor": "#E5ECF6",
            "gridcolor": "white",
            "gridwidth": 2,
            "linecolor": "white",
            "showbackground": true,
            "ticks": "",
            "zerolinecolor": "white"
           },
           "yaxis": {
            "backgroundcolor": "#E5ECF6",
            "gridcolor": "white",
            "gridwidth": 2,
            "linecolor": "white",
            "showbackground": true,
            "ticks": "",
            "zerolinecolor": "white"
           },
           "zaxis": {
            "backgroundcolor": "#E5ECF6",
            "gridcolor": "white",
            "gridwidth": 2,
            "linecolor": "white",
            "showbackground": true,
            "ticks": "",
            "zerolinecolor": "white"
           }
          },
          "shapedefaults": {
           "line": {
            "color": "#2a3f5f"
           }
          },
          "ternary": {
           "aaxis": {
            "gridcolor": "white",
            "linecolor": "white",
            "ticks": ""
           },
           "baxis": {
            "gridcolor": "white",
            "linecolor": "white",
            "ticks": ""
           },
           "bgcolor": "#E5ECF6",
           "caxis": {
            "gridcolor": "white",
            "linecolor": "white",
            "ticks": ""
           }
          },
          "title": {
           "x": 0.05
          },
          "xaxis": {
           "automargin": true,
           "gridcolor": "white",
           "linecolor": "white",
           "ticks": "",
           "title": {
            "standoff": 15
           },
           "zerolinecolor": "white",
           "zerolinewidth": 2
          },
          "yaxis": {
           "automargin": true,
           "gridcolor": "white",
           "linecolor": "white",
           "ticks": "",
           "title": {
            "standoff": 15
           },
           "zerolinecolor": "white",
           "zerolinewidth": 2
          }
         }
        },
        "title": {
         "text": "Scatter Plot: Day vs. Price"
        },
        "width": 800,
        "xaxis": {
         "anchor": "y",
         "domain": [
          0,
          1
         ],
         "title": {
          "text": "Price"
         }
        },
        "yaxis": {
         "anchor": "x",
         "domain": [
          0,
          1
         ],
         "title": {
          "text": "Day"
         }
        }
       }
      }
     },
     "metadata": {},
     "output_type": "display_data"
    }
   ],
   "source": [
    "import plotly.express as px\n",
    "\n",
    "# Assuming 'data' is a DataFrame containing your data\n",
    "\n",
    "# Create a scatter plot with Plotly Express\n",
    "fig = px.scatter(data, x='Price', y='Day', title='Scatter Plot: Day vs. Price', \n",
    "                 labels={'Price': 'Price', 'Date': 'Day'}, color_discrete_sequence=['blue'])\n",
    "\n",
    "\n",
    "fig.update_layout(\n",
    "    autosize=False,\n",
    "    width=800,\n",
    "    height=600,)\n",
    "\n",
    "# Show the plot\n",
    "fig.show()\n"
   ]
  },
  {
   "cell_type": "code",
   "execution_count": 16,
   "metadata": {},
   "outputs": [
    {
     "data": {
      "image/png": "[encoded data removed]",
      "text/plain": [
       "<Figure size 640x480 with 1 Axes>"
      ]
     },
     "metadata": {},
     "output_type": "display_data"
    }
   ],
   "source": [
    "# Create a box plot\n",
    "plt.boxplot(data['Price'], vert=True)  # vert=False for a horizontal box plot\n",
    "plt.title('Outlier Detection for Price')\n",
    "plt.xlabel('Data Values')\n",
    "plt.show()"
   ]
  },
  {
   "cell_type": "code",
   "execution_count": 17,
   "metadata": {},
   "outputs": [
    {
     "data": {
      "application/vnd.plotly.v1+json": {
       "config": {
        "plotlyServerURL": "https://plot.ly"
       },
       "data": [
        {
         "alignmentgroup": "True",
         "hovertemplate": "variable=%{x}<br>value=%{y}<extra></extra>",
         "legendgroup": "",
         "marker": {
          "color": "#636efa"
         },
         "name": "",
         "notched": false,
         "offsetgroup": "",
         "orientation": "v",
         "showlegend": false,
         "type": "box",
         "x": [
          "Price",
          "Price",
          "Price",
          "Price",
          "Price",
          "Price",
          "Price",
          "Price",
          "Price",
          "Price",
          "Price",
          "Price",
          "Price",
          "Price",
          "Price",
          "Price",
          "Price",
          "Price",
          "Price",
          "Price",
          "Price",
          "Price",
          "Price",
          "Price",
          "Price",
          "Price",
          "Price",
          "Price",
          "Price",
          "Price",
          "Price",
          "Price",
          "Price",
          "Price",
          "Price",
          "Price",
          "Price",
          "Price",
          "Price",
          "Price",
          "Price",
          "Price",
          "Price",
          "Price",
          "Price",
          "Price",
          "Price",
          "Price",
          "Price",
          "Price",
          "Price",
          "Price",
          "Price",
          "Price",
          "Price",
          "Price",
          "Price",
          "Price",
          "Price",
          "Price",
          "Price",
          "Price",
          "Price",
          "Price",
          "Price",
          "Price",
          "Price",
          "Price",
          "Price",
          "Price",
          "Price",
          "Price",
          "Price",
          "Price",
          "Price",
          "Price",
          "Price",
          "Price",
          "Price",
          "Price",
          "Price",
          "Price",
          "Price",
          "Price",
          "Price",
          "Price",
          "Price",
          "Price",
          "Price",
          "Price",
          "Price",
          "Price",
          "Price",
          "Price",
          "Price",
          "Price",
          "Price",
          "Price",
          "Price",
          "Price",
          "Price",
          "Price",
          "Price",
          "Price",
          "Price",
          "Price",
          "Price",
          "Price",
          "Price",
          "Price",
          "Price",
          "Price",
          "Price",
          "Price",
          "Price",
          "Price",
          "Price",
          "Price",
          "Price",
          "Price",
          "Price",
          "Price",
          "Price",
          "Price",
          "Price",
          "Price",
          "Price",
          "Price",
          "Price",
          "Price",
          "Price",
          "Price",
          "Price",
          "Price",
          "Price",
          "Price",
          "Price",
          "Price",
          "Price",
          "Price",
          "Price",
          "Price",
          "Price",
          "Price",
          "Price",
          "Price",
          "Price",
          "Price",
          "Price",
          "Price",
          "Price",
          "Price",
          "Price",
          "Price",
          "Price",
          "Price",
          "Price",
          "Price",
          "Price",
          "Price",
          "Price",
          "Price",
          "Price",
          "Price",
          "Price",
          "Price",
          "Price",
          "Price",
          "Price",
          "Price",
          "Price",
          "Price",
          "Price",
          "Price",
          "Price",
          "Price",
          "Price",
          "Price",
          "Price",
          "Price",
          "Price",
          "Price",
          "Price",
          "Price",
          "Price",
          "Price",
          "Price",
          "Price",
          "Price",
          "Price",
          "Price",
          "Price",
          "Price",
          "Price",
          "Price",
          "Price",
          "Price",
          "Price",
          "Price",
          "Price",
          "Price",
          "Price",
          "Price",
          "Price",
          "Price",
          "Price",
          "Price",
          "Price",
          "Price",
          "Price",
          "Price",
          "Price",
          "Price",
          "Price",
          "Price",
          "Price",
          "Price",
          "Price",
          "Price",
          "Price",
          "Price",
          "Price",
          "Price",
          "Price",
          "Price",
          "Price",
          "Price",
          "Price",
          "Price",
          "Price",
          "Price",
          "Price",
          "Price",
          "Price",
          "Price",
          "Price",
          "Price",
          "Price",
          "Price",
          "Price",
          "Price",
          "Price",
          "Price",
          "Price",
          "Price",
          "Price",
          "Price",
          "Price",
          "Price",
          "Price",
          "Price",
          "Price",
          "Price",
          "Price",
          "Price",
          "Price",
          "Price",
          "Price",
          "Price",
          "Price",
          "Price",
          "Price",
          "Price",
          "Price",
          "Price",
          "Price",
          "Price",
          "Price",
          "Price",
          "Price",
          "Price",
          "Price",
          "Price",
          "Price",
          "Price",
          "Price",
          "Price",
          "Price",
          "Price",
          "Price",
          "Price",
          "Price",
          "Price",
          "Price",
          "Price",
          "Price",
          "Price",
          "Price",
          "Price",
          "Price",
          "Price",
          "Price",
          "Price",
          "Price",
          "Price",
          "Price",
          "Price",
          "Price",
          "Price",
          "Price",
          "Price",
          "Price",
          "Price",
          "Price",
          "Price",
          "Price",
          "Price",
          "Price",
          "Price",
          "Price",
          "Price",
          "Price",
          "Price",
          "Price",
          "Price",
          "Price",
          "Price",
          "Price",
          "Price",
          "Price",
          "Price",
          "Price",
          "Price",
          "Price",
          "Price",
          "Price",
          "Price",
          "Price",
          "Price",
          "Price",
          "Price",
          "Price",
          "Price",
          "Price",
          "Price",
          "Price",
          "Price",
          "Price",
          "Price",
          "Price",
          "Price",
          "Price",
          "Price",
          "Price",
          "Price",
          "Price",
          "Price",
          "Price",
          "Price",
          "Price",
          "Price",
          "Price",
          "Price",
          "Price",
          "Price",
          "Price",
          "Price",
          "Price",
          "Price",
          "Price",
          "Price",
          "Price",
          "Price",
          "Price",
          "Price",
          "Price",
          "Price",
          "Price",
          "Price",
          "Price",
          "Price",
          "Price",
          "Price",
          "Price",
          "Price",
          "Price",
          "Price",
          "Price",
          "Price",
          "Price",
          "Price",
          "Price",
          "Price",
          "Price",
          "Price",
          "Price",
          "Price",
          "Price",
          "Price",
          "Price",
          "Price",
          "Price",
          "Price",
          "Price",
          "Price",
          "Price",
          "Price",
          "Price",
          "Price",
          "Price",
          "Price",
          "Price",
          "Price",
          "Price",
          "Price",
          "Price",
          "Price",
          "Price",
          "Price",
          "Price",
          "Price",
          "Price",
          "Price",
          "Price",
          "Price",
          "Price",
          "Price",
          "Price",
          "Price",
          "Price",
          "Price",
          "Price",
          "Price",
          "Price",
          "Price",
          "Price",
          "Price",
          "Price",
          "Price",
          "Price",
          "Price",
          "Price",
          "Price",
          "Price",
          "Price",
          "Price",
          "Price",
          "Price",
          "Price",
          "Price",
          "Price",
          "Price",
          "Price",
          "Price",
          "Price",
          "Price",
          "Price",
          "Price",
          "Price",
          "Price",
          "Price",
          "Price",
          "Price",
          "Price",
          "Price",
          "Price",
          "Price",
          "Price",
          "Price",
          "Price",
          "Price",
          "Price",
          "Price",
          "Price",
          "Price",
          "Price",
          "Price",
          "Price",
          "Price",
          "Price",
          "Price",
          "Price",
          "Price",
          "Price",
          "Price",
          "Price",
          "Price",
          "Price",
          "Price",
          "Price",
          "Price",
          "Price",
          "Price",
          "Price",
          "Price",
          "Price",
          "Price",
          "Price",
          "Price",
          "Price",
          "Price",
          "Price",
          "Price",
          "Price",
          "Price",
          "Price",
          "Price",
          "Price",
          "Price",
          "Price",
          "Price",
          "Price",
          "Price",
          "Price",
          "Price",
          "Price",
          "Price",
          "Price",
          "Price",
          "Price",
          "Price",
          "Price",
          "Price",
          "Price",
          "Price",
          "Price",
          "Price",
          "Price",
          "Price",
          "Price",
          "Price",
          "Price",
          "Price",
          "Price",
          "Price",
          "Price",
          "Price",
          "Price",
          "Price",
          "Price",
          "Price",
          "Price",
          "Price",
          "Price",
          "Price",
          "Price",
          "Price",
          "Price",
          "Price",
          "Price",
          "Price",
          "Price",
          "Price",
          "Price",
          "Price",
          "Price",
          "Price",
          "Price",
          "Price",
          "Price",
          "Price",
          "Price",
          "Price",
          "Price",
          "Price",
          "Price",
          "Price",
          "Price",
          "Price",
          "Price",
          "Price",
          "Price",
          "Price",
          "Price",
          "Price",
          "Price",
          "Price",
          "Price",
          "Price",
          "Price",
          "Price",
          "Price",
          "Price",
          "Price",
          "Price",
          "Price",
          "Price",
          "Price",
          "Price",
          "Price",
          "Price",
          "Price",
          "Price",
          "Price",
          "Price",
          "Price",
          "Price",
          "Price",
          "Price",
          "Price",
          "Price",
          "Price",
          "Price",
          "Price",
          "Price",
          "Price",
          "Price",
          "Price",
          "Price",
          "Price",
          "Price",
          "Price",
          "Price",
          "Price",
          "Price",
          "Price",
          "Price",
          "Price",
          "Price",
          "Price",
          "Price",
          "Price",
          "Price",
          "Price",
          "Price",
          "Price",
          "Price",
          "Price",
          "Price",
          "Price",
          "Price",
          "Price",
          "Price",
          "Price",
          "Price",
          "Price",
          "Price",
          "Price",
          "Price",
          "Price",
          "Price",
          "Price",
          "Price",
          "Price",
          "Price",
          "Price",
          "Price",
          "Price",
          "Price",
          "Price",
          "Price",
          "Price",
          "Price",
          "Price",
          "Price",
          "Price",
          "Price",
          "Price",
          "Price",
          "Price",
          "Price",
          "Price",
          "Price",
          "Price",
          "Price",
          "Price",
          "Price",
          "Price",
          "Price",
          "Price",
          "Price",
          "Price",
          "Price",
          "Price",
          "Price",
          "Price",
          "Price",
          "Price",
          "Price",
          "Price",
          "Price",
          "Price",
          "Price",
          "Price",
          "Price",
          "Price",
          "Price",
          "Price",
          "Price",
          "Price",
          "Price",
          "Price",
          "Price",
          "Price",
          "Price",
          "Price",
          "Price",
          "Price",
          "Price",
          "Price",
          "Price",
          "Price",
          "Price"
         ],
         "x0": " ",
         "xaxis": "x",
         "y": [
          0.9202,
          0.9189,
          0.9241,
          0.9256,
          0.9248,
          0.9206,
          0.9218,
          0.9179,
          0.9199,
          0.9195,
          0.9191,
          0.9169,
          0.9168,
          0.9134,
          0.9105,
          0.911,
          0.9126,
          0.9084,
          0.9081,
          0.9134,
          0.9141,
          0.9102,
          0.9093,
          0.9077,
          0.911,
          0.902,
          0.9044,
          0.9037,
          0.8989,
          0.8983,
          0.8927,
          0.8906,
          0.8898,
          0.8904,
          0.8906,
          0.8983,
          0.9083,
          0.9088,
          0.9115,
          0.9182,
          0.9211,
          0.919,
          0.9163,
          0.9163,
          0.9201,
          0.9162,
          0.9122,
          0.9168,
          0.918,
          0.9125,
          0.9101,
          0.9158,
          0.9154,
          0.914,
          0.9135,
          0.9229,
          0.9264,
          0.9295,
          0.9301,
          0.9272,
          0.9345,
          0.9351,
          0.9332,
          0.9337,
          0.929,
          0.9353,
          0.9314,
          0.9338,
          0.9323,
          0.9326,
          0.9301,
          0.9284,
          0.9246,
          0.9254,
          0.9282,
          0.9223,
          0.9204,
          0.9195,
          0.9215,
          0.9158,
          0.9104,
          0.9121,
          0.9084,
          0.9074,
          0.9079,
          0.9039,
          0.9088,
          0.9108,
          0.9071,
          0.9065,
          0.9055,
          0.9113,
          0.9054,
          0.9098,
          0.9115,
          0.9127,
          0.9112,
          0.9151,
          0.9088,
          0.9054,
          0.9097,
          0.9162,
          0.9206,
          0.9173,
          0.9153,
          0.9168,
          0.9129,
          0.9176,
          0.9223,
          0.917,
          0.9219,
          0.9221,
          0.926,
          0.9291,
          0.923,
          0.9209,
          0.9283,
          0.9326,
          0.9372,
          0.9426,
          0.9453,
          0.9317,
          0.9317,
          0.9394,
          0.9448,
          0.948,
          0.9478,
          0.9363,
          0.9402,
          0.9434,
          0.9371,
          0.9452,
          0.9424,
          0.9479,
          0.9436,
          0.943,
          0.939,
          0.9358,
          0.935,
          0.937,
          0.9354,
          0.9312,
          0.9326,
          0.9362,
          0.9311,
          0.9334,
          0.9321,
          0.9316,
          0.9262,
          0.9163,
          0.9098,
          0.9205,
          0.9218,
          0.9199,
          0.918,
          0.9158,
          0.9189,
          0.9198,
          0.921,
          0.9233,
          0.9263,
          0.9269,
          0.9242,
          0.9232,
          0.9215,
          0.9295,
          0.9313,
          0.9318,
          0.9392,
          0.9502,
          0.9431,
          0.9475,
          0.9376,
          0.9341,
          0.9379,
          0.9422,
          0.9397,
          0.9399,
          0.9418,
          0.9437,
          0.9428,
          0.9413,
          0.9426,
          0.9446,
          0.9407,
          0.9361,
          0.9404,
          0.9489,
          0.9493,
          0.9471,
          0.9517,
          0.955,
          0.953,
          0.9486,
          0.95,
          0.9607,
          0.968,
          0.967,
          0.9616,
          0.9606,
          0.9617,
          0.9703,
          0.9761,
          0.9685,
          0.9649,
          0.9619,
          0.9661,
          0.9681,
          0.9656,
          0.9794,
          0.9984,
          0.9925,
          0.9977,
          1.0036,
          1.0251,
          1.0182,
          1.0127,
          1.0114,
          1.0033,
          1.0034,
          0.992,
          1.0032,
          1.0126,
          1.0138,
          1.0218,
          1.023,
          1.0145,
          1.0161,
          1.0285,
          1.0228,
          1.0301,
          1.0302,
          1.0306,
          1.0262,
          1.0211,
          1.0117,
          1.0013,
          1.0175,
          1.0201,
          1.0185,
          1.027,
          1.0421,
          1.0405,
          1.0316,
          1.0167,
          1.0164,
          1.0027,
          0.9975,
          0.9981,
          0.9996,
          1.0016,
          1.0028,
          0.9879,
          0.9957,
          1.0001,
          0.9996,
          1.0094,
          1.0069,
          1.0045,
          1.0053,
          0.9939,
          0.9984,
          1.0001,
          1.0035,
          1.0024,
          1.0031,
          1.0029,
          1.0056,
          0.9962,
          0.9909,
          0.982,
          0.9829,
          0.9839,
          0.9745,
          0.969,
          0.9708,
          0.979,
          0.9805,
          0.9818,
          0.9759,
          0.9836,
          0.9836,
          0.9742,
          0.9783,
          0.9806,
          0.9798,
          0.9883,
          0.9781,
          0.979,
          0.9773,
          0.9822,
          0.9777,
          0.9858,
          0.991,
          0.998,
          0.9936,
          0.9959,
          0.9957,
          0.9816,
          0.984,
          0.982,
          0.9737,
          0.9592,
          0.9588,
          0.9537,
          0.9576,
          0.9505,
          0.9447,
          0.9471,
          0.9498,
          0.9463,
          0.9498,
          0.9512,
          0.9522,
          0.9477,
          0.9573,
          0.9598,
          0.9607,
          0.9507,
          0.9418,
          0.933,
          0.9343,
          0.9349,
          0.9327,
          0.9302,
          0.9388,
          0.9314,
          0.9276,
          0.9319,
          0.9321,
          0.936,
          0.9314,
          0.9352,
          0.9466,
          0.9442,
          0.9551,
          0.9478,
          0.9583,
          0.9602,
          0.9633,
          0.951,
          0.9496,
          0.9471,
          0.9474,
          0.9484,
          0.9412,
          0.9502,
          0.9518,
          0.9483,
          0.9522,
          0.9471,
          0.9399,
          0.9333,
          0.9263,
          0.9225,
          0.9212,
          0.9268,
          0.9273,
          0.9251,
          0.9233,
          0.9184,
          0.9234,
          0.9188,
          0.9191,
          0.9191,
          0.9176,
          0.9168,
          0.9112,
          0.9044,
          0.9034,
          0.896,
          0.9018,
          0.9106,
          0.9103,
          0.9092,
          0.9086,
          0.9065,
          0.9076,
          0.9049,
          0.9015,
          0.9063,
          0.9128,
          0.914,
          0.9163,
          0.9102,
          0.9027,
          0.9172,
          0.9211,
          0.9151,
          0.9035,
          0.899,
          0.8986,
          0.891,
          0.8872,
          0.8933,
          0.8839,
          0.8828,
          0.884,
          0.883,
          0.8801,
          0.8791,
          0.8803,
          0.8843,
          0.8808,
          0.875,
          0.8752,
          0.876,
          0.8739,
          0.8734,
          0.874,
          0.8845,
          0.8871,
          0.8899,
          0.8971,
          0.8971,
          0.8896,
          0.8847,
          0.8828,
          0.8815,
          0.8839,
          0.8815,
          0.8827,
          0.8763,
          0.8758,
          0.8728,
          0.8737,
          0.8797,
          0.8828,
          0.88,
          0.8853,
          0.8836,
          0.8858,
          0.8851,
          0.8794,
          0.8829,
          0.8809,
          0.8839,
          0.8826,
          0.8833,
          0.8826,
          0.8828,
          0.886,
          0.8866,
          0.8895,
          0.8825,
          0.8858,
          0.888,
          0.8861,
          0.8838,
          0.8854,
          0.8816,
          0.8874,
          0.8859,
          0.8836,
          0.8847,
          0.8833,
          0.8819,
          0.8855,
          0.8833,
          0.8921,
          0.8929,
          0.8889,
          0.8898,
          0.8857,
          0.8793,
          0.8834,
          0.8832,
          0.8794,
          0.8731,
          0.8732,
          0.8709,
          0.8624,
          0.8628,
          0.8644,
          0.8654,
          0.861,
          0.8635,
          0.8615,
          0.8647,
          0.8559,
          0.8615,
          0.8623,
          0.8613,
          0.8583,
          0.8602,
          0.8581,
          0.8594,
          0.8611,
          0.8619,
          0.8622,
          0.8625,
          0.8672,
          0.8656,
          0.8642,
          0.8655,
          0.8651,
          0.8621,
          0.8603,
          0.8622,
          0.8632,
          0.8621,
          0.8558,
          0.8549,
          0.8534,
          0.8518,
          0.8554,
          0.8527,
          0.8526,
          0.8526,
          0.8498,
          0.8461,
          0.847,
          0.8466,
          0.8463,
          0.8455,
          0.8462,
          0.8445,
          0.8423,
          0.8415,
          0.842,
          0.8446,
          0.8467,
          0.8475,
          0.8477,
          0.8508,
          0.8493,
          0.8506,
          0.8513,
          0.8548,
          0.8563,
          0.8537,
          0.8539,
          0.8488,
          0.8478,
          0.8524,
          0.8517,
          0.8531,
          0.8517,
          0.8501,
          0.8449,
          0.8447,
          0.8429,
          0.8424,
          0.8423,
          0.841,
          0.8442,
          0.8462,
          0.8472,
          0.8493,
          0.8495,
          0.8477,
          0.8487,
          0.8473,
          0.8468,
          0.8463,
          0.8447,
          0.849,
          0.843,
          0.842,
          0.8442,
          0.848,
          0.8456,
          0.8428,
          0.8426,
          0.8437,
          0.8433,
          0.8404,
          0.8384,
          0.8377,
          0.8379,
          0.8384,
          0.8374,
          0.8391,
          0.8429,
          0.8396,
          0.8337,
          0.8245,
          0.825,
          0.8258,
          0.8215,
          0.8209,
          0.8214,
          0.8203,
          0.8218,
          0.8245,
          0.8188,
          0.8187,
          0.8177,
          0.82,
          0.8199,
          0.8201,
          0.8161,
          0.8186,
          0.8208,
          0.8177,
          0.8213,
          0.8181,
          0.8227,
          0.8235,
          0.8277,
          0.8282,
          0.823,
          0.8243,
          0.822,
          0.8286,
          0.8328,
          0.8322,
          0.8288,
          0.8318,
          0.8249,
          0.8246,
          0.8269,
          0.8276,
          0.8264,
          0.8322,
          0.8308,
          0.8308,
          0.8308,
          0.8342,
          0.8355,
          0.8346,
          0.8368,
          0.8394,
          0.84,
          0.8393,
          0.8422,
          0.8419,
          0.8464,
          0.8499,
          0.849,
          0.8524,
          0.8534,
          0.8499,
          0.8478,
          0.85,
          0.8465,
          0.8437,
          0.8377,
          0.84,
          0.8392,
          0.8347,
          0.8401,
          0.8381,
          0.8364,
          0.8342,
          0.8383,
          0.8402,
          0.8441,
          0.839,
          0.8354,
          0.8288,
          0.8269,
          0.8298,
          0.828,
          0.8211,
          0.822,
          0.823,
          0.8225,
          0.825,
          0.827,
          0.8306,
          0.8258,
          0.8243,
          0.8249,
          0.8243,
          0.8251,
          0.825,
          0.8299,
          0.8302,
          0.8359,
          0.831,
          0.8302,
          0.8291,
          0.8239,
          0.8247,
          0.8256,
          0.8222,
          0.8237,
          0.8218,
          0.822,
          0.8259,
          0.8244,
          0.8278,
          0.8277,
          0.8224,
          0.8225,
          0.8191,
          0.8228,
          0.8183,
          0.8147,
          0.8111,
          0.813,
          0.8162
         ],
         "y0": " ",
         "yaxis": "y"
        }
       ],
       "layout": {
        "autosize": false,
        "boxmode": "group",
        "height": 600,
        "legend": {
         "tracegroupgap": 0
        },
        "template": {
         "data": {
          "bar": [
           {
            "error_x": {
             "color": "#2a3f5f"
            },
            "error_y": {
             "color": "#2a3f5f"
            },
            "marker": {
             "line": {
              "color": "#E5ECF6",
              "width": 0.5
             },
             "pattern": {
              "fillmode": "overlay",
              "size": 10,
              "solidity": 0.2
             }
            },
            "type": "bar"
           }
          ],
          "barpolar": [
           {
            "marker": {
             "line": {
              "color": "#E5ECF6",
              "width": 0.5
             },
             "pattern": {
              "fillmode": "overlay",
              "size": 10,
              "solidity": 0.2
             }
            },
            "type": "barpolar"
           }
          ],
          "carpet": [
           {
            "aaxis": {
             "endlinecolor": "#2a3f5f",
             "gridcolor": "white",
             "linecolor": "white",
             "minorgridcolor": "white",
             "startlinecolor": "#2a3f5f"
            },
            "baxis": {
             "endlinecolor": "#2a3f5f",
             "gridcolor": "white",
             "linecolor": "white",
             "minorgridcolor": "white",
             "startlinecolor": "#2a3f5f"
            },
            "type": "carpet"
           }
          ],
          "choropleth": [
           {
            "colorbar": {
             "outlinewidth": 0,
             "ticks": ""
            },
            "type": "choropleth"
           }
          ],
          "contour": [
           {
            "colorbar": {
             "outlinewidth": 0,
             "ticks": ""
            },
            "colorscale": [
             [
              0,
              "#0d0887"
             ],
             [
              0.1111111111111111,
              "#46039f"
             ],
             [
              0.2222222222222222,
              "#7201a8"
             ],
             [
              0.3333333333333333,
              "#9c179e"
             ],
             [
              0.4444444444444444,
              "#bd3786"
             ],
             [
              0.5555555555555556,
              "#d8576b"
             ],
             [
              0.6666666666666666,
              "#ed7953"
             ],
             [
              0.7777777777777778,
              "#fb9f3a"
             ],
             [
              0.8888888888888888,
              "#fdca26"
             ],
             [
              1,
              "#f0f921"
             ]
            ],
            "type": "contour"
           }
          ],
          "contourcarpet": [
           {
            "colorbar": {
             "outlinewidth": 0,
             "ticks": ""
            },
            "type": "contourcarpet"
           }
          ],
          "heatmap": [
           {
            "colorbar": {
             "outlinewidth": 0,
             "ticks": ""
            },
            "colorscale": [
             [
              0,
              "#0d0887"
             ],
             [
              0.1111111111111111,
              "#46039f"
             ],
             [
              0.2222222222222222,
              "#7201a8"
             ],
             [
              0.3333333333333333,
              "#9c179e"
             ],
             [
              0.4444444444444444,
              "#bd3786"
             ],
             [
              0.5555555555555556,
              "#d8576b"
             ],
             [
              0.6666666666666666,
              "#ed7953"
             ],
             [
              0.7777777777777778,
              "#fb9f3a"
             ],
             [
              0.8888888888888888,
              "#fdca26"
             ],
             [
              1,
              "#f0f921"
             ]
            ],
            "type": "heatmap"
           }
          ],
          "heatmapgl": [
           {
            "colorbar": {
             "outlinewidth": 0,
             "ticks": ""
            },
            "colorscale": [
             [
              0,
              "#0d0887"
             ],
             [
              0.1111111111111111,
              "#46039f"
             ],
             [
              0.2222222222222222,
              "#7201a8"
             ],
             [
              0.3333333333333333,
              "#9c179e"
             ],
             [
              0.4444444444444444,
              "#bd3786"
             ],
             [
              0.5555555555555556,
              "#d8576b"
             ],
             [
              0.6666666666666666,
              "#ed7953"
             ],
             [
              0.7777777777777778,
              "#fb9f3a"
             ],
             [
              0.8888888888888888,
              "#fdca26"
             ],
             [
              1,
              "#f0f921"
             ]
            ],
            "type": "heatmapgl"
           }
          ],
          "histogram": [
           {
            "marker": {
             "pattern": {
              "fillmode": "overlay",
              "size": 10,
              "solidity": 0.2
             }
            },
            "type": "histogram"
           }
          ],
          "histogram2d": [
           {
            "colorbar": {
             "outlinewidth": 0,
             "ticks": ""
            },
            "colorscale": [
             [
              0,
              "#0d0887"
             ],
             [
              0.1111111111111111,
              "#46039f"
             ],
             [
              0.2222222222222222,
              "#7201a8"
             ],
             [
              0.3333333333333333,
              "#9c179e"
             ],
             [
              0.4444444444444444,
              "#bd3786"
             ],
             [
              0.5555555555555556,
              "#d8576b"
             ],
             [
              0.6666666666666666,
              "#ed7953"
             ],
             [
              0.7777777777777778,
              "#fb9f3a"
             ],
             [
              0.8888888888888888,
              "#fdca26"
             ],
             [
              1,
              "#f0f921"
             ]
            ],
            "type": "histogram2d"
           }
          ],
          "histogram2dcontour": [
           {
            "colorbar": {
             "outlinewidth": 0,
             "ticks": ""
            },
            "colorscale": [
             [
              0,
              "#0d0887"
             ],
             [
              0.1111111111111111,
              "#46039f"
             ],
             [
              0.2222222222222222,
              "#7201a8"
             ],
             [
              0.3333333333333333,
              "#9c179e"
             ],
             [
              0.4444444444444444,
              "#bd3786"
             ],
             [
              0.5555555555555556,
              "#d8576b"
             ],
             [
              0.6666666666666666,
              "#ed7953"
             ],
             [
              0.7777777777777778,
              "#fb9f3a"
             ],
             [
              0.8888888888888888,
              "#fdca26"
             ],
             [
              1,
              "#f0f921"
             ]
            ],
            "type": "histogram2dcontour"
           }
          ],
          "mesh3d": [
           {
            "colorbar": {
             "outlinewidth": 0,
             "ticks": ""
            },
            "type": "mesh3d"
           }
          ],
          "parcoords": [
           {
            "line": {
             "colorbar": {
              "outlinewidth": 0,
              "ticks": ""
             }
            },
            "type": "parcoords"
           }
          ],
          "pie": [
           {
            "automargin": true,
            "type": "pie"
           }
          ],
          "scatter": [
           {
            "marker": {
             "colorbar": {
              "outlinewidth": 0,
              "ticks": ""
             }
            },
            "type": "scatter"
           }
          ],
          "scatter3d": [
           {
            "line": {
             "colorbar": {
              "outlinewidth": 0,
              "ticks": ""
             }
            },
            "marker": {
             "colorbar": {
              "outlinewidth": 0,
              "ticks": ""
             }
            },
            "type": "scatter3d"
           }
          ],
          "scattercarpet": [
           {
            "marker": {
             "colorbar": {
              "outlinewidth": 0,
              "ticks": ""
             }
            },
            "type": "scattercarpet"
           }
          ],
          "scattergeo": [
           {
            "marker": {
             "colorbar": {
              "outlinewidth": 0,
              "ticks": ""
             }
            },
            "type": "scattergeo"
           }
          ],
          "scattergl": [
           {
            "marker": {
             "colorbar": {
              "outlinewidth": 0,
              "ticks": ""
             }
            },
            "type": "scattergl"
           }
          ],
          "scattermapbox": [
           {
            "marker": {
             "colorbar": {
              "outlinewidth": 0,
              "ticks": ""
             }
            },
            "type": "scattermapbox"
           }
          ],
          "scatterpolar": [
           {
            "marker": {
             "colorbar": {
              "outlinewidth": 0,
              "ticks": ""
             }
            },
            "type": "scatterpolar"
           }
          ],
          "scatterpolargl": [
           {
            "marker": {
             "colorbar": {
              "outlinewidth": 0,
              "ticks": ""
             }
            },
            "type": "scatterpolargl"
           }
          ],
          "scatterternary": [
           {
            "marker": {
             "colorbar": {
              "outlinewidth": 0,
              "ticks": ""
             }
            },
            "type": "scatterternary"
           }
          ],
          "surface": [
           {
            "colorbar": {
             "outlinewidth": 0,
             "ticks": ""
            },
            "colorscale": [
             [
              0,
              "#0d0887"
             ],
             [
              0.1111111111111111,
              "#46039f"
             ],
             [
              0.2222222222222222,
              "#7201a8"
             ],
             [
              0.3333333333333333,
              "#9c179e"
             ],
             [
              0.4444444444444444,
              "#bd3786"
             ],
             [
              0.5555555555555556,
              "#d8576b"
             ],
             [
              0.6666666666666666,
              "#ed7953"
             ],
             [
              0.7777777777777778,
              "#fb9f3a"
             ],
             [
              0.8888888888888888,
              "#fdca26"
             ],
             [
              1,
              "#f0f921"
             ]
            ],
            "type": "surface"
           }
          ],
          "table": [
           {
            "cells": {
             "fill": {
              "color": "#EBF0F8"
             },
             "line": {
              "color": "white"
             }
            },
            "header": {
             "fill": {
              "color": "#C8D4E3"
             },
             "line": {
              "color": "white"
             }
            },
            "type": "table"
           }
          ]
         },
         "layout": {
          "annotationdefaults": {
           "arrowcolor": "#2a3f5f",
           "arrowhead": 0,
           "arrowwidth": 1
          },
          "autotypenumbers": "strict",
          "coloraxis": {
           "colorbar": {
            "outlinewidth": 0,
            "ticks": ""
           }
          },
          "colorscale": {
           "diverging": [
            [
             0,
             "#8e0152"
            ],
            [
             0.1,
             "#c51b7d"
            ],
            [
             0.2,
             "#de77ae"
            ],
            [
             0.3,
             "#f1b6da"
            ],
            [
             0.4,
             "#fde0ef"
            ],
            [
             0.5,
             "#f7f7f7"
            ],
            [
             0.6,
             "#e6f5d0"
            ],
            [
             0.7,
             "#b8e186"
            ],
            [
             0.8,
             "#7fbc41"
            ],
            [
             0.9,
             "#4d9221"
            ],
            [
             1,
             "#276419"
            ]
           ],
           "sequential": [
            [
             0,
             "#0d0887"
            ],
            [
             0.1111111111111111,
             "#46039f"
            ],
            [
             0.2222222222222222,
             "#7201a8"
            ],
            [
             0.3333333333333333,
             "#9c179e"
            ],
            [
             0.4444444444444444,
             "#bd3786"
            ],
            [
             0.5555555555555556,
             "#d8576b"
            ],
            [
             0.6666666666666666,
             "#ed7953"
            ],
            [
             0.7777777777777778,
             "#fb9f3a"
            ],
            [
             0.8888888888888888,
             "#fdca26"
            ],
            [
             1,
             "#f0f921"
            ]
           ],
           "sequentialminus": [
            [
             0,
             "#0d0887"
            ],
            [
             0.1111111111111111,
             "#46039f"
            ],
            [
             0.2222222222222222,
             "#7201a8"
            ],
            [
             0.3333333333333333,
             "#9c179e"
            ],
            [
             0.4444444444444444,
             "#bd3786"
            ],
            [
             0.5555555555555556,
             "#d8576b"
            ],
            [
             0.6666666666666666,
             "#ed7953"
            ],
            [
             0.7777777777777778,
             "#fb9f3a"
            ],
            [
             0.8888888888888888,
             "#fdca26"
            ],
            [
             1,
             "#f0f921"
            ]
           ]
          },
          "colorway": [
           "#636efa",
           "#EF553B",
           "#00cc96",
           "#ab63fa",
           "#FFA15A",
           "#19d3f3",
           "#FF6692",
           "#B6E880",
           "#FF97FF",
           "#FECB52"
          ],
          "font": {
           "color": "#2a3f5f"
          },
          "geo": {
           "bgcolor": "white",
           "lakecolor": "white",
           "landcolor": "#E5ECF6",
           "showlakes": true,
           "showland": true,
           "subunitcolor": "white"
          },
          "hoverlabel": {
           "align": "left"
          },
          "hovermode": "closest",
          "mapbox": {
           "style": "light"
          },
          "paper_bgcolor": "white",
          "plot_bgcolor": "#E5ECF6",
          "polar": {
           "angularaxis": {
            "gridcolor": "white",
            "linecolor": "white",
            "ticks": ""
           },
           "bgcolor": "#E5ECF6",
           "radialaxis": {
            "gridcolor": "white",
            "linecolor": "white",
            "ticks": ""
           }
          },
          "scene": {
           "xaxis": {
            "backgroundcolor": "#E5ECF6",
            "gridcolor": "white",
            "gridwidth": 2,
            "linecolor": "white",
            "showbackground": true,
            "ticks": "",
            "zerolinecolor": "white"
           },
           "yaxis": {
            "backgroundcolor": "#E5ECF6",
            "gridcolor": "white",
            "gridwidth": 2,
            "linecolor": "white",
            "showbackground": true,
            "ticks": "",
            "zerolinecolor": "white"
           },
           "zaxis": {
            "backgroundcolor": "#E5ECF6",
            "gridcolor": "white",
            "gridwidth": 2,
            "linecolor": "white",
            "showbackground": true,
            "ticks": "",
            "zerolinecolor": "white"
           }
          },
          "shapedefaults": {
           "line": {
            "color": "#2a3f5f"
           }
          },
          "ternary": {
           "aaxis": {
            "gridcolor": "white",
            "linecolor": "white",
            "ticks": ""
           },
           "baxis": {
            "gridcolor": "white",
            "linecolor": "white",
            "ticks": ""
           },
           "bgcolor": "#E5ECF6",
           "caxis": {
            "gridcolor": "white",
            "linecolor": "white",
            "ticks": ""
           }
          },
          "title": {
           "x": 0.05
          },
          "xaxis": {
           "automargin": true,
           "gridcolor": "white",
           "linecolor": "white",
           "ticks": "",
           "title": {
            "standoff": 15
           },
           "zerolinecolor": "white",
           "zerolinewidth": 2
          },
          "yaxis": {
           "automargin": true,
           "gridcolor": "white",
           "linecolor": "white",
           "ticks": "",
           "title": {
            "standoff": 15
           },
           "zerolinecolor": "white",
           "zerolinewidth": 2
          }
         }
        },
        "title": {
         "text": "Outlier Detection for prices  USD/EUR  "
        },
        "width": 800,
        "xaxis": {
         "anchor": "y",
         "domain": [
          0,
          1
         ],
         "title": {
          "text": "variable"
         }
        },
        "yaxis": {
         "anchor": "x",
         "domain": [
          0,
          1
         ],
         "title": {
          "text": "value"
         }
        }
       }
      }
     },
     "metadata": {},
     "output_type": "display_data"
    }
   ],
   "source": [
    "import plotly.express as px\n",
    "import numpy as np\n",
    "\n",
    "\n",
    "# Create a box plot with Plotly\n",
    "fig = px.box(data['Price'], title='Outlier Detection for prices  USD/EUR  ')\n",
    "\n",
    "fig.update_layout(\n",
    "    autosize=False,\n",
    "    width=800,\n",
    "    height=600,)\n",
    "# Show the plot\n",
    "fig.show()"
   ]
  },
  {
   "cell_type": "code",
   "execution_count": 24,
   "metadata": {},
   "outputs": [
    {
     "data": {
      "application/vnd.plotly.v1+json": {
       "config": {
        "plotlyServerURL": "https://plot.ly"
       },
       "data": [
        {
         "colorscale": [
          [
           0,
           "#440154"
          ],
          [
           0.1111111111111111,
           "#482878"
          ],
          [
           0.2222222222222222,
           "#3e4989"
          ],
          [
           0.3333333333333333,
           "#31688e"
          ],
          [
           0.4444444444444444,
           "#26828e"
          ],
          [
           0.5555555555555556,
           "#1f9e89"
          ],
          [
           0.6666666666666666,
           "#35b779"
          ],
          [
           0.7777777777777778,
           "#6ece58"
          ],
          [
           0.8888888888888888,
           "#b5de2b"
          ],
          [
           1,
           "#fde725"
          ]
         ],
         "reversescale": false,
         "showscale": true,
         "type": "heatmap",
         "x": [
          "Day",
          "Price",
          "Month",
          "Year"
         ],
         "y": [
          "Day",
          "Price",
          "Month",
          "Year"
         ],
         "z": [
          [
           1,
           0.0204,
           0.0137,
           0.0008
          ],
          [
           0.0204,
           1,
           0.2904,
           0.6004
          ],
          [
           0.0137,
           0.2904,
           1,
           -0.225
          ],
          [
           0.0008,
           0.6004,
           -0.225,
           1
          ]
         ]
        }
       ],
       "layout": {
        "annotations": [
         {
          "font": {
           "color": "#000000"
          },
          "showarrow": false,
          "text": "1.0",
          "x": "Day",
          "xref": "x",
          "y": "Day",
          "yref": "y"
         },
         {
          "font": {
           "color": "#FFFFFF"
          },
          "showarrow": false,
          "text": "0.0204",
          "x": "Price",
          "xref": "x",
          "y": "Day",
          "yref": "y"
         },
         {
          "font": {
           "color": "#FFFFFF"
          },
          "showarrow": false,
          "text": "0.0137",
          "x": "Month",
          "xref": "x",
          "y": "Day",
          "yref": "y"
         },
         {
          "font": {
           "color": "#FFFFFF"
          },
          "showarrow": false,
          "text": "0.0008",
          "x": "Year",
          "xref": "x",
          "y": "Day",
          "yref": "y"
         },
         {
          "font": {
           "color": "#FFFFFF"
          },
          "showarrow": false,
          "text": "0.0204",
          "x": "Day",
          "xref": "x",
          "y": "Price",
          "yref": "y"
         },
         {
          "font": {
           "color": "#000000"
          },
          "showarrow": false,
          "text": "1.0",
          "x": "Price",
          "xref": "x",
          "y": "Price",
          "yref": "y"
         },
         {
          "font": {
           "color": "#FFFFFF"
          },
          "showarrow": false,
          "text": "0.2904",
          "x": "Month",
          "xref": "x",
          "y": "Price",
          "yref": "y"
         },
         {
          "font": {
           "color": "#000000"
          },
          "showarrow": false,
          "text": "0.6004",
          "x": "Year",
          "xref": "x",
          "y": "Price",
          "yref": "y"
         },
         {
          "font": {
           "color": "#FFFFFF"
          },
          "showarrow": false,
          "text": "0.0137",
          "x": "Day",
          "xref": "x",
          "y": "Month",
          "yref": "y"
         },
         {
          "font": {
           "color": "#FFFFFF"
          },
          "showarrow": false,
          "text": "0.2904",
          "x": "Price",
          "xref": "x",
          "y": "Month",
          "yref": "y"
         },
         {
          "font": {
           "color": "#000000"
          },
          "showarrow": false,
          "text": "1.0",
          "x": "Month",
          "xref": "x",
          "y": "Month",
          "yref": "y"
         },
         {
          "font": {
           "color": "#FFFFFF"
          },
          "showarrow": false,
          "text": "-0.225",
          "x": "Year",
          "xref": "x",
          "y": "Month",
          "yref": "y"
         },
         {
          "font": {
           "color": "#FFFFFF"
          },
          "showarrow": false,
          "text": "0.0008",
          "x": "Day",
          "xref": "x",
          "y": "Year",
          "yref": "y"
         },
         {
          "font": {
           "color": "#000000"
          },
          "showarrow": false,
          "text": "0.6004",
          "x": "Price",
          "xref": "x",
          "y": "Year",
          "yref": "y"
         },
         {
          "font": {
           "color": "#FFFFFF"
          },
          "showarrow": false,
          "text": "-0.225",
          "x": "Month",
          "xref": "x",
          "y": "Year",
          "yref": "y"
         },
         {
          "font": {
           "color": "#000000"
          },
          "showarrow": false,
          "text": "1.0",
          "x": "Year",
          "xref": "x",
          "y": "Year",
          "yref": "y"
         }
        ],
        "autosize": false,
        "height": 600,
        "template": {
         "data": {
          "bar": [
           {
            "error_x": {
             "color": "#2a3f5f"
            },
            "error_y": {
             "color": "#2a3f5f"
            },
            "marker": {
             "line": {
              "color": "#E5ECF6",
              "width": 0.5
             },
             "pattern": {
              "fillmode": "overlay",
              "size": 10,
              "solidity": 0.2
             }
            },
            "type": "bar"
           }
          ],
          "barpolar": [
           {
            "marker": {
             "line": {
              "color": "#E5ECF6",
              "width": 0.5
             },
             "pattern": {
              "fillmode": "overlay",
              "size": 10,
              "solidity": 0.2
             }
            },
            "type": "barpolar"
           }
          ],
          "carpet": [
           {
            "aaxis": {
             "endlinecolor": "#2a3f5f",
             "gridcolor": "white",
             "linecolor": "white",
             "minorgridcolor": "white",
             "startlinecolor": "#2a3f5f"
            },
            "baxis": {
             "endlinecolor": "#2a3f5f",
             "gridcolor": "white",
             "linecolor": "white",
             "minorgridcolor": "white",
             "startlinecolor": "#2a3f5f"
            },
            "type": "carpet"
           }
          ],
          "choropleth": [
           {
            "colorbar": {
             "outlinewidth": 0,
             "ticks": ""
            },
            "type": "choropleth"
           }
          ],
          "contour": [
           {
            "colorbar": {
             "outlinewidth": 0,
             "ticks": ""
            },
            "colorscale": [
             [
              0,
              "#0d0887"
             ],
             [
              0.1111111111111111,
              "#46039f"
             ],
             [
              0.2222222222222222,
              "#7201a8"
             ],
             [
              0.3333333333333333,
              "#9c179e"
             ],
             [
              0.4444444444444444,
              "#bd3786"
             ],
             [
              0.5555555555555556,
              "#d8576b"
             ],
             [
              0.6666666666666666,
              "#ed7953"
             ],
             [
              0.7777777777777778,
              "#fb9f3a"
             ],
             [
              0.8888888888888888,
              "#fdca26"
             ],
             [
              1,
              "#f0f921"
             ]
            ],
            "type": "contour"
           }
          ],
          "contourcarpet": [
           {
            "colorbar": {
             "outlinewidth": 0,
             "ticks": ""
            },
            "type": "contourcarpet"
           }
          ],
          "heatmap": [
           {
            "colorbar": {
             "outlinewidth": 0,
             "ticks": ""
            },
            "colorscale": [
             [
              0,
              "#0d0887"
             ],
             [
              0.1111111111111111,
              "#46039f"
             ],
             [
              0.2222222222222222,
              "#7201a8"
             ],
             [
              0.3333333333333333,
              "#9c179e"
             ],
             [
              0.4444444444444444,
              "#bd3786"
             ],
             [
              0.5555555555555556,
              "#d8576b"
             ],
             [
              0.6666666666666666,
              "#ed7953"
             ],
             [
              0.7777777777777778,
              "#fb9f3a"
             ],
             [
              0.8888888888888888,
              "#fdca26"
             ],
             [
              1,
              "#f0f921"
             ]
            ],
            "type": "heatmap"
           }
          ],
          "heatmapgl": [
           {
            "colorbar": {
             "outlinewidth": 0,
             "ticks": ""
            },
            "colorscale": [
             [
              0,
              "#0d0887"
             ],
             [
              0.1111111111111111,
              "#46039f"
             ],
             [
              0.2222222222222222,
              "#7201a8"
             ],
             [
              0.3333333333333333,
              "#9c179e"
             ],
             [
              0.4444444444444444,
              "#bd3786"
             ],
             [
              0.5555555555555556,
              "#d8576b"
             ],
             [
              0.6666666666666666,
              "#ed7953"
             ],
             [
              0.7777777777777778,
              "#fb9f3a"
             ],
             [
              0.8888888888888888,
              "#fdca26"
             ],
             [
              1,
              "#f0f921"
             ]
            ],
            "type": "heatmapgl"
           }
          ],
          "histogram": [
           {
            "marker": {
             "pattern": {
              "fillmode": "overlay",
              "size": 10,
              "solidity": 0.2
             }
            },
            "type": "histogram"
           }
          ],
          "histogram2d": [
           {
            "colorbar": {
             "outlinewidth": 0,
             "ticks": ""
            },
            "colorscale": [
             [
              0,
              "#0d0887"
             ],
             [
              0.1111111111111111,
              "#46039f"
             ],
             [
              0.2222222222222222,
              "#7201a8"
             ],
             [
              0.3333333333333333,
              "#9c179e"
             ],
             [
              0.4444444444444444,
              "#bd3786"
             ],
             [
              0.5555555555555556,
              "#d8576b"
             ],
             [
              0.6666666666666666,
              "#ed7953"
             ],
             [
              0.7777777777777778,
              "#fb9f3a"
             ],
             [
              0.8888888888888888,
              "#fdca26"
             ],
             [
              1,
              "#f0f921"
             ]
            ],
            "type": "histogram2d"
           }
          ],
          "histogram2dcontour": [
           {
            "colorbar": {
             "outlinewidth": 0,
             "ticks": ""
            },
            "colorscale": [
             [
              0,
              "#0d0887"
             ],
             [
              0.1111111111111111,
              "#46039f"
             ],
             [
              0.2222222222222222,
              "#7201a8"
             ],
             [
              0.3333333333333333,
              "#9c179e"
             ],
             [
              0.4444444444444444,
              "#bd3786"
             ],
             [
              0.5555555555555556,
              "#d8576b"
             ],
             [
              0.6666666666666666,
              "#ed7953"
             ],
             [
              0.7777777777777778,
              "#fb9f3a"
             ],
             [
              0.8888888888888888,
              "#fdca26"
             ],
             [
              1,
              "#f0f921"
             ]
            ],
            "type": "histogram2dcontour"
           }
          ],
          "mesh3d": [
           {
            "colorbar": {
             "outlinewidth": 0,
             "ticks": ""
            },
            "type": "mesh3d"
           }
          ],
          "parcoords": [
           {
            "line": {
             "colorbar": {
              "outlinewidth": 0,
              "ticks": ""
             }
            },
            "type": "parcoords"
           }
          ],
          "pie": [
           {
            "automargin": true,
            "type": "pie"
           }
          ],
          "scatter": [
           {
            "marker": {
             "colorbar": {
              "outlinewidth": 0,
              "ticks": ""
             }
            },
            "type": "scatter"
           }
          ],
          "scatter3d": [
           {
            "line": {
             "colorbar": {
              "outlinewidth": 0,
              "ticks": ""
             }
            },
            "marker": {
             "colorbar": {
              "outlinewidth": 0,
              "ticks": ""
             }
            },
            "type": "scatter3d"
           }
          ],
          "scattercarpet": [
           {
            "marker": {
             "colorbar": {
              "outlinewidth": 0,
              "ticks": ""
             }
            },
            "type": "scattercarpet"
           }
          ],
          "scattergeo": [
           {
            "marker": {
             "colorbar": {
              "outlinewidth": 0,
              "ticks": ""
             }
            },
            "type": "scattergeo"
           }
          ],
          "scattergl": [
           {
            "marker": {
             "colorbar": {
              "outlinewidth": 0,
              "ticks": ""
             }
            },
            "type": "scattergl"
           }
          ],
          "scattermapbox": [
           {
            "marker": {
             "colorbar": {
              "outlinewidth": 0,
              "ticks": ""
             }
            },
            "type": "scattermapbox"
           }
          ],
          "scatterpolar": [
           {
            "marker": {
             "colorbar": {
              "outlinewidth": 0,
              "ticks": ""
             }
            },
            "type": "scatterpolar"
           }
          ],
          "scatterpolargl": [
           {
            "marker": {
             "colorbar": {
              "outlinewidth": 0,
              "ticks": ""
             }
            },
            "type": "scatterpolargl"
           }
          ],
          "scatterternary": [
           {
            "marker": {
             "colorbar": {
              "outlinewidth": 0,
              "ticks": ""
             }
            },
            "type": "scatterternary"
           }
          ],
          "surface": [
           {
            "colorbar": {
             "outlinewidth": 0,
             "ticks": ""
            },
            "colorscale": [
             [
              0,
              "#0d0887"
             ],
             [
              0.1111111111111111,
              "#46039f"
             ],
             [
              0.2222222222222222,
              "#7201a8"
             ],
             [
              0.3333333333333333,
              "#9c179e"
             ],
             [
              0.4444444444444444,
              "#bd3786"
             ],
             [
              0.5555555555555556,
              "#d8576b"
             ],
             [
              0.6666666666666666,
              "#ed7953"
             ],
             [
              0.7777777777777778,
              "#fb9f3a"
             ],
             [
              0.8888888888888888,
              "#fdca26"
             ],
             [
              1,
              "#f0f921"
             ]
            ],
            "type": "surface"
           }
          ],
          "table": [
           {
            "cells": {
             "fill": {
              "color": "#EBF0F8"
             },
             "line": {
              "color": "white"
             }
            },
            "header": {
             "fill": {
              "color": "#C8D4E3"
             },
             "line": {
              "color": "white"
             }
            },
            "type": "table"
           }
          ]
         },
         "layout": {
          "annotationdefaults": {
           "arrowcolor": "#2a3f5f",
           "arrowhead": 0,
           "arrowwidth": 1
          },
          "autotypenumbers": "strict",
          "coloraxis": {
           "colorbar": {
            "outlinewidth": 0,
            "ticks": ""
           }
          },
          "colorscale": {
           "diverging": [
            [
             0,
             "#8e0152"
            ],
            [
             0.1,
             "#c51b7d"
            ],
            [
             0.2,
             "#de77ae"
            ],
            [
             0.3,
             "#f1b6da"
            ],
            [
             0.4,
             "#fde0ef"
            ],
            [
             0.5,
             "#f7f7f7"
            ],
            [
             0.6,
             "#e6f5d0"
            ],
            [
             0.7,
             "#b8e186"
            ],
            [
             0.8,
             "#7fbc41"
            ],
            [
             0.9,
             "#4d9221"
            ],
            [
             1,
             "#276419"
            ]
           ],
           "sequential": [
            [
             0,
             "#0d0887"
            ],
            [
             0.1111111111111111,
             "#46039f"
            ],
            [
             0.2222222222222222,
             "#7201a8"
            ],
            [
             0.3333333333333333,
             "#9c179e"
            ],
            [
             0.4444444444444444,
             "#bd3786"
            ],
            [
             0.5555555555555556,
             "#d8576b"
            ],
            [
             0.6666666666666666,
             "#ed7953"
            ],
            [
             0.7777777777777778,
             "#fb9f3a"
            ],
            [
             0.8888888888888888,
             "#fdca26"
            ],
            [
             1,
             "#f0f921"
            ]
           ],
           "sequentialminus": [
            [
             0,
             "#0d0887"
            ],
            [
             0.1111111111111111,
             "#46039f"
            ],
            [
             0.2222222222222222,
             "#7201a8"
            ],
            [
             0.3333333333333333,
             "#9c179e"
            ],
            [
             0.4444444444444444,
             "#bd3786"
            ],
            [
             0.5555555555555556,
             "#d8576b"
            ],
            [
             0.6666666666666666,
             "#ed7953"
            ],
            [
             0.7777777777777778,
             "#fb9f3a"
            ],
            [
             0.8888888888888888,
             "#fdca26"
            ],
            [
             1,
             "#f0f921"
            ]
           ]
          },
          "colorway": [
           "#636efa",
           "#EF553B",
           "#00cc96",
           "#ab63fa",
           "#FFA15A",
           "#19d3f3",
           "#FF6692",
           "#B6E880",
           "#FF97FF",
           "#FECB52"
          ],
          "font": {
           "color": "#2a3f5f"
          },
          "geo": {
           "bgcolor": "white",
           "lakecolor": "white",
           "landcolor": "#E5ECF6",
           "showlakes": true,
           "showland": true,
           "subunitcolor": "white"
          },
          "hoverlabel": {
           "align": "left"
          },
          "hovermode": "closest",
          "mapbox": {
           "style": "light"
          },
          "paper_bgcolor": "white",
          "plot_bgcolor": "#E5ECF6",
          "polar": {
           "angularaxis": {
            "gridcolor": "white",
            "linecolor": "white",
            "ticks": ""
           },
           "bgcolor": "#E5ECF6",
           "radialaxis": {
            "gridcolor": "white",
            "linecolor": "white",
            "ticks": ""
           }
          },
          "scene": {
           "xaxis": {
            "backgroundcolor": "#E5ECF6",
            "gridcolor": "white",
            "gridwidth": 2,
            "linecolor": "white",
            "showbackground": true,
            "ticks": "",
            "zerolinecolor": "white"
           },
           "yaxis": {
            "backgroundcolor": "#E5ECF6",
            "gridcolor": "white",
            "gridwidth": 2,
            "linecolor": "white",
            "showbackground": true,
            "ticks": "",
            "zerolinecolor": "white"
           },
           "zaxis": {
            "backgroundcolor": "#E5ECF6",
            "gridcolor": "white",
            "gridwidth": 2,
            "linecolor": "white",
            "showbackground": true,
            "ticks": "",
            "zerolinecolor": "white"
           }
          },
          "shapedefaults": {
           "line": {
            "color": "#2a3f5f"
           }
          },
          "ternary": {
           "aaxis": {
            "gridcolor": "white",
            "linecolor": "white",
            "ticks": ""
           },
           "baxis": {
            "gridcolor": "white",
            "linecolor": "white",
            "ticks": ""
           },
           "bgcolor": "#E5ECF6",
           "caxis": {
            "gridcolor": "white",
            "linecolor": "white",
            "ticks": ""
           }
          },
          "title": {
           "x": 0.05
          },
          "xaxis": {
           "automargin": true,
           "gridcolor": "white",
           "linecolor": "white",
           "ticks": "",
           "title": {
            "standoff": 15
           },
           "zerolinecolor": "white",
           "zerolinewidth": 2
          },
          "yaxis": {
           "automargin": true,
           "gridcolor": "white",
           "linecolor": "white",
           "ticks": "",
           "title": {
            "standoff": 15
           },
           "zerolinecolor": "white",
           "zerolinewidth": 2
          }
         }
        },
        "title": {
         "text": "Correlation Heatmap"
        },
        "width": 800,
        "xaxis": {
         "dtick": 1,
         "gridcolor": "rgb(0, 0, 0)",
         "side": "top",
         "ticks": "",
         "title": {
          "text": "Variables"
         }
        },
        "yaxis": {
         "dtick": 1,
         "ticks": "",
         "ticksuffix": "  ",
         "title": {
          "text": "Variables"
         }
        }
       }
      }
     },
     "metadata": {},
     "output_type": "display_data"
    }
   ],
   "source": [
    "import pandas as pd\n",
    "import plotly.figure_factory as ff\n",
    "\n",
    "\n",
    "correlation_matrix = data[['Day','Price','Month','Year',]].corr()\n",
    "\n",
    "fig = ff.create_annotated_heatmap(\n",
    "    z=correlation_matrix.values.round(4),\n",
    "    x=list(correlation_matrix.columns),\n",
    "    y=list(correlation_matrix.index),\n",
    "    colorscale='Viridis',\n",
    "    showscale=True\n",
    ")\n",
    "\n",
    "fig.update_layout(\n",
    "    title='Correlation Heatmap',\n",
    "    \n",
    "    xaxis=dict(title='Variables'),\n",
    "    yaxis=dict(title='Variables'),\n",
    "\n",
    "\n",
    "    autosize=False,\n",
    "    width=800,\n",
    "    height=600,\n",
    "    \n",
    ")\n",
    "\n",
    "fig.show()\n",
    "\n"
   ]
  },
  {
   "cell_type": "code",
   "execution_count": 25,
   "metadata": {},
   "outputs": [],
   "source": [
    "from sklearn.linear_model import LinearRegression\n",
    "#from sklearn.linear_model import LinearRegression\n"
   ]
  },
  {
   "cell_type": "code",
   "execution_count": 26,
   "metadata": {},
   "outputs": [],
   "source": [
    "# Prepare data for modeling by defining target and feature\n",
    "X = data[['Day']]  # X needs to be 2-dimensional so we need double brackets here\n",
    "y = data['Price']"
   ]
  },
  {
   "cell_type": "code",
   "execution_count": 27,
   "metadata": {},
   "outputs": [
    {
     "data": {
      "text/plain": [
       "(693, 1)"
      ]
     },
     "execution_count": 27,
     "metadata": {},
     "output_type": "execute_result"
    }
   ],
   "source": [
    "X.shape"
   ]
  },
  {
   "cell_type": "code",
   "execution_count": 28,
   "metadata": {},
   "outputs": [],
   "source": [
    "from sklearn.model_selection import train_test_split\n",
    "X_train, X_test, y_train, y_test = train_test_split(X, y, test_size=0.2, random_state=42)"
   ]
  },
  {
   "cell_type": "code",
   "execution_count": 29,
   "metadata": {},
   "outputs": [
    {
     "data": {
      "text/html": [
       "<style>#sk-container-id-1 {color: black;background-color: white;}#sk-container-id-1 pre{padding: 0;}#sk-container-id-1 div.sk-toggleable {background-color: white;}#sk-container-id-1 label.sk-toggleable__label {cursor: pointer;display: block;width: 100%;margin-bottom: 0;padding: 0.3em;box-sizing: border-box;text-align: center;}#sk-container-id-1 label.sk-toggleable__label-arrow:before {content: \"▸\";float: left;margin-right: 0.25em;color: #696969;}#sk-container-id-1 label.sk-toggleable__label-arrow:hover:before {color: black;}#sk-container-id-1 div.sk-estimator:hover label.sk-toggleable__label-arrow:before {color: black;}#sk-container-id-1 div.sk-toggleable__content {max-height: 0;max-width: 0;overflow: hidden;text-align: left;background-color: #f0f8ff;}#sk-container-id-1 div.sk-toggleable__content pre {margin: 0.2em;color: black;border-radius: 0.25em;background-color: #f0f8ff;}#sk-container-id-1 input.sk-toggleable__control:checked~div.sk-toggleable__content {max-height: 200px;max-width: 100%;overflow: auto;}#sk-container-id-1 input.sk-toggleable__control:checked~label.sk-toggleable__label-arrow:before {content: \"▾\";}#sk-container-id-1 div.sk-estimator input.sk-toggleable__control:checked~label.sk-toggleable__label {background-color: #d4ebff;}#sk-container-id-1 div.sk-label input.sk-toggleable__control:checked~label.sk-toggleable__label {background-color: #d4ebff;}#sk-container-id-1 input.sk-hidden--visually {border: 0;clip: rect(1px 1px 1px 1px);clip: rect(1px, 1px, 1px, 1px);height: 1px;margin: -1px;overflow: hidden;padding: 0;position: absolute;width: 1px;}#sk-container-id-1 div.sk-estimator {font-family: monospace;background-color: #f0f8ff;border: 1px dotted black;border-radius: 0.25em;box-sizing: border-box;margin-bottom: 0.5em;}#sk-container-id-1 div.sk-estimator:hover {background-color: #d4ebff;}#sk-container-id-1 div.sk-parallel-item::after {content: \"\";width: 100%;border-bottom: 1px solid gray;flex-grow: 1;}#sk-container-id-1 div.sk-label:hover label.sk-toggleable__label {background-color: #d4ebff;}#sk-container-id-1 div.sk-serial::before {content: \"\";position: absolute;border-left: 1px solid gray;box-sizing: border-box;top: 0;bottom: 0;left: 50%;z-index: 0;}#sk-container-id-1 div.sk-serial {display: flex;flex-direction: column;align-items: center;background-color: white;padding-right: 0.2em;padding-left: 0.2em;position: relative;}#sk-container-id-1 div.sk-item {position: relative;z-index: 1;}#sk-container-id-1 div.sk-parallel {display: flex;align-items: stretch;justify-content: center;background-color: white;position: relative;}#sk-container-id-1 div.sk-item::before, #sk-container-id-1 div.sk-parallel-item::before {content: \"\";position: absolute;border-left: 1px solid gray;box-sizing: border-box;top: 0;bottom: 0;left: 50%;z-index: -1;}#sk-container-id-1 div.sk-parallel-item {display: flex;flex-direction: column;z-index: 1;position: relative;background-color: white;}#sk-container-id-1 div.sk-parallel-item:first-child::after {align-self: flex-end;width: 50%;}#sk-container-id-1 div.sk-parallel-item:last-child::after {align-self: flex-start;width: 50%;}#sk-container-id-1 div.sk-parallel-item:only-child::after {width: 0;}#sk-container-id-1 div.sk-dashed-wrapped {border: 1px dashed gray;margin: 0 0.4em 0.5em 0.4em;box-sizing: border-box;padding-bottom: 0.4em;background-color: white;}#sk-container-id-1 div.sk-label label {font-family: monospace;font-weight: bold;display: inline-block;line-height: 1.2em;}#sk-container-id-1 div.sk-label-container {text-align: center;}#sk-container-id-1 div.sk-container {/* jupyter's `normalize.less` sets `[hidden] { display: none; }` but bootstrap.min.css set `[hidden] { display: none !important; }` so we also need the `!important` here to be able to override the default hidden behavior on the sphinx rendered scikit-learn.org. See: https://github.com/scikit-learn/scikit-learn/issues/21755 */display: inline-block !important;position: relative;}#sk-container-id-1 div.sk-text-repr-fallback {display: none;}</style><div id=\"sk-container-id-1\" class=\"sk-top-container\"><div class=\"sk-text-repr-fallback\"><pre>LinearRegression()</pre><b>In a Jupyter environment, please rerun this cell to show the HTML representation or trust the notebook. <br />On GitHub, the HTML representation is unable to render, please try loading this page with nbviewer.org.</b></div><div class=\"sk-container\" hidden><div class=\"sk-item\"><div class=\"sk-estimator sk-toggleable\"><input class=\"sk-toggleable__control sk-hidden--visually\" id=\"sk-estimator-id-1\" type=\"checkbox\" checked><label for=\"sk-estimator-id-1\" class=\"sk-toggleable__label sk-toggleable__label-arrow\">LinearRegression</label><div class=\"sk-toggleable__content\"><pre>LinearRegression()</pre></div></div></div></div></div>"
      ],
      "text/plain": [
       "LinearRegression()"
      ]
     },
     "execution_count": 29,
     "metadata": {},
     "output_type": "execute_result"
    }
   ],
   "source": [
    "# Instantiate our model \n",
    "lin_reg = LinearRegression()\n",
    "\n",
    "# Train the model using our data\n",
    "lin_reg.fit(X_train, y_train)"
   ]
  },
  {
   "cell_type": "code",
   "execution_count": 30,
   "metadata": {},
   "outputs": [
    {
     "name": "stdout",
     "output_type": "stream",
     "text": [
      "Model intercept: 0.8988600069811108\n",
      "Coefficient for feature weight: 0.0002618225717136622\n"
     ]
    }
   ],
   "source": [
    "# Intercept and slope/coefficient can be accessed via .intercept_ and .coef_\n",
    "intercept = lin_reg.intercept_\n",
    "slope = lin_reg.coef_[0]\n",
    "print(\"Model intercept:\", intercept)\n",
    "print(\"Coefficient for feature weight:\", slope)"
   ]
  },
  {
   "cell_type": "code",
   "execution_count": 31,
   "metadata": {},
   "outputs": [],
   "source": [
    "# Import r-squared from sklearn\n",
    "from sklearn.metrics import r2_score\n",
    "from sklearn.metrics import mean_squared_error"
   ]
  },
  {
   "cell_type": "code",
   "execution_count": 32,
   "metadata": {},
   "outputs": [
    {
     "name": "stdout",
     "output_type": "stream",
     "text": [
      "R-squared: -0.021\n",
      "Mean Squared Error: 0.0032549117579095906\n",
      "Mean absolute percentage error : 5.2988 %\n",
      "Mean absolute  error : 0.0482 \n"
     ]
    }
   ],
   "source": [
    "from my_method import mean_absolute_error\n",
    "from my_method import mean_absolute_percentage_error\n",
    "# Calculate the estimated value for each data point\n",
    "y_hat = lin_reg.predict(X_test)\n",
    "\n",
    "\n",
    "# Calculate the R-squared for our model to evaluate metrics of  model and it's efficient \n",
    "print(\"R-squared:\", r2_score(y_test, y_hat).round(3))\n",
    "\n",
    "# Evaluate the model error by mean square error \n",
    "mse = mean_squared_error(y_test, y_hat)\n",
    "print(f\"Mean Squared Error: {mse}\")\n",
    "\n",
    "# Evaluate the model error by mean absolute percentage error \n",
    "mape = mean_absolute_percentage_error(y_test, y_hat)\n",
    "print(f\"Mean absolute percentage error : {mape.round(4)} %\")\n",
    "\n",
    "\n",
    "# Evaluate the model error by mean absolute  error \n",
    "mae = mean_absolute_error(y_test, y_hat)\n",
    "print(f\"Mean absolute  error : {mae.round(4)} \")\n",
    "\n",
    "\n"
   ]
  },
  {
   "cell_type": "code",
   "execution_count": 33,
   "metadata": {},
   "outputs": [],
   "source": [
    "from sklearn.linear_model import ElasticNet\n",
    "from sklearn.model_selection import train_test_split\n",
    "from sklearn.metrics import mean_squared_error\n",
    "\n",
    "# Load and preprocess your dataset, split into X (features) and y (target variable)\n",
    "\n",
    "# Split the data into training and testing sets\n",
    "X_train, X_test, y_train, y_test = train_test_split(X, y, test_size=0.2, random_state=42)\n",
    "\n"
   ]
  },
  {
   "cell_type": "code",
   "execution_count": 34,
   "metadata": {},
   "outputs": [
    {
     "data": {
      "text/html": [
       "<style>#sk-container-id-2 {color: black;background-color: white;}#sk-container-id-2 pre{padding: 0;}#sk-container-id-2 div.sk-toggleable {background-color: white;}#sk-container-id-2 label.sk-toggleable__label {cursor: pointer;display: block;width: 100%;margin-bottom: 0;padding: 0.3em;box-sizing: border-box;text-align: center;}#sk-container-id-2 label.sk-toggleable__label-arrow:before {content: \"▸\";float: left;margin-right: 0.25em;color: #696969;}#sk-container-id-2 label.sk-toggleable__label-arrow:hover:before {color: black;}#sk-container-id-2 div.sk-estimator:hover label.sk-toggleable__label-arrow:before {color: black;}#sk-container-id-2 div.sk-toggleable__content {max-height: 0;max-width: 0;overflow: hidden;text-align: left;background-color: #f0f8ff;}#sk-container-id-2 div.sk-toggleable__content pre {margin: 0.2em;color: black;border-radius: 0.25em;background-color: #f0f8ff;}#sk-container-id-2 input.sk-toggleable__control:checked~div.sk-toggleable__content {max-height: 200px;max-width: 100%;overflow: auto;}#sk-container-id-2 input.sk-toggleable__control:checked~label.sk-toggleable__label-arrow:before {content: \"▾\";}#sk-container-id-2 div.sk-estimator input.sk-toggleable__control:checked~label.sk-toggleable__label {background-color: #d4ebff;}#sk-container-id-2 div.sk-label input.sk-toggleable__control:checked~label.sk-toggleable__label {background-color: #d4ebff;}#sk-container-id-2 input.sk-hidden--visually {border: 0;clip: rect(1px 1px 1px 1px);clip: rect(1px, 1px, 1px, 1px);height: 1px;margin: -1px;overflow: hidden;padding: 0;position: absolute;width: 1px;}#sk-container-id-2 div.sk-estimator {font-family: monospace;background-color: #f0f8ff;border: 1px dotted black;border-radius: 0.25em;box-sizing: border-box;margin-bottom: 0.5em;}#sk-container-id-2 div.sk-estimator:hover {background-color: #d4ebff;}#sk-container-id-2 div.sk-parallel-item::after {content: \"\";width: 100%;border-bottom: 1px solid gray;flex-grow: 1;}#sk-container-id-2 div.sk-label:hover label.sk-toggleable__label {background-color: #d4ebff;}#sk-container-id-2 div.sk-serial::before {content: \"\";position: absolute;border-left: 1px solid gray;box-sizing: border-box;top: 0;bottom: 0;left: 50%;z-index: 0;}#sk-container-id-2 div.sk-serial {display: flex;flex-direction: column;align-items: center;background-color: white;padding-right: 0.2em;padding-left: 0.2em;position: relative;}#sk-container-id-2 div.sk-item {position: relative;z-index: 1;}#sk-container-id-2 div.sk-parallel {display: flex;align-items: stretch;justify-content: center;background-color: white;position: relative;}#sk-container-id-2 div.sk-item::before, #sk-container-id-2 div.sk-parallel-item::before {content: \"\";position: absolute;border-left: 1px solid gray;box-sizing: border-box;top: 0;bottom: 0;left: 50%;z-index: -1;}#sk-container-id-2 div.sk-parallel-item {display: flex;flex-direction: column;z-index: 1;position: relative;background-color: white;}#sk-container-id-2 div.sk-parallel-item:first-child::after {align-self: flex-end;width: 50%;}#sk-container-id-2 div.sk-parallel-item:last-child::after {align-self: flex-start;width: 50%;}#sk-container-id-2 div.sk-parallel-item:only-child::after {width: 0;}#sk-container-id-2 div.sk-dashed-wrapped {border: 1px dashed gray;margin: 0 0.4em 0.5em 0.4em;box-sizing: border-box;padding-bottom: 0.4em;background-color: white;}#sk-container-id-2 div.sk-label label {font-family: monospace;font-weight: bold;display: inline-block;line-height: 1.2em;}#sk-container-id-2 div.sk-label-container {text-align: center;}#sk-container-id-2 div.sk-container {/* jupyter's `normalize.less` sets `[hidden] { display: none; }` but bootstrap.min.css set `[hidden] { display: none !important; }` so we also need the `!important` here to be able to override the default hidden behavior on the sphinx rendered scikit-learn.org. See: https://github.com/scikit-learn/scikit-learn/issues/21755 */display: inline-block !important;position: relative;}#sk-container-id-2 div.sk-text-repr-fallback {display: none;}</style><div id=\"sk-container-id-2\" class=\"sk-top-container\"><div class=\"sk-text-repr-fallback\"><pre>ElasticNet(alpha=0.5)</pre><b>In a Jupyter environment, please rerun this cell to show the HTML representation or trust the notebook. <br />On GitHub, the HTML representation is unable to render, please try loading this page with nbviewer.org.</b></div><div class=\"sk-container\" hidden><div class=\"sk-item\"><div class=\"sk-estimator sk-toggleable\"><input class=\"sk-toggleable__control sk-hidden--visually\" id=\"sk-estimator-id-2\" type=\"checkbox\" checked><label for=\"sk-estimator-id-2\" class=\"sk-toggleable__label sk-toggleable__label-arrow\">ElasticNet</label><div class=\"sk-toggleable__content\"><pre>ElasticNet(alpha=0.5)</pre></div></div></div></div></div>"
      ],
      "text/plain": [
       "ElasticNet(alpha=0.5)"
      ]
     },
     "execution_count": 34,
     "metadata": {},
     "output_type": "execute_result"
    }
   ],
   "source": [
    "# Create and train an Elastic Net regression model\n",
    "elastic_net = ElasticNet(alpha=0.5, l1_ratio=0.5)  # You can adjust alpha and l1_ratio\n",
    "elastic_net.fit(X_train, y_train)\n",
    "\n"
   ]
  },
  {
   "cell_type": "code",
   "execution_count": 35,
   "metadata": {},
   "outputs": [
    {
     "name": "stdout",
     "output_type": "stream",
     "text": [
      "R-squared: -0.014\n",
      "Mean Squared Error: 0.0032\n",
      "Mean absolute percentage error : 5.2862 %\n",
      "Mean absolute  error : 0.0482 \n"
     ]
    }
   ],
   "source": [
    "from my_method import mean_absolute_error\n",
    "from my_method import mean_absolute_percentage_error\n",
    "# Make predictions\n",
    "y_pred = elastic_net.predict(X_test)\n",
    "\n",
    "# Evaluate the model by R_2\n",
    "print(\"R-squared:\", r2_score(y_test, y_pred).round(3))\n",
    "\n",
    "# Evaluate the model error by mean square error \n",
    "mse = mean_squared_error(y_test, y_pred)\n",
    "print(f\"Mean Squared Error: {mse.round(4)}\")\n",
    "\n",
    "\n",
    "\n",
    "#  Evaluate the model error by mean absolute percentage error \n",
    "mape =mean_absolute_percentage_error(y_test, y_pred)\n",
    "print(f\"Mean absolute percentage error : {mape.round(4)} %\")\n",
    "\n",
    "\n",
    "\n",
    "# Evaluate the model error by mean absolute error \n",
    "mae = mean_absolute_error(y_test, y_hat)\n",
    "print(f\"Mean absolute  error : {mae.round(4)} \")\n",
    "\n",
    "# Use the trained model for making predictions on new data\n",
    "#new_data_predictions = elastic_net.predict(new_data)"
   ]
  }
 ],
 "metadata": {
  "kernelspec": {
   "display_name": "Python 3",
   "language": "python",
   "name": "python3"
  },
  "language_info": {
   "codemirror_mode": {
    "name": "ipython",
    "version": 3
   },
   "file_extension": ".py",
   "mimetype": "text/x-python",
   "name": "python",
   "nbconvert_exporter": "python",
   "pygments_lexer": "ipython3",
   "version": "3.9.8"
  },
  "orig_nbformat": 4
 },
 "nbformat": 4,
 "nbformat_minor": 2
}
